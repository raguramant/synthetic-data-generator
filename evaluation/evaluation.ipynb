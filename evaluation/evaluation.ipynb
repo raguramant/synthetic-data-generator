{
 "cells": [
  {
   "cell_type": "code",
   "execution_count": null,
   "id": "6ef21912",
   "metadata": {},
   "outputs": [],
   "source": []
  },
  {
   "cell_type": "markdown",
   "id": "02b5f461",
   "metadata": {},
   "source": [
    "### Evaluation"
   ]
  },
  {
   "cell_type": "code",
   "execution_count": null,
   "id": "3e8b8136",
   "metadata": {},
   "outputs": [],
   "source": [
    "from transformers import BitsAndBytesConfig\n",
    "#Model configs\n",
    "\n",
    "model_name = \"mistralai/Mistral-7B-Instruct-v0.3\"\n",
    "checkpoint_dir = \"../output/checkpoints\"\n",
    "model_output_dir = \"../output/final_adapter\"\n",
    "training_data = \"../data/combinations.jsonl\"\n",
    "\n",
    "quantization_config = BitsAndBytesConfig(\n",
    "    load_in_4bit=True,\n",
    "    bnb_4bit_use_double_quant=True,\n",
    "    bnb_4bit_compute_dtype=\"float16\",\n",
    "    bnb_4bit_quant_type=\"nf4\"\n",
    ")"
   ]
  },
  {
   "cell_type": "code",
   "execution_count": null,
   "id": "78af39bf",
   "metadata": {},
   "outputs": [
    {
     "name": "stdout",
     "output_type": "stream",
     "text": [
      "Sun Jul 27 15:53:50 2025       \n",
      "+-----------------------------------------------------------------------------------------+\n",
      "| NVIDIA-SMI 576.40                 Driver Version: 576.40         CUDA Version: 12.9     |\n",
      "|-----------------------------------------+------------------------+----------------------+\n",
      "| GPU  Name                  Driver-Model | Bus-Id          Disp.A | Volatile Uncorr. ECC |\n",
      "| Fan  Temp   Perf          Pwr:Usage/Cap |           Memory-Usage | GPU-Util  Compute M. |\n",
      "|                                         |                        |               MIG M. |\n",
      "|=========================================+========================+======================|\n",
      "|   0  NVIDIA GeForce RTX 5070 Ti   WDDM  |   00000000:01:00.0 Off |                  N/A |\n",
      "|  0%   42C    P8             19W /  300W |    6658MiB /  16303MiB |      0%      Default |\n",
      "|                                         |                        |                  N/A |\n",
      "+-----------------------------------------+------------------------+----------------------+\n",
      "                                                                                         \n",
      "+-----------------------------------------------------------------------------------------+\n",
      "| Processes:                                                                              |\n",
      "|  GPU   GI   CI              PID   Type   Process name                        GPU Memory |\n",
      "|        ID   ID                                                               Usage      |\n",
      "|=========================================================================================|\n",
      "|    0   N/A  N/A             812      C   ...s\\Admin\\miniconda3\\python.exe      N/A      |\n",
      "|    0   N/A  N/A           16176      C   ...s\\Admin\\miniconda3\\python.exe      N/A      |\n",
      "+-----------------------------------------------------------------------------------------+\n"
     ]
    }
   ],
   "source": [
    "! nvidia-smi"
   ]
  },
  {
   "cell_type": "code",
   "execution_count": null,
   "id": "bdcf5407",
   "metadata": {},
   "outputs": [],
   "source": [
    "from datasets import load_dataset, Dataset, DatasetDict\n",
    "\n",
    "\n",
    "# load the dataset and split it into train, validation and test sets\n",
    "dataset = load_dataset(\"json\", data_files=training_data, split='train')\n",
    "shuffled_dataset = dataset.shuffle(seed=42)\n",
    "train_temp_split = shuffled_dataset.train_test_split(test_size=0.3) #30% for validation and test\n",
    "temp_dataset = train_temp_split['test']\n",
    "validation_test_split = temp_dataset.train_test_split(test_size=1/3)# 10% for validation and 20% for test\n",
    "split_datasets = DatasetDict({\n",
    "    'train': train_temp_split['train'],\n",
    "    'validation': validation_test_split['train'],\n",
    "    'test': validation_test_split['test']\n",
    "})"
   ]
  },
  {
   "cell_type": "code",
   "execution_count": null,
   "id": "228faf52",
   "metadata": {},
   "outputs": [],
   "source": [
    "import json\n",
    "import re\n",
    "import numpy as np\n",
    "import torch\n",
    "from jsonschema import validate, ValidationError\n",
    "from transformers import AutoModelForCausalLM, AutoTokenizer\n",
    "from peft import PeftModel\n",
    "\n",
    "# function to extact JSON from a string\n",
    "def extract_json_from_string(input_string):\n",
    "    try:\n",
    "        # Use a regular expression to find the first JSON object in the string\n",
    "        json_match = re.search(r'\\{.*?\\}', input_string, re.DOTALL)\n",
    "        if json_match:\n",
    "            json_str = json_match.group(0)  # Extract the JSON string\n",
    "            return json.loads(json_str)  # Parse and return the JSON object\n",
    "        else:\n",
    "            print(\"No JSON object found in the string.\")\n",
    "            return None\n",
    "    except json.JSONDecodeError as e:\n",
    "        print(f\"Error decoding JSON: {e}\")\n",
    "        print(input_string)\n",
    "        return None\n",
    "\n",
    "\n",
    "# Validate a JSON string against a schema\n",
    "def is_valid_json_schema(json_generated, schema):\n",
    "    try:\n",
    "        validate(instance=json_generated, schema=schema)\n",
    "        return True\n",
    "    except (json.JSONDecodeError, ValidationError):\n",
    "        return False\n",
    "    \n",
    "# Compare two JSON strings at field level and match field values\n",
    "def compare_json_field_values(json_ref, json_gen):\n",
    "    obj1=json_ref\n",
    "    obj2=json_gen\n",
    "    matching_fields = []\n",
    "    matching_values = 0\n",
    "    total_fields = max(len(obj1), len(obj2))\n",
    "    for key in obj1:\n",
    "        if key in obj2:\n",
    "            matching_fields.append(key)\n",
    "            if obj1[key] == obj2[key]:\n",
    "                matching_values += 1\n",
    "    score = matching_values\n",
    "    percentage = score / total_fields if total_fields > 0 else 0\n",
    "    result = {\n",
    "        \"matching_fields\": matching_fields,\n",
    "        \"matching_values\": score,\n",
    "        \"total_fields\": total_fields,\n",
    "        \"percentage\": percentage\n",
    "    }\n",
    "    return result['percentage']\n",
    "\n",
    "\n",
    "def test_model(adapter_dir, test_dataset):\n",
    "\n",
    "    torch.cuda.empty_cache()\n",
    "\n",
    "    valid_json = []\n",
    "    valid_json_schema = []\n",
    "    comparison_results = []\n",
    "    \n",
    "    base_model = AutoModelForCausalLM.from_pretrained(model_name, \n",
    "                                                    quantization_config=quantization_config , \n",
    "                                                    device_map=\"auto\")\n",
    "    \n",
    "    model = PeftModel.from_pretrained(base_model, model_output_dir)\n",
    "    tokenizer = AutoTokenizer.from_pretrained(model_output_dir)\n",
    "\n",
    "    for i, row in enumerate(test_dataset):\n",
    "\n",
    "        if( i == 1):\n",
    "            break\n",
    "\n",
    "        prompt = f\"<s><INST>{row['messages'][0]['content']}</INST>\"\n",
    "        inputs = tokenizer(prompt, return_tensors=\"pt\").to(\"cuda\")\n",
    "\n",
    "        with torch.no_grad():\n",
    "            output = model.generate(\n",
    "                **inputs,\n",
    "                max_new_tokens=1000,\n",
    "                temperature=0.7,\n",
    "                do_sample=True,\n",
    "                top_p=0.9,\n",
    "                eos_token_id=tokenizer.eos_token_id\n",
    "            )\n",
    "\n",
    "        generated_text = tokenizer.decode(output[0], skip_special_tokens=True)\n",
    "        \n",
    "        if(\"</INST>\" in generated_text):\n",
    "            generated_json = extract_json_from_string(generated_text.split(\"<INST>\")[-1].strip())\n",
    "            gold_json = extract_json_from_string(row['messages'][1]['content'])\n",
    "            schema = extract_json_from_string(generated_text.split(\"<INST>\")[-2].strip())\n",
    "        \n",
    "        if generated_json is not None:\n",
    "            valid_json.append(True)\n",
    "        else:\n",
    "            valid_json.append(False)\n",
    "\n",
    "        \n",
    "        if schema is not None:\n",
    "            if generated_json is not None and is_valid_json_schema(generated_json, schema):\n",
    "                valid_json_schema.append(True)\n",
    "            else:\n",
    "                valid_json_schema.append(False)\n",
    "        \n",
    "        if gold_json is not None:\n",
    "            if generated_json is not None:\n",
    "                comparison_score = compare_json_field_values(gold_json, generated_json)\n",
    "            else:\n",
    "                comparison_score = 0.0\n",
    "            comparison_results.append(comparison_score)\n",
    "\n",
    "    \n",
    "    result = {\n",
    "        \"valid_json\": np.mean(valid_json) * 100,\n",
    "        \"valid_json_schema\": np.mean(valid_json_schema) * 100,\n",
    "        \"comparison_results\": np.mean(comparison_results) * 100\n",
    "    }\n",
    "    \n",
    "    return result\n",
    "    "
   ]
  },
  {
   "cell_type": "code",
   "execution_count": null,
   "id": "d2004234",
   "metadata": {},
   "outputs": [
    {
     "data": {
      "application/vnd.jupyter.widget-view+json": {
       "model_id": "84fa3e4e7e7d43578b1704e82fa3a16f",
       "version_major": 2,
       "version_minor": 0
      },
      "text/plain": [
       "Loading checkpoint shards:   0%|          | 0/3 [00:00<?, ?it/s]"
      ]
     },
     "metadata": {},
     "output_type": "display_data"
    },
    {
     "name": "stderr",
     "output_type": "stream",
     "text": [
      "Setting `pad_token_id` to `eos_token_id`:2 for open-end generation.\n"
     ]
    },
    {
     "name": "stdout",
     "output_type": "stream",
     "text": [
      "Error decoding JSON: Expecting ',' delimiter: line 1 column 422 (char 421)\n",
      "You are a Json test data generator generating valid json data based on a json schema. Given the below schema,\n",
      "\n",
      "    ### Schema: {\"$schema\": \"http://json-schema.org/draft-07/schema#\", \"title\": \"X12 NM1 Segment\", \"description\": \"Schema for X12 NM1 segment, which contains subscriber's or organization name information.\", \"type\": \"object\", \"properties\": {\"entity_identifier_code\": {\"type\": \"string\", \"description\": \"Entity Identifier Code (e.g., IL for Insured or 03 for dependent or PR for Payer or 1P for Provider)\", \"enum\": [\"IL\", \"03\", \"PR\", \"1P\"]}, \"entity_type_qualifier\": {\"type\": \"string\", \"description\": \"Entity Type Qualifier (1 = Person, 2 = Non-Person Entity)\", \"enum\": [\"1\", \"2\"]}, \"name_last_or_organizationName\": {\"type\": \"string\", \"description\": \"Name Last or Organization Name\", \"minLength\": 1, \"maxLength\": 60}, \"name_first\": {\"type\": \"string\", \"description\": \"Name First\", \"nullable\": true, \"minLength\": 1, \"maxLength\": 35}, \"name_middle\": {\"type\": \"string\", \"description\": \"Name Middle\", \"nullable\": true, \"minLength\": 1, \"maxLength\": 25}, \"name_prefix\": {\"type\": \"string\", \"description\": \"Name Prefix\", \"nullable\": true, \"minLength\": 1, \"maxLength\": 10}, \"name_suffix\": {\"type\": \"string\", \"description\": \"Name Suffix\", \"nullable\": true, \"minLength\": 1, \"maxLength\": 10}, \"identification_code_qualifier\": {\"type\": \"string\", \"description\": \"Identification Code Qualifier (e.g., MI = Member ID, XX = National Provider Identifier, SV = Service Provider Number, FI = Federal Tax ID, PI = Payer Identifier, ZZ = Mutually Defined)\", \"enum\": [\"MI\", \"XX\", \"SV\", \"FI\", \"PI\", \"ZZ\"], \"nullable\": true}, \"identification_code\": {\"type\": \"string\", \"description\": \"Identification Code\", \"nullable\": true, \"minLength\": 2, \"maxLength\": 80}, \"nm1_segment\": {\"type\": \"string\", \"description\": \"NM1 Segment format of the data (e.g., NM1*IL*1*DOE*JOHN****MI*123456789~)\", \"nullable\": true, \"maxLength\": 255}}, \"required\": [\"entity_identifier_code\", \"entity_type_qualifier\", \"name_last_or_organizationName\", \"nm1_segment\"]}\n",
      "\n",
      "    Create a JSON object that contains all properties\n",
      "    </INST> {\"entity_identifier_code\": \"1P\", \"entity_type_qualifier\": \"2\", \"name_last_or_organizationName\": \"Kim\", \"name_first\": \"Nathan\", \"name_middle\": \"B\", \"name_prefix\": \"Mr.\", \"name_suffix\": \"MD\", \"identification_code_qualifier\": \"SV\", \"identification_code\": \"JdTcDdWYsQdZjPkYbGdPzRsMwGj\", \"nm1_segment\": \"NM1*1P*2*Kim*Nathan*B*Mr.*MD*SV*JdTcDdWYsQdZjPkYbGdPzRsMwGj~\"}\n",
      "No JSON object found in the string.\n"
     ]
    },
    {
     "name": "stderr",
     "output_type": "stream",
     "text": [
      "c:\\Users\\Admin\\miniconda3\\Lib\\site-packages\\numpy\\_core\\fromnumeric.py:3860: RuntimeWarning: Mean of empty slice.\n",
      "  return _methods._mean(a, axis=axis, dtype=dtype,\n",
      "c:\\Users\\Admin\\miniconda3\\Lib\\site-packages\\numpy\\_core\\_methods.py:145: RuntimeWarning: invalid value encountered in scalar divide\n",
      "  ret = ret.dtype.type(ret / rcount)\n"
     ]
    },
    {
     "data": {
      "text/plain": [
       "{'valid_json': np.float64(0.0),\n",
       " 'valid_json_schema': np.float64(nan),\n",
       " 'comparison_results': np.float64(0.0)}"
      ]
     },
     "execution_count": 5,
     "metadata": {},
     "output_type": "execute_result"
    }
   ],
   "source": [
    "test_model(model_output_dir, split_datasets[\"test\"])"
   ]
  },
  {
   "cell_type": "code",
   "execution_count": null,
   "id": "22413643",
   "metadata": {},
   "outputs": [
    {
     "name": "stdout",
     "output_type": "stream",
     "text": [
      "--- Match Found ---\n",
      "{\"$schema\": \"http://json-schema.org/draft-07/schema#\", \"title\": \"X12 NM1 Segment\", \"description\": \"Schema for X12 NM1 segment, which contains subscriber's or organization name information.\", \"type\": \"object\", \"properties\": {\"entity_identifier_code\": {\"type\": \"string\", \"description\": \"Entity Identifier Code (e.g., IL for Insured or 03 for dependent or PR for Payer or 1P for Provider)\", \"enum\": [\"IL\", \"03\", \"PR\", \"1P\"]}\n"
     ]
    }
   ],
   "source": [
    "import re\n",
    "\n",
    "# A string with a JSON object embedded inside, spanning multiple lines.\n",
    "input_string = \"\"\"\n",
    "You are a Json test data generator generating valid json data based on a json schema. Given the below schema,\n",
    "\n",
    "    ### Schema: {\"$schema\": \"http://json-schema.org/draft-07/schema#\", \"title\": \"X12 NM1 Segment\", \"description\": \"Schema for X12 NM1 segment, which contains subscriber's or organization name information.\", \"type\": \"object\", \"properties\": {\"entity_identifier_code\": {\"type\": \"string\", \"description\": \"Entity Identifier Code (e.g., IL for Insured or 03 for dependent or PR for Payer or 1P for Provider)\", \"enum\": [\"IL\", \"03\", \"PR\", \"1P\"]}, \"entity_type_qualifier\": {\"type\": \"string\", \"description\": \"Entity Type Qualifier (1 = Person, 2 = Non-Person Entity)\", \"enum\": [\"1\", \"2\"]}, \"name_last_or_organizationName\": {\"type\": \"string\", \"description\": \"Name Last or Organization Name\", \"minLength\": 1, \"maxLength\": 60}, \"name_first\": {\"type\": \"string\", \"description\": \"Name First\", \"nullable\": true, \"minLength\": 1, \"maxLength\": 35}, \"name_middle\": {\"type\": \"string\", \"description\": \"Name Middle\", \"nullable\": true, \"minLength\": 1, \"maxLength\": 25}, \"name_prefix\": {\"type\": \"string\", \"description\": \"Name Prefix\", \"nullable\": true, \"minLength\": 1, \"maxLength\": 10}, \"name_suffix\": {\"type\": \"string\", \"description\": \"Name Suffix\", \"nullable\": true, \"minLength\": 1, \"maxLength\": 10}, \"identification_code_qualifier\": {\"type\": \"string\", \"description\": \"Identification Code Qualifier (e.g., MI = Member ID, XX = National Provider Identifier, SV = Service Provider Number, FI = Federal Tax ID, PI = Payer Identifier, ZZ = Mutually Defined)\", \"enum\": [\"MI\", \"XX\", \"SV\", \"FI\", \"PI\", \"ZZ\"], \"nullable\": true}, \"identification_code\": {\"type\": \"string\", \"description\": \"Identification Code\", \"nullable\": true, \"minLength\": 2, \"maxLength\": 80}, \"nm1_segment\": {\"type\": \"string\", \"description\": \"NM1 Segment format of the data (e.g., NM1*IL*1*DOE*JOHN****MI*123456789~)\", \"nullable\": true, \"maxLength\": 255}}, \"required\": [\"entity_identifier_code\", \"entity_type_qualifier\", \"name_last_or_organizationName\", \"nm1_segment\"]}\n",
    "\n",
    "    Create a JSON object that contains all properties\n",
    "    </INST> {\"entity_identifier_code\": \"1P\", \"entity_type_qualifier\": \"2\", \"name_last_or_organizationName\": \"Kim\", \"name_first\": \"Nathan\", \"name_middle\": \"B\", \"name_prefix\": \"Mr.\", \"name_suffix\": \"MD\", \"identification_code_qualifier\": \"SV\", \"identification_code\": \"JdTcDdWYsQdZjPkYbGdPzRsMwGj\", \"nm1_segment\": \"NM1*1P*2*Kim*Nathan*B*Mr.*MD*SV*JdTcDdWYsQdZjPkYbGdPzRsMwGj~\"}\n",
    "\"\"\"\n",
    "\n",
    "# The regex search\n",
    "json_match = re.search(r'\\{(?:[^{}]|(?R))*\\}', input_string, re.DOTALL)\n",
    "\n",
    "if json_match:\n",
    "    # .group(0) extracts the entire matched string\n",
    "    extracted_json_string = json_match.group(0)\n",
    "    print(\"--- Match Found ---\")\n",
    "    print(extracted_json_string)\n",
    "else:\n",
    "    print(\"No match found.\")\n",
    "\n"
   ]
  }
 ],
 "metadata": {
  "kernelspec": {
   "display_name": "base",
   "language": "python",
   "name": "python3"
  },
  "language_info": {
   "codemirror_mode": {
    "name": "ipython",
    "version": 3
   },
   "file_extension": ".py",
   "mimetype": "text/x-python",
   "name": "python",
   "nbconvert_exporter": "python",
   "pygments_lexer": "ipython3",
   "version": "3.13.2"
  }
 },
 "nbformat": 4,
 "nbformat_minor": 5
}
