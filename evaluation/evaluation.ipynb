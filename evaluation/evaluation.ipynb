{
 "cells": [
  {
   "cell_type": "markdown",
   "id": "02b5f461",
   "metadata": {},
   "source": [
    "### Evaluation"
   ]
  },
  {
   "cell_type": "code",
   "execution_count": 1,
   "id": "3e8b8136",
   "metadata": {},
   "outputs": [],
   "source": [
    "from transformers import BitsAndBytesConfig\n",
    "#Model configs\n",
    "\n",
    "model_name = \"mistralai/Mistral-7B-Instruct-v0.3\"\n",
    "checkpoint_dir = \"../output/checkpoints\"\n",
    "model_output_dir = \"../output/final_adapter\"\n",
    "training_data = \"../data/combinations.jsonl\"\n",
    "\n",
    "quantization_config = BitsAndBytesConfig(\n",
    "    load_in_4bit=True,\n",
    "    bnb_4bit_use_double_quant=True,\n",
    "    bnb_4bit_compute_dtype=\"float16\",\n",
    "    bnb_4bit_quant_type=\"nf4\"\n",
    ")"
   ]
  },
  {
   "cell_type": "code",
   "execution_count": 2,
   "id": "78af39bf",
   "metadata": {},
   "outputs": [
    {
     "name": "stdout",
     "output_type": "stream",
     "text": [
      "Sun Jul 27 16:17:33 2025       \n",
      "+-----------------------------------------------------------------------------------------+\n",
      "| NVIDIA-SMI 576.40                 Driver Version: 576.40         CUDA Version: 12.9     |\n",
      "|-----------------------------------------+------------------------+----------------------+\n",
      "| GPU  Name                  Driver-Model | Bus-Id          Disp.A | Volatile Uncorr. ECC |\n",
      "| Fan  Temp   Perf          Pwr:Usage/Cap |           Memory-Usage | GPU-Util  Compute M. |\n",
      "|                                         |                        |               MIG M. |\n",
      "|=========================================+========================+======================|\n",
      "|   0  NVIDIA GeForce RTX 5070 Ti   WDDM  |   00000000:01:00.0 Off |                  N/A |\n",
      "|  0%   43C    P8             19W /  300W |    6658MiB /  16303MiB |      0%      Default |\n",
      "|                                         |                        |                  N/A |\n",
      "+-----------------------------------------+------------------------+----------------------+\n",
      "                                                                                         \n",
      "+-----------------------------------------------------------------------------------------+\n",
      "| Processes:                                                                              |\n",
      "|  GPU   GI   CI              PID   Type   Process name                        GPU Memory |\n",
      "|        ID   ID                                                               Usage      |\n",
      "|=========================================================================================|\n",
      "|    0   N/A  N/A             812      C   ...s\\Admin\\miniconda3\\python.exe      N/A      |\n",
      "|    0   N/A  N/A           16176      C   ...s\\Admin\\miniconda3\\python.exe      N/A      |\n",
      "+-----------------------------------------------------------------------------------------+\n"
     ]
    }
   ],
   "source": [
    "! nvidia-smi"
   ]
  },
  {
   "cell_type": "code",
   "execution_count": 3,
   "id": "bdcf5407",
   "metadata": {},
   "outputs": [],
   "source": [
    "from datasets import load_dataset, Dataset, DatasetDict\n",
    "\n",
    "\n",
    "# load the dataset and split it into train, validation and test sets\n",
    "dataset = load_dataset(\"json\", data_files=training_data, split='train')\n",
    "shuffled_dataset = dataset.shuffle(seed=42)\n",
    "train_temp_split = shuffled_dataset.train_test_split(test_size=0.3) #30% for validation and test\n",
    "temp_dataset = train_temp_split['test']\n",
    "validation_test_split = temp_dataset.train_test_split(test_size=1/3)# 10% for validation and 20% for test\n",
    "split_datasets = DatasetDict({\n",
    "    'train': train_temp_split['train'],\n",
    "    'validation': validation_test_split['train'],\n",
    "    'test': validation_test_split['test']\n",
    "})"
   ]
  },
  {
   "cell_type": "code",
   "execution_count": 4,
   "id": "512bd59d",
   "metadata": {},
   "outputs": [
    {
     "data": {
      "application/vnd.jupyter.widget-view+json": {
       "model_id": "8aca17a5710b44148dbaac358409b165",
       "version_major": 2,
       "version_minor": 0
      },
      "text/plain": [
       "Loading checkpoint shards:   0%|          | 0/3 [00:00<?, ?it/s]"
      ]
     },
     "metadata": {},
     "output_type": "display_data"
    }
   ],
   "source": [
    "from transformers import AutoModelForCausalLM, AutoTokenizer\n",
    "from peft import PeftModel\n",
    "\n",
    "base_model = AutoModelForCausalLM.from_pretrained(model_name, \n",
    "                                                    quantization_config=quantization_config , \n",
    "                                                    device_map=\"auto\")\n",
    "    \n",
    "model = PeftModel.from_pretrained(base_model, model_output_dir)\n",
    "tokenizer = AutoTokenizer.from_pretrained(model_output_dir)"
   ]
  },
  {
   "cell_type": "code",
   "execution_count": null,
   "id": "228faf52",
   "metadata": {},
   "outputs": [],
   "source": [
    "import json\n",
    "import re\n",
    "import numpy as np\n",
    "import torch\n",
    "from jsonschema import validate, ValidationError\n",
    "\n",
    "\n",
    "# function to extact JSON from a string\n",
    "def find_and_parse_json(text: str) -> dict:\n",
    "    \"\"\"\n",
    "    Finds the first valid JSON object in a string and parses it.\n",
    "\n",
    "    \"\"\"\n",
    "    try:\n",
    "        # Find the first opening curly brace\n",
    "        first_brace_index = text.find('{')\n",
    "        if first_brace_index == -1:\n",
    "            return None # No JSON object found\n",
    "\n",
    "        # Start searching from the first brace\n",
    "        brace_level = 1\n",
    "        for i, char in enumerate(text[first_brace_index + 1:]):\n",
    "            if char == '{':\n",
    "                brace_level += 1\n",
    "            elif char == '}':\n",
    "                brace_level -= 1\n",
    "            \n",
    "            if brace_level == 0:\n",
    "                # We found the matching closing brace\n",
    "                last_brace_index = first_brace_index + i + 1\n",
    "                json_string = text[first_brace_index : last_brace_index + 1]\n",
    "                \n",
    "                # Now, use the built-in json library to parse it\n",
    "                return json.loads(json_string)\n",
    "        \n",
    "        return None # No complete JSON object found\n",
    "    except (json.JSONDecodeError, IndexError):\n",
    "        # Handle cases where the substring is not valid JSON or string is malformed\n",
    "        return None\n",
    "\n",
    "\n",
    "# Validate a JSON string against a schema\n",
    "def is_valid_json_schema(json_generated, schema):\n",
    "    try:\n",
    "        validate(instance=json_generated, schema=schema)\n",
    "        return True\n",
    "    except (json.JSONDecodeError, ValidationError):\n",
    "        return False\n",
    "    \n",
    "# Compare two JSON strings at field level and match field values\n",
    "def compare_json_field_values(json_ref, json_gen):\n",
    "    obj1=json_ref\n",
    "    obj2=json_gen\n",
    "    matching_fields = []\n",
    "    matching_values = 0\n",
    "    total_fields = max(len(obj1), len(obj2))\n",
    "    for key in obj1:\n",
    "        if key in obj2:\n",
    "            matching_fields.append(key)\n",
    "            if obj1[key] == obj2[key]:\n",
    "                matching_values += 1\n",
    "    score = matching_values\n",
    "    percentage = score / total_fields if total_fields > 0 else 0\n",
    "    result = {\n",
    "        \"matching_fields\": matching_fields,\n",
    "        \"matching_values\": score,\n",
    "        \"total_fields\": total_fields,\n",
    "        \"percentage\": percentage\n",
    "    }\n",
    "    return result['percentage']\n",
    "\n",
    "\n",
    "def test_model(model, tokenizer, test_dataset):\n",
    "\n",
    "    torch.cuda.empty_cache()\n",
    "\n",
    "    valid_json = []\n",
    "    valid_json_schema = []\n",
    "    comparison_results = []\n",
    "    \n",
    "    for i, row in enumerate(test_dataset):\n",
    "\n",
    "        if( i == 2):\n",
    "            break\n",
    "\n",
    "        prompt = f\"<s><INST>{row['messages'][0]['content']}</INST>\"\n",
    "        inputs = tokenizer(prompt, return_tensors=\"pt\").to(\"cuda\")\n",
    "\n",
    "        with torch.no_grad():\n",
    "            output = model.generate(\n",
    "                **inputs,\n",
    "                max_new_tokens=1000,\n",
    "                temperature=0.7,\n",
    "                do_sample=True,\n",
    "                top_p=0.9,\n",
    "                eos_token_id=tokenizer.eos_token_id\n",
    "            )\n",
    "\n",
    "        generated_text = tokenizer.decode(output[0], skip_special_tokens=True)\n",
    "        \n",
    "        if(\"</INST>\" in generated_text):\n",
    "            generated_json = find_and_parse_json(generated_text.split(\"</INST>\")[-1].strip())\n",
    "            gold_json = find_and_parse_json(row['messages'][1]['content'])\n",
    "            schema = find_and_parse_json(generated_text.split(\"</INST>\")[-2].strip())\n",
    "        \n",
    "        if generated_json is not None:\n",
    "            valid_json.append(True)\n",
    "        else:\n",
    "            valid_json.append(False)\n",
    "\n",
    "        \n",
    "        if schema is not None:\n",
    "            if generated_json is not None and is_valid_json_schema(generated_json, schema):\n",
    "                valid_json_schema.append(True)\n",
    "            else:\n",
    "                valid_json_schema.append(False)\n",
    "        \n",
    "        if gold_json is not None:\n",
    "            if generated_json is not None:\n",
    "                comparison_score = compare_json_field_values(gold_json, generated_json)\n",
    "            else:\n",
    "                comparison_score = 0.0\n",
    "            comparison_results.append(comparison_score)\n",
    "\n",
    "    \n",
    "    result = {\n",
    "        \"valid_json\": np.mean(valid_json) * 100,\n",
    "        \"valid_json_schema\": np.mean(valid_json_schema) * 100,\n",
    "        \"comparison_results\": np.mean(comparison_results) * 100\n",
    "    }\n",
    "    \n",
    "    return result\n",
    "    "
   ]
  },
  {
   "cell_type": "code",
   "execution_count": 9,
   "id": "d2004234",
   "metadata": {},
   "outputs": [
    {
     "name": "stderr",
     "output_type": "stream",
     "text": [
      "Setting `pad_token_id` to `eos_token_id`:2 for open-end generation.\n",
      "Setting `pad_token_id` to `eos_token_id`:2 for open-end generation.\n"
     ]
    },
    {
     "name": "stdout",
     "output_type": "stream",
     "text": [
      "Generated JSON: {'entity_identifier_code': 'PR', 'entity_type_qualifier': '1', 'name_last_or_organizationName': 'Brown', 'name_first': 'Kayla', 'name_middle': 'N', 'name_prefix': 'Mr.', 'name_suffix': 'MD', 'identification_code_qualifier': 'PI', 'identification_code': 'yvHKQxvTUfhjvxX', 'nm1_segment': 'NM1*PR*1*Brown*Kayla*N*Mr.*MD*PI*yvHKQxvTUfhjvxX~'}\n",
      "===================================\n",
      "Gold JSON: {'entity_identifier_code': '03', 'entity_type_qualifier': '2', 'name_last_or_organizationName': 'Quinn', 'name_first': 'Danielle', 'name_middle': 'C', 'name_prefix': 'Dr.', 'name_suffix': 'DDS', 'identification_code_qualifier': 'XX', 'identification_code': 'UIBbRaVcdIHWEeu', 'nm1_segment': 'NM1*03*2*Quinn*Danielle*C*Dr.*DDS*XX*UIBbRaVcdIHWEeu~'}\n",
      "===================================\n",
      "Schema: {'$schema': 'http://json-schema.org/draft-07/schema#', 'title': 'X12 NM1 Segment', 'description': \"Schema for X12 NM1 segment, which contains subscriber's or organization name information.\", 'type': 'object', 'properties': {'entity_identifier_code': {'type': 'string', 'description': 'Entity Identifier Code (e.g., IL for Insured or 03 for dependent or PR for Payer or 1P for Provider)', 'enum': ['IL', '03', 'PR', '1P']}, 'entity_type_qualifier': {'type': 'string', 'description': 'Entity Type Qualifier (1 = Person, 2 = Non-Person Entity)', 'enum': ['1', '2']}, 'name_last_or_organizationName': {'type': 'string', 'description': 'Name Last or Organization Name', 'minLength': 1, 'maxLength': 60}, 'name_first': {'type': 'string', 'description': 'Name First', 'nullable': True, 'minLength': 1, 'maxLength': 35}, 'name_middle': {'type': 'string', 'description': 'Name Middle', 'nullable': True, 'minLength': 1, 'maxLength': 25}, 'name_prefix': {'type': 'string', 'description': 'Name Prefix', 'nullable': True, 'minLength': 1, 'maxLength': 10}, 'name_suffix': {'type': 'string', 'description': 'Name Suffix', 'nullable': True, 'minLength': 1, 'maxLength': 10}, 'identification_code_qualifier': {'type': 'string', 'description': 'Identification Code Qualifier (e.g., MI = Member ID, XX = National Provider Identifier, SV = Service Provider Number, FI = Federal Tax ID, PI = Payer Identifier, ZZ = Mutually Defined)', 'enum': ['MI', 'XX', 'SV', 'FI', 'PI', 'ZZ'], 'nullable': True}, 'identification_code': {'type': 'string', 'description': 'Identification Code', 'nullable': True, 'minLength': 2, 'maxLength': 80}, 'nm1_segment': {'type': 'string', 'description': 'NM1 Segment format of the data (e.g., NM1*IL*1*DOE*JOHN****MI*123456789~)', 'nullable': True, 'maxLength': 255}}, 'required': ['entity_identifier_code', 'entity_type_qualifier', 'name_last_or_organizationName', 'nm1_segment']}\n",
      "Generated JSON: {'entity_identifier_code': 'PR', 'entity_type_qualifier': '1', 'name_last_or_organizationName': 'Miller', 'name_middle': 'M', 'name_suffix': 'III', 'identification_code': 'biQpSlZyqFUdBCYoakDSVpgPRjZTjgoklvoyXNhlBagHxPPKLHfivsIgRJd', 'nm1_segment': 'NM1*PR*1*Miller**M**III**biQpSlZyqFUdBCYoakDSVpgPRjZTjgoklvoyXNhlBagHxPPKLHfivsIgRJd~'}\n",
      "===================================\n",
      "Gold JSON: {'entity_identifier_code': 'PR', 'entity_type_qualifier': '1', 'name_last_or_organizationName': 'Miller', 'name_middle': 'M', 'name_suffix': 'III', 'identification_code': 'biQpSlZyqFUdBCYoakDSVpgPRjZTjgoklvoyXNhlBagHxPPKLHfivsIgRJd', 'nm1_segment': 'NM1*PR*1*Miller**M**III**biQpSlZyqFUdBCYoakDSVpgPRjZTjgoklvoyXNhlBagHxPPKLHfivsIgRJd~'}\n",
      "===================================\n",
      "Schema: {'$schema': 'http://json-schema.org/draft-07/schema#', 'title': 'X12 NM1 Segment', 'description': \"Schema for X12 NM1 segment, which contains subscriber's or organization name information.\", 'type': 'object', 'properties': {'entity_identifier_code': {'type': 'string', 'description': 'Entity Identifier Code (e.g., IL for Insured or 03 for dependent or PR for Payer or 1P for Provider)', 'enum': ['IL', '03', 'PR', '1P']}, 'entity_type_qualifier': {'type': 'string', 'description': 'Entity Type Qualifier (1 = Person, 2 = Non-Person Entity)', 'enum': ['1', '2']}, 'name_last_or_organizationName': {'type': 'string', 'description': 'Name Last or Organization Name', 'minLength': 1, 'maxLength': 60}, 'name_first': {'type': 'string', 'description': 'Name First', 'nullable': True, 'minLength': 1, 'maxLength': 35}, 'name_middle': {'type': 'string', 'description': 'Name Middle', 'nullable': True, 'minLength': 1, 'maxLength': 25}, 'name_prefix': {'type': 'string', 'description': 'Name Prefix', 'nullable': True, 'minLength': 1, 'maxLength': 10}, 'name_suffix': {'type': 'string', 'description': 'Name Suffix', 'nullable': True, 'minLength': 1, 'maxLength': 10}, 'identification_code_qualifier': {'type': 'string', 'description': 'Identification Code Qualifier (e.g., MI = Member ID, XX = National Provider Identifier, SV = Service Provider Number, FI = Federal Tax ID, PI = Payer Identifier, ZZ = Mutually Defined)', 'enum': ['MI', 'XX', 'SV', 'FI', 'PI', 'ZZ'], 'nullable': True}, 'identification_code': {'type': 'string', 'description': 'Identification Code', 'nullable': True, 'minLength': 2, 'maxLength': 80}, 'nm1_segment': {'type': 'string', 'description': 'NM1 Segment format of the data (e.g., NM1*IL*1*DOE*JOHN****MI*123456789~)', 'nullable': True, 'maxLength': 255}}, 'required': ['entity_identifier_code', 'entity_type_qualifier', 'name_last_or_organizationName', 'nm1_segment']}\n"
     ]
    },
    {
     "data": {
      "text/plain": [
       "{'valid_json': np.float64(100.0),\n",
       " 'valid_json_schema': np.float64(100.0),\n",
       " 'comparison_results': np.float64(50.0)}"
      ]
     },
     "execution_count": 9,
     "metadata": {},
     "output_type": "execute_result"
    }
   ],
   "source": [
    "test_model(model, tokenizer, split_datasets[\"test\"])"
   ]
  }
 ],
 "metadata": {
  "kernelspec": {
   "display_name": "base",
   "language": "python",
   "name": "python3"
  },
  "language_info": {
   "codemirror_mode": {
    "name": "ipython",
    "version": 3
   },
   "file_extension": ".py",
   "mimetype": "text/x-python",
   "name": "python",
   "nbconvert_exporter": "python",
   "pygments_lexer": "ipython3",
   "version": "3.13.2"
  }
 },
 "nbformat": 4,
 "nbformat_minor": 5
}
