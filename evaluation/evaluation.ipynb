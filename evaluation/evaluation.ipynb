{
 "cells": [
  {
   "cell_type": "markdown",
   "id": "02b5f461",
   "metadata": {},
   "source": [
    "### Evaluation"
   ]
  },
  {
   "cell_type": "code",
   "execution_count": 1,
   "id": "3e8b8136",
   "metadata": {},
   "outputs": [],
   "source": [
    "import logging\n",
    "from transformers import BitsAndBytesConfig\n",
    "#Model configs\n",
    "\n",
    "logging.basicConfig(\n",
    "    level=logging.INFO,\n",
    "    format='%(levelname)s - %(message)s'\n",
    ")\n",
    "logger = logging.getLogger(__name__)\n",
    "\n",
    "model_name = \"mistralai/Mistral-7B-Instruct-v0.3\"\n",
    "training_data = \"../data/combinations.jsonl\"\n",
    "\n",
    "quantization_config = BitsAndBytesConfig(\n",
    "    load_in_4bit=True,\n",
    "    bnb_4bit_use_double_quant=True,\n",
    "    bnb_4bit_compute_dtype=\"float16\",\n",
    "    bnb_4bit_quant_type=\"nf4\"\n",
    ")"
   ]
  },
  {
   "cell_type": "code",
   "execution_count": 2,
   "id": "78af39bf",
   "metadata": {},
   "outputs": [
    {
     "name": "stdout",
     "output_type": "stream",
     "text": [
      "Tue Aug  5 22:00:43 2025       \n",
      "+-----------------------------------------------------------------------------------------+\n",
      "| NVIDIA-SMI 576.40                 Driver Version: 576.40         CUDA Version: 12.9     |\n",
      "|-----------------------------------------+------------------------+----------------------+\n",
      "| GPU  Name                  Driver-Model | Bus-Id          Disp.A | Volatile Uncorr. ECC |\n",
      "| Fan  Temp   Perf          Pwr:Usage/Cap |           Memory-Usage | GPU-Util  Compute M. |\n",
      "|                                         |                        |               MIG M. |\n",
      "|=========================================+========================+======================|\n",
      "|   0  NVIDIA GeForce RTX 5070 Ti   WDDM  |   00000000:01:00.0 Off |                  N/A |\n",
      "|  0%   42C    P8             19W /  300W |    7443MiB /  16303MiB |      0%      Default |\n",
      "|                                         |                        |                  N/A |\n",
      "+-----------------------------------------+------------------------+----------------------+\n",
      "                                                                                         \n",
      "+-----------------------------------------------------------------------------------------+\n",
      "| Processes:                                                                              |\n",
      "|  GPU   GI   CI              PID   Type   Process name                        GPU Memory |\n",
      "|        ID   ID                                                               Usage      |\n",
      "|=========================================================================================|\n",
      "|    0   N/A  N/A           15284      C   ...s\\Admin\\miniconda3\\python.exe      N/A      |\n",
      "+-----------------------------------------------------------------------------------------+\n"
     ]
    }
   ],
   "source": [
    "! nvidia-smi"
   ]
  },
  {
   "cell_type": "code",
   "execution_count": 3,
   "id": "bdcf5407",
   "metadata": {},
   "outputs": [
    {
     "name": "stderr",
     "output_type": "stream",
     "text": [
      "INFO - PyTorch version 2.7.0+cu128 available.\n"
     ]
    },
    {
     "data": {
      "application/vnd.jupyter.widget-view+json": {
       "model_id": "38e91332941e4db3bb945a6c4c88edac",
       "version_major": 2,
       "version_minor": 0
      },
      "text/plain": [
       "Generating train split: 0 examples [00:00, ? examples/s]"
      ]
     },
     "metadata": {},
     "output_type": "display_data"
    }
   ],
   "source": [
    "from datasets import load_dataset, Dataset, DatasetDict\n",
    "\n",
    "\n",
    "# load the dataset and split it into train, validation and test sets\n",
    "dataset = load_dataset(\"json\", data_files=training_data, split='train')\n",
    "shuffled_dataset = dataset.shuffle(seed=42)\n",
    "train_temp_split = shuffled_dataset.train_test_split(test_size=0.3) #30% for validation and test\n",
    "temp_dataset = train_temp_split['test']\n",
    "validation_test_split = temp_dataset.train_test_split(test_size=1/3)# 10% for validation and 20% for test\n",
    "split_datasets = DatasetDict({\n",
    "    'train': train_temp_split['train'],\n",
    "    'validation': validation_test_split['train'],\n",
    "    'test': validation_test_split['test']\n",
    "})"
   ]
  },
  {
   "cell_type": "code",
   "execution_count": 4,
   "id": "940c9b34",
   "metadata": {},
   "outputs": [
    {
     "name": "stderr",
     "output_type": "stream",
     "text": [
      "INFO - Models available: epoch-5\n",
      "INFO - Last updated model: epoch-5\n"
     ]
    },
    {
     "name": "stdout",
     "output_type": "stream",
     "text": [
      "Last run ID: 219f4ed29a504b2cb00eea34fdf06c57\n",
      "Artifact URI: c:\\Users\\Admin\\Documents\\Projects\\Repositories\\synthetic-data-generator\\mlruns/686303321124169868/219f4ed29a504b2cb00eea34fdf06c57/artifacts/adapters\\epoch-5\n"
     ]
    }
   ],
   "source": [
    "import os\n",
    "import mlflow\n",
    "\n",
    "def get_last_run_id():\n",
    "    runs = mlflow.search_runs(order_by=[\"start_time desc\"], max_results=1)\n",
    "    if not runs.empty:\n",
    "        return runs.iloc[0].run_id\n",
    "    else:\n",
    "        logger.warning(\"No runs found in MLflow.\")\n",
    "        return None\n",
    "\n",
    "def get_run_artifact_uri(last_run_id):\n",
    "    if last_run_id:\n",
    "        run_info = mlflow.get_run(last_run_id)\n",
    "        artifact_path = run_info.info.artifact_uri\n",
    "        if artifact_path.startswith(\"file://\"):\n",
    "            artifact_path = artifact_path.replace(\"file://\", \"\")\n",
    "        elif artifact_path.startswith(\"file:\"):\n",
    "            artifact_path = artifact_path.replace(\"file:\", \"\")\n",
    "        if \"/training/..\" in artifact_path:\n",
    "            artifact_path = artifact_path.replace(\"/training/..\", \"\")\n",
    "        artifact_path = artifact_path+ \"/adapters\"\n",
    "        folders = [f for f in os.listdir(artifact_path) if os.path.isdir(os.path.join(artifact_path, f))]\n",
    "        logger.info(f\"Models available: {', '.join(folders)}\")\n",
    "        if folders:\n",
    "            last_updated_folder = max(folders, key=lambda f: os.path.getmtime(os.path.join(artifact_path, f)))\n",
    "            logger.info(f\"Last updated model: {last_updated_folder}\")\n",
    "            return os.path.join(artifact_path, last_updated_folder)\n",
    "        else:\n",
    "            logger.warning(\"No folders found in the artifact URI.\")\n",
    "        return None\n",
    "    else:\n",
    "        logger.warning(\"No runs found in MLflow.\")\n",
    "        return None\n",
    "    \n",
    "mlflow.end_run()\n",
    "\n",
    "mlflow_uri = \"file:../mlruns\"\n",
    "mlflow_experiment_name = \"Synthetic-data-generator-fine-tuning\"\n",
    "\n",
    "mlflow.set_tracking_uri(mlflow_uri)\n",
    "mlflow.set_experiment(mlflow_experiment_name)\n",
    "\n",
    "run_id = get_last_run_id()\n",
    "mlflow.start_run(run_id=run_id)\n",
    "adapter_dir = get_run_artifact_uri(run_id)\n",
    "\n",
    "print(f\"Last run ID: {run_id}\")\n",
    "print(f\"Artifact URI: {adapter_dir}\")"
   ]
  },
  {
   "cell_type": "code",
   "execution_count": 5,
   "id": "512bd59d",
   "metadata": {},
   "outputs": [
    {
     "name": "stderr",
     "output_type": "stream",
     "text": [
      "INFO - We will use 90% of the memory on device 0 for storing the model, and 10% for the buffer to avoid OOM. You can set `max_memory` in to a higher value to use more memory (at your own risk).\n"
     ]
    },
    {
     "data": {
      "application/vnd.jupyter.widget-view+json": {
       "model_id": "a2a8a2e956274e669b8e34931958d5e6",
       "version_major": 2,
       "version_minor": 0
      },
      "text/plain": [
       "Loading checkpoint shards:   0%|          | 0/3 [00:00<?, ?it/s]"
      ]
     },
     "metadata": {},
     "output_type": "display_data"
    }
   ],
   "source": [
    "from transformers import AutoModelForCausalLM, AutoTokenizer\n",
    "from peft import PeftModel\n",
    "\n",
    "base_model = AutoModelForCausalLM.from_pretrained(model_name, \n",
    "                                                    quantization_config=quantization_config , \n",
    "                                                    device_map=\"auto\")\n",
    "    \n",
    "model = PeftModel.from_pretrained(base_model, adapter_dir)\n",
    "tokenizer = AutoTokenizer.from_pretrained(adapter_dir)"
   ]
  },
  {
   "cell_type": "code",
   "execution_count": null,
   "id": "228faf52",
   "metadata": {},
   "outputs": [],
   "source": [
    "import json\n",
    "import re\n",
    "import numpy as np\n",
    "import torch\n",
    "from jsonschema import validate, ValidationError\n",
    "from transformers import StoppingCriteria, StoppingCriteriaList\n",
    "\n",
    "\n",
    "# function to extact JSON from a string\n",
    "def find_and_parse_json(text: str) -> dict:\n",
    "\n",
    "    try:\n",
    "        # Find the first opening curly brace\n",
    "        first_brace_index = text.find('{')\n",
    "        if first_brace_index == -1:\n",
    "            return None # No JSON object found\n",
    "\n",
    "        # Start searching from the first brace\n",
    "        brace_level = 1\n",
    "        for i, char in enumerate(text[first_brace_index + 1:]):\n",
    "            if char == '{':\n",
    "                brace_level += 1\n",
    "            elif char == '}':\n",
    "                brace_level -= 1\n",
    "            \n",
    "            if brace_level == 0:\n",
    "                # We found the matching closing brace\n",
    "                last_brace_index = first_brace_index + i + 1\n",
    "                json_string = text[first_brace_index : last_brace_index + 1]\n",
    "                \n",
    "                # Now, use the built-in json library to parse it\n",
    "                return json.loads(json_string)\n",
    "        \n",
    "        return None # No complete JSON object found\n",
    "    except (json.JSONDecodeError, IndexError):\n",
    "        # Handle cases where the substring is not valid JSON or string is malformed\n",
    "        return None\n",
    "\n",
    "\n",
    "# Validate a JSON string against a schema\n",
    "def is_valid_json_schema(json_generated, schema):\n",
    "    try:\n",
    "        validate(instance=json_generated, schema=schema)\n",
    "        return True\n",
    "    except (json.JSONDecodeError, ValidationError):\n",
    "        return False\n",
    "    \n",
    "# domainn specific checks\n",
    "def domain_specific_checks(json_ref, json_gen, domain_field, pattern):\n",
    "    score = 0\n",
    "    if domain_field in json_ref.keys():\n",
    "        # Check if NM1 segment is present in both JSONs\n",
    "        logger.debug(f\"{json_ref[domain_field]}  {json_gen.get(domain_field)}\")\n",
    "        if domain_field in json_gen.keys():\n",
    "            #NM1*PR*2*Palmer*Darlene*M*Mr.*DVM*PI*SqLFzolMNdaVXE~\n",
    "            # pattern = r'^NM1(?:\\*[^*]*){9}~$'\n",
    "            value = json_gen[domain_field]\n",
    "            if not bool(re.match(pattern, value)):\n",
    "                score += 2.5\n",
    "                logger.debug(f\"{domain_field} {value} does not match the expected pattern, reducing score by 2.5\")\n",
    "            # check if all values in the json_gen are present in the value except for the nm1_segment\n",
    "            for key in json_gen.keys():\n",
    "                if key != domain_field and json_gen[key] not in value:\n",
    "                    score += 2.5\n",
    "                    logger.debug(f\"Value {json_gen[key]} not found in {domain_field} {value}, reducing score by 2.5\")\n",
    "                    break\n",
    "        else:\n",
    "            score += 5\n",
    "            logger.debug(f\"{domain_field} not found in json_gen, reducing score by 5\")\n",
    "\n",
    "    return score\n",
    "    \n",
    "\n",
    "# Compare two JSON strings at field level and match field values\n",
    "def compare_json_field_values(json_ref, json_gen):\n",
    "   \n",
    "    if not isinstance(json_ref, dict) or not isinstance(json_gen, dict):\n",
    "        return 0.0\n",
    "    \n",
    "    score = 10\n",
    "    # json_gen has all fields of json_ref, if not reduce the score proportional to no of fields missing\n",
    "    logger.debug(f\"Starting score: {score}\")\n",
    "    if set(json_gen.keys()).issubset(set(json_ref.keys())):\n",
    "        for key in json_ref.keys():\n",
    "            if json_gen.get(key) is None:\n",
    "                reduce_score = 3 / len(json_ref.keys())\n",
    "                logger.debug(f\"Key {key} is missing in json_gen, reducing score by {reduce_score}\")\n",
    "                score -= reduce_score\n",
    "    else:\n",
    "        reduce_score = (len(json_ref.keys()) - len(json_gen.keys())) * (3 / len(json_ref.keys()))\n",
    "        logger.debug(f\"Keys in json_ref not present in json_gen, reducing score by {reduce_score}\")\n",
    "        score -= reduce_score\n",
    "\n",
    "    # Compare values of each field if they dont match reduce the score proportional to no of fields not matching in a scale of  0 to 5\n",
    "    count_mismatch = 0\n",
    "    for key in json_ref.keys():\n",
    "        if key in json_gen:\n",
    "            if json_ref[key] != json_gen[key]:\n",
    "                count_mismatch += 1\n",
    "        else:\n",
    "            count_mismatch += 1\n",
    "    count_mismatch/= len(json_ref.keys())\n",
    "    logger.debug(f\"Count of mismatched fields: {count_mismatch}, reducing score by {count_mismatch * 2}\")    \n",
    "    score -= (count_mismatch * 2)\n",
    "\n",
    "    # domainn specific checks\n",
    "    score -= domain_specific_checks(json_ref, json_gen, \"nm1_segment\", r'^NM1(?:\\*[^*]*){9}~$')\n",
    "    score -= domain_specific_checks(json_ref, json_gen, \"dtp_segment\", r'^DTP(?:\\*[^*]*){3}~$')\n",
    "    score -= domain_specific_checks(json_ref, json_gen, \"ref_segment\", r'^REF(?:\\*[^*]*){2}~$')\n",
    "\n",
    "    # If the score is less than 0, set it to 0\n",
    "    if score < 0.0:\n",
    "        score = 0.0\n",
    "\n",
    "    logger.debug(f\"Final score: {score}\")\n",
    "\n",
    "    return score\n",
    "\n",
    "def get_result(valid_json, valid_json_schema, comparison_results):\n",
    "    return json.dumps({\n",
    "        \"valid_json\": np.mean(valid_json) * 100,\n",
    "        \"valid_json_schema\": np.mean(valid_json_schema) * 100,\n",
    "        \"domain_field_match\": np.mean(comparison_results) * 10\n",
    "    })\n",
    "\n",
    "\n",
    "def test_model(model, tokenizer, test_dataset):\n",
    "\n",
    "    torch.cuda.empty_cache()\n",
    "\n",
    "    valid_json = []\n",
    "    valid_json_schema = []\n",
    "    comparison_results = []\n",
    "\n",
    "    stop_words = [\"[INST]\"]\n",
    "    stop_word_ids = [tokenizer(stop_word, add_special_tokens=False).input_ids[0] for stop_word in stop_words]\n",
    "    stop_word_ids.append(tokenizer.eos_token_id)  # Add EOS token ID to the stop words\n",
    "    print(f\"Tokens to stop on: {stop_words}\")\n",
    "    print(f\"Corresponding Token IDs: {stop_word_ids}\")\n",
    "        \n",
    "    for i, row in enumerate(test_dataset):\n",
    "\n",
    "        logger.info(f\"Processing row {i+1}/{len(test_dataset)}\")\n",
    "\n",
    "        prompt = f\"<s>[INST] {row['messages'][0]['content']} [/INST]\"\n",
    "        # print(f\"Prompt: \\n {prompt} \\n ---------------------------------\")\n",
    "        inputs = tokenizer(prompt, return_tensors=\"pt\").to(\"cuda\")\n",
    "        \n",
    "        with torch.no_grad():\n",
    "            output = model.generate(\n",
    "                **inputs,\n",
    "                max_new_tokens=1000,\n",
    "                temperature=0.7,\n",
    "                do_sample=True,                \n",
    "                top_p=0.9,\n",
    "                eos_token_id=stop_word_ids\n",
    "            )\n",
    "\n",
    "        generated_text = tokenizer.decode(output[0], skip_special_tokens=False)\n",
    "\n",
    "        logger.info(f\"Generated text: \\n {generated_text}\")\n",
    "        \n",
    "        if(\"[/INST]\" in generated_text):\n",
    "            generated_json = find_and_parse_json(generated_text.split(\"[/INST]\")[-1].strip())\n",
    "            gold_json = find_and_parse_json(row['messages'][1]['content'])\n",
    "            schema = find_and_parse_json(generated_text.split(\"[/INST]\")[-2].strip())\n",
    "            # print(f\"Generated JSON: {generated_json} \\n Goled JSON: {gold_json} \\n Schema: {schema}\")\n",
    "        \n",
    "        # is Json valid?\n",
    "        if generated_json is not None:\n",
    "            valid_json.append(True)\n",
    "        else:\n",
    "            valid_json.append(False)\n",
    "\n",
    "        # is JSON valid against schema?\n",
    "        if schema is not None:\n",
    "            if generated_json is not None and is_valid_json_schema(generated_json, schema):\n",
    "                valid_json_schema.append(True)\n",
    "            else:\n",
    "                valid_json_schema.append(False)\n",
    "        \n",
    "        # compare JSON field values\n",
    "        if gold_json is not None:\n",
    "            if generated_json is not None:\n",
    "                comparison_score = compare_json_field_values(gold_json, generated_json)\n",
    "            else:\n",
    "                comparison_score = 0.0\n",
    "            comparison_results.append(comparison_score)\n",
    "\n",
    "        logger.info(get_result(valid_json, valid_json_schema, comparison_results))\n",
    "        print(\"------------------------------------------------------------\")\n",
    "\n",
    "    \n",
    "    return get_result(valid_json, valid_json_schema, comparison_results)\n",
    "    "
   ]
  },
  {
   "cell_type": "code",
   "execution_count": 7,
   "id": "d2004234",
   "metadata": {},
   "outputs": [
    {
     "name": "stderr",
     "output_type": "stream",
     "text": [
      "Setting `pad_token_id` to `eos_token_id`:3 for open-end generation.\n"
     ]
    },
    {
     "name": "stdout",
     "output_type": "stream",
     "text": [
      "Tokens to stop on: ['[INST]']\n",
      "Corresponding Token IDs: [3, 2]\n",
      "Processing row 1/30\n"
     ]
    },
    {
     "name": "stderr",
     "output_type": "stream",
     "text": [
      "DEBUG - Starting score: 10\n",
      "DEBUG - Keys in json_ref not present in json_gen, reducing score by 0.3333333333333333\n",
      "DEBUG - Count of mismatched fields: 0.6666666666666666, reducing score by 1.3333333333333333\n",
      "DEBUG - NM1*1P*2*Goodman*John**Mr.*DDS*SV*XDaTpoLYBLDOsEpcqiJvcaInHTmWafWfZzhwphvoAmaVwLJHuJcpp~  NM1*1P*2*Lawrence**W*Mx.*DVM*SV*~\n",
      "DEBUG - Final score: 8.333333333333332\n",
      "INFO - {\"valid_json\": 100.0, \"valid_json_schema\": 100.0, \"domain_field_match\": 83.33333333333331}\n",
      "Setting `pad_token_id` to `eos_token_id`:3 for open-end generation.\n"
     ]
    },
    {
     "name": "stdout",
     "output_type": "stream",
     "text": [
      "Generated text: \n",
      " <s><s>[INST] You are a Json test data generator generating valid json data based on a json schema. \n",
      "Given the Schema: {\"$schema\": \"http://json-schema.org/draft-07/schema#\", \"title\": \"X12 NM1 Segment\", \"description\": \"Schema for X12 NM1 segment, which contains subscriber's or organization name information.\", \"type\": \"object\", \"properties\": {\"entity_identifier_code\": {\"type\": \"string\", \"description\": \"Entity Identifier Code (e.g., IL for Insured or 03 for dependent or PR for Payer or 1P for Provider)\", \"enum\": [\"IL\", \"03\", \"PR\", \"1P\"]}, \"entity_type_qualifier\": {\"type\": \"string\", \"description\": \"Entity Type Qualifier (1 = Person, 2 = Non-Person Entity)\", \"enum\": [\"1\", \"2\"]}, \"name_last_or_organizationName\": {\"type\": \"string\", \"description\": \"Name Last or Organization Name\", \"minLength\": 1, \"maxLength\": 60}, \"name_first\": {\"type\": \"string\", \"description\": \"Name First\", \"nullable\": true, \"minLength\": 1, \"maxLength\": 35}, \"name_middle\": {\"type\": \"string\", \"description\": \"Name Middle\", \"nullable\": true, \"minLength\": 1, \"maxLength\": 25}, \"name_prefix\": {\"type\": \"string\", \"description\": \"Name Prefix\", \"nullable\": true, \"minLength\": 1, \"maxLength\": 10}, \"name_suffix\": {\"type\": \"string\", \"description\": \"Name Suffix\", \"nullable\": true, \"minLength\": 1, \"maxLength\": 10}, \"identification_code_qualifier\": {\"type\": \"string\", \"description\": \"Identification Code Qualifier (e.g., MI = Member ID, XX = National Provider Identifier, SV = Service Provider Number, FI = Federal Tax ID, PI = Payer Identifier, ZZ = Mutually Defined)\", \"enum\": [\"MI\", \"XX\", \"SV\", \"FI\", \"PI\", \"ZZ\"], \"nullable\": true}, \"identification_code\": {\"type\": \"string\", \"description\": \"Identification Code\", \"nullable\": true, \"minLength\": 2, \"maxLength\": 80}, \"nm1_segment\": {\"type\": \"string\", \"description\": \"NM1 Segment format of the data (e.g., NM1*IL*1*DOE*JOHN****MI*123456789~)\", \"nullable\": true, \"maxLength\": 255}}, \"required\": [\"entity_identifier_code\", \"entity_type_qualifier\", \"name_last_or_organizationName\", \"nm1_segment\"]}\n",
      "Produce a JSON object that conforms to the specified schema [/INST] {\"entity_identifier_code\": \"1P\", \"entity_type_qualifier\": \"2\", \"name_last_or_organizationName\": \"Lawrence\", \"name_middle\": \"W\", \"name_prefix\": \"Mx.\", \"name_suffix\": \"DVM\", \"identification_code_qualifier\": \"SV\", \"nm1_segment\": \"NM1*1P*2*Lawrence**W*Mx.*DVM*SV*~\"}</s>\n",
      "------------------------------------------------------------\n",
      "Processing row 2/30\n"
     ]
    },
    {
     "name": "stderr",
     "output_type": "stream",
     "text": [
      "DEBUG - Starting score: 10\n",
      "DEBUG - Count of mismatched fields: 1.0, reducing score by 2.0\n",
      "DEBUG - DTP*154*D8*20020406-20020411  DTP*050*D8*19950822-19950827\n",
      "DEBUG - dtp_segment DTP*050*D8*19950822-19950827 does not match the expected pattern, reducing score by 2.5\n",
      "DEBUG - Final score: 5.5\n",
      "INFO - {\"valid_json\": 100.0, \"valid_json_schema\": 100.0, \"domain_field_match\": 69.16666666666666}\n",
      "Setting `pad_token_id` to `eos_token_id`:3 for open-end generation.\n"
     ]
    },
    {
     "name": "stdout",
     "output_type": "stream",
     "text": [
      "Generated text: \n",
      " <s><s>[INST] You are a structured data generator that creates valid JSON data based on a schema.\n",
      "Given the Schema: {\"$schema\": \"http://json-schema.org/draft-07/schema#\", \"title\": \"X12 DTP Segment\", \"description\": \"Schema for X12 DTP segment, which contains date/time period information.\", \"type\": \"object\", \"properties\": {\"dtp_segment\": {\"type\": \"string\", \"description\": \"Date/Time Period (e.g., DTP*291*D8*20220101-20220131~)\", \"minLength\": 1, \"maxLength\": 30}}, \"required\": [\"dtp_segment\"]}\n",
      "Create a JSON object that contains all properties [/INST] {\"dtp_segment\": \"DTP*050*D8*19950822-19950827\"}</s>\n",
      "------------------------------------------------------------\n",
      "Processing row 3/30\n"
     ]
    },
    {
     "name": "stderr",
     "output_type": "stream",
     "text": [
      "DEBUG - Starting score: 10\n",
      "DEBUG - Count of mismatched fields: 1.0, reducing score by 2.0\n",
      "DEBUG - REF*PI*eQStMljcNyrSIBBUonJw~  REF*PR*cjY~\n",
      "DEBUG - Final score: 8.0\n",
      "INFO - {\"valid_json\": 100.0, \"valid_json_schema\": 100.0, \"domain_field_match\": 72.77777777777777}\n",
      "Setting `pad_token_id` to `eos_token_id`:3 for open-end generation.\n"
     ]
    },
    {
     "name": "stdout",
     "output_type": "stream",
     "text": [
      "Generated text: \n",
      " <s><s>[INST] You are a structured data generator that creates valid JSON data based on a schema.\n",
      "Given the Schema: {\"$schema\": \"http://json-schema.org/draft-07/schema#\", \"title\": \"X12 REF Segment\", \"description\": \"Schema for X12 REF segment, which contains reference identification information.\", \"type\": \"object\", \"properties\": {\"reference_identification_qualifier\": {\"type\": \"string\", \"description\": \"Reference Identification Qualifier (e.g., ZZ = Mutually Defined, MI = Member ID, XX = National Provider Identifier, SV = Service Provider Number, FI = Federal Tax ID, PI = Payer Identifier, PR = Payer Name, 1P = Provider Name)\", \"enum\": [\"ZZ\", \"MI\", \"XX\", \"SV\", \"FI\", \"PI\", \"PR\", \"1P\"]}, \"reference_identification\": {\"type\": \"string\", \"description\": \"Reference Identification (e.g., Member ID, National Provider Identifier)\", \"minLength\": 1, \"maxLength\": 20}, \"ref_segment\": {\"type\": \"string\", \"description\": \"Ref segment in the format REF*XX*123456789~\", \"minLength\": 1, \"maxLength\": 60}}, \"required\": [\"reference_identification_qualifier\", \"reference_identification\", \"ref_segment\"]}\n",
      "Produce a JSON object that adheres to the schema with all properties [/INST] {\"reference_identification_qualifier\": \"PR\", \"reference_identification\": \"cjY\", \"ref_segment\": \"REF*PR*cjY~\"}</s>\n",
      "------------------------------------------------------------\n",
      "Processing row 4/30\n"
     ]
    },
    {
     "name": "stderr",
     "output_type": "stream",
     "text": [
      "DEBUG - Starting score: 10\n",
      "DEBUG - Keys in json_ref not present in json_gen, reducing score by -0.375\n",
      "DEBUG - Count of mismatched fields: 0.875, reducing score by 1.75\n",
      "DEBUG - NM1*PR*2*Wilson*Jacqueline***PhD*PI*QsuFNASzfRyJAiiNSmIVyDOgccfXSdgnSSqDPWLbQvqijjANlxnqZoFmQXMXjGklouvzGojUW~  NM1*IL*1*Hall*Amanda**Mrs.*MD*PI*BgGqKTNWXkqoRYCWZGXWKNmLKwGvJJTvMWvJwLKv~\n",
      "DEBUG - Final score: 8.625\n",
      "INFO - {\"valid_json\": 100.0, \"valid_json_schema\": 100.0, \"domain_field_match\": 76.14583333333333}\n",
      "Setting `pad_token_id` to `eos_token_id`:3 for open-end generation.\n"
     ]
    },
    {
     "name": "stdout",
     "output_type": "stream",
     "text": [
      "Generated text: \n",
      " <s><s>[INST] You are a sample data generator that creates valid JSON data based on a schema.\n",
      "Given the Schema: {\"$schema\": \"http://json-schema.org/draft-07/schema#\", \"title\": \"X12 NM1 Segment\", \"description\": \"Schema for X12 NM1 segment, which contains subscriber's or organization name information.\", \"type\": \"object\", \"properties\": {\"entity_identifier_code\": {\"type\": \"string\", \"description\": \"Entity Identifier Code (e.g., IL for Insured or 03 for dependent or PR for Payer or 1P for Provider)\", \"enum\": [\"IL\", \"03\", \"PR\", \"1P\"]}, \"entity_type_qualifier\": {\"type\": \"string\", \"description\": \"Entity Type Qualifier (1 = Person, 2 = Non-Person Entity)\", \"enum\": [\"1\", \"2\"]}, \"name_last_or_organizationName\": {\"type\": \"string\", \"description\": \"Name Last or Organization Name\", \"minLength\": 1, \"maxLength\": 60}, \"name_first\": {\"type\": \"string\", \"description\": \"Name First\", \"nullable\": true, \"minLength\": 1, \"maxLength\": 35}, \"name_middle\": {\"type\": \"string\", \"description\": \"Name Middle\", \"nullable\": true, \"minLength\": 1, \"maxLength\": 25}, \"name_prefix\": {\"type\": \"string\", \"description\": \"Name Prefix\", \"nullable\": true, \"minLength\": 1, \"maxLength\": 10}, \"name_suffix\": {\"type\": \"string\", \"description\": \"Name Suffix\", \"nullable\": true, \"minLength\": 1, \"maxLength\": 10}, \"identification_code_qualifier\": {\"type\": \"string\", \"description\": \"Identification Code Qualifier (e.g., MI = Member ID, XX = National Provider Identifier, SV = Service Provider Number, FI = Federal Tax ID, PI = Payer Identifier, ZZ = Mutually Defined)\", \"enum\": [\"MI\", \"XX\", \"SV\", \"FI\", \"PI\", \"ZZ\"], \"nullable\": true}, \"identification_code\": {\"type\": \"string\", \"description\": \"Identification Code\", \"nullable\": true, \"minLength\": 2, \"maxLength\": 80}, \"nm1_segment\": {\"type\": \"string\", \"description\": \"NM1 Segment format of the data (e.g., NM1*IL*1*DOE*JOHN****MI*123456789~)\", \"nullable\": true, \"maxLength\": 255}}, \"required\": [\"entity_identifier_code\", \"entity_type_qualifier\", \"name_last_or_organizationName\", \"nm1_segment\"]}\n",
      "Create a JSON object with the required properties: entity_identifier_code, entity_type_qualifier, name_last_or_organizationName, nm1_segment [/INST] {\"entity_identifier_code\": \"IL\", \"entity_type_qualifier\": \"1\", \"name_last_or_organizationName\": \"Hall\", \"name_first\": \"Amanda\", \"name_prefix\": \"Mrs.\", \"name_suffix\": \"MD\", \"identification_code_qualifier\": \"PI\", \"identification_code\": \"BgGqKTNWXkqoRYCWZGXWKNmLKwGvJJTvMWvJwLKv\", \"nm1_segment\": \"NM1*IL*1*Hall*Amanda**Mrs.*MD*PI*BgGqKTNWXkqoRYCWZGXWKNmLKwGvJJTvMWvJwLKv~\"}</s>\n",
      "------------------------------------------------------------\n",
      "Processing row 5/30\n"
     ]
    },
    {
     "name": "stderr",
     "output_type": "stream",
     "text": [
      "DEBUG - Starting score: 10\n",
      "DEBUG - Count of mismatched fields: 1.0, reducing score by 2.0\n",
      "DEBUG - REF*SV*tIZPudoXwLwNkTE~  REF*FI*QwZJZrKWdXrKqoWgKm~\n",
      "DEBUG - Final score: 8.0\n",
      "INFO - {\"valid_json\": 100.0, \"valid_json_schema\": 100.0, \"domain_field_match\": 76.91666666666666}\n",
      "Setting `pad_token_id` to `eos_token_id`:3 for open-end generation.\n"
     ]
    },
    {
     "name": "stdout",
     "output_type": "stream",
     "text": [
      "Generated text: \n",
      " <s><s>[INST] You are a sample data generator that creates valid JSON data based on a schema.\n",
      "Given the Schema: {\"$schema\": \"http://json-schema.org/draft-07/schema#\", \"title\": \"X12 REF Segment\", \"description\": \"Schema for X12 REF segment, which contains reference identification information.\", \"type\": \"object\", \"properties\": {\"reference_identification_qualifier\": {\"type\": \"string\", \"description\": \"Reference Identification Qualifier (e.g., ZZ = Mutually Defined, MI = Member ID, XX = National Provider Identifier, SV = Service Provider Number, FI = Federal Tax ID, PI = Payer Identifier, PR = Payer Name, 1P = Provider Name)\", \"enum\": [\"ZZ\", \"MI\", \"XX\", \"SV\", \"FI\", \"PI\", \"PR\", \"1P\"]}, \"reference_identification\": {\"type\": \"string\", \"description\": \"Reference Identification (e.g., Member ID, National Provider Identifier)\", \"minLength\": 1, \"maxLength\": 20}, \"ref_segment\": {\"type\": \"string\", \"description\": \"Ref segment in the format REF*XX*123456789~\", \"minLength\": 1, \"maxLength\": 60}}, \"required\": [\"reference_identification_qualifier\", \"reference_identification\", \"ref_segment\"]}\n",
      "Produce a JSON object that adheres to the schema with all properties [/INST] {\"reference_identification_qualifier\": \"FI\", \"reference_identification\": \"QwZJZrKWdXrKqoWgKm\", \"ref_segment\": \"REF*FI*QwZJZrKWdXrKqoWgKm~\"}</s>\n",
      "------------------------------------------------------------\n",
      "Processing row 6/30\n"
     ]
    },
    {
     "name": "stderr",
     "output_type": "stream",
     "text": [
      "DEBUG - Starting score: 10\n",
      "DEBUG - Count of mismatched fields: 1.0, reducing score by 2.0\n",
      "DEBUG - REF*XX*DXVwqiSUGC~  REF*PI*dLWuZY~\n",
      "DEBUG - Final score: 8.0\n",
      "INFO - {\"valid_json\": 100.0, \"valid_json_schema\": 100.0, \"domain_field_match\": 77.43055555555554}\n",
      "Setting `pad_token_id` to `eos_token_id`:3 for open-end generation.\n"
     ]
    },
    {
     "name": "stdout",
     "output_type": "stream",
     "text": [
      "Generated text: \n",
      " <s><s>[INST] You are a sample data generator that creates valid JSON data based on a schema.\n",
      "Given the Schema: {\"$schema\": \"http://json-schema.org/draft-07/schema#\", \"title\": \"X12 REF Segment\", \"description\": \"Schema for X12 REF segment, which contains reference identification information.\", \"type\": \"object\", \"properties\": {\"reference_identification_qualifier\": {\"type\": \"string\", \"description\": \"Reference Identification Qualifier (e.g., ZZ = Mutually Defined, MI = Member ID, XX = National Provider Identifier, SV = Service Provider Number, FI = Federal Tax ID, PI = Payer Identifier, PR = Payer Name, 1P = Provider Name)\", \"enum\": [\"ZZ\", \"MI\", \"XX\", \"SV\", \"FI\", \"PI\", \"PR\", \"1P\"]}, \"reference_identification\": {\"type\": \"string\", \"description\": \"Reference Identification (e.g., Member ID, National Provider Identifier)\", \"minLength\": 1, \"maxLength\": 20}, \"ref_segment\": {\"type\": \"string\", \"description\": \"Ref segment in the format REF*XX*123456789~\", \"minLength\": 1, \"maxLength\": 60}}, \"required\": [\"reference_identification_qualifier\", \"reference_identification\", \"ref_segment\"]}\n",
      "Produce a JSON object that adheres to the schema with all properties [/INST] {\"reference_identification_qualifier\": \"PI\", \"reference_identification\": \"dLWuZY\", \"ref_segment\": \"REF*PI*dLWuZY~\"}</s>\n",
      "------------------------------------------------------------\n",
      "Processing row 7/30\n"
     ]
    },
    {
     "name": "stderr",
     "output_type": "stream",
     "text": [
      "INFO - {\"valid_json\": 85.71428571428571, \"valid_json_schema\": 100.0, \"domain_field_match\": 66.3690476190476}\n",
      "Setting `pad_token_id` to `eos_token_id`:3 for open-end generation.\n"
     ]
    },
    {
     "name": "stdout",
     "output_type": "stream",
     "text": [
      "Generated text: \n",
      " <s><s>[INST] You are a sample data generator that creates valid JSON data based on a schema.\n",
      "Give a sample for the X12 NM1 Segment schema [/INST] {\"entity_identifier_code\": \"IL\", \"entity_type_qualifier\": \"1\", \"name_last_or_organizationName\": \"Powell\", \"name_first\": \"William\", \"name_middle\": \"B\", \"name_prefix\": \"Mr.\", \"name_suffix\": \"Jr.\", \"identification_code_qualifier\": \"MI\", \"identification_code\": \"XgHkDKoGKhKcNqUJxqKoTfYgCqKcNqUJxqKoTfYgCqKcNqUJxqKoTfYgCqKcNqUJxqKoTfYgCqKcNqUJxqKoTfYgCqKcNqUJxqKoTfYgCqKcNqUJxqKoTfYgCqKcNqUJxqKoTfYgCqKcNqUJxqKoTfYgCqKcNqUJxqKoTfYgCqKcNqUJxqKoTfYgCqKcNqUJxqKoTfYgCqKcNqUJxqKoTfYgCqKcNqUJxqKoTfYgCqKcNqUJxqKoTfYgCqKcNqUJxqKoTfYgCqKcNqUJxqKoTfYgCqKcNqUJxqKoTfYgCqKcNqUJxqKoTfYgCqKcNqUJxqKoTfYgCqKcNqUJxqKoTfYgCqKcNqUJxqKoTfYgCqKcNqUJxqKoTfYgCqKcNqUJxqKoTfYgCqKcNqUJxqKoTfYgCqKcNqUJxqKoTfYgCqKcNqUJxqKoTfYgCqKcNqUJxqKoTfYgCqKcNqUJxqKoTfYgCqKcNqUJxqKoTfYgCqKcNqUJxqKoTfYgCqKcNqUJxqKoTfYgCqKcNqUJxqKoTfYgCqKcNqUJxqKoTfYgCqKcNqUJxqKoTfYgCqKcNqUJxqKoTfYgCqKcNqUJxqKoTfYgCqKcNqUJxqKoTfYgCqKcNqUJxqKoTfYgCqKcNqUJxqKoTfYgCqKcNqUJxqKoTfYgCqKcNqUJxqKoTfYgCqKcNqUJxqKoTfYgCqKcNqUJxqKoTfYgCqKcNqUJxqKoTfYgCqKcNqUJxqKoTfYgCqKcNqUJxqKoTfYgCqKcNqUJxqKoTfYgCqKcNqUJxqKoTfYgCqKcNqUJxqKoTfYgCqKcNqUJxqKoTfYgCqKcNqUJxqKoTfYgCqKcNqUJxqKoTfYgCqKcNqUJxqKoTfYgCqKcNqUJxqKoTfYgCqKcNqUJxqKoTfYgCqKcN\n",
      "------------------------------------------------------------\n",
      "Processing row 8/30\n"
     ]
    },
    {
     "name": "stderr",
     "output_type": "stream",
     "text": [
      "DEBUG - Starting score: 10\n",
      "DEBUG - Keys in json_ref not present in json_gen, reducing score by 0.0\n",
      "DEBUG - Count of mismatched fields: 1.0, reducing score by 2.0\n",
      "DEBUG - NM1*03*1*Wilkins*Jeremy*E*Dr.*DVM**nCfKvTZKhZWlIcIdXhMOFFLKNnldmbMDpaWsVTxlSnVZDnVckToJimRYhsqhCSxbiegQZszOFhIaMuDK~  NM1*IL*2*Hall*Anthony**Mr.*DDS*MI*YDXDGJXZOdYxJYyVXywZKRUJVyJKbJgJCXyJgXyYxZyZy~\n",
      "DEBUG - Final score: 8.0\n",
      "INFO - {\"valid_json\": 87.5, \"valid_json_schema\": 100.0, \"domain_field_match\": 68.07291666666666}\n",
      "Setting `pad_token_id` to `eos_token_id`:3 for open-end generation.\n"
     ]
    },
    {
     "name": "stdout",
     "output_type": "stream",
     "text": [
      "Generated text: \n",
      " <s><s>[INST] You are a sample data generator that creates valid JSON data based on a schema.\n",
      "Given the Schema: {\"$schema\": \"http://json-schema.org/draft-07/schema#\", \"title\": \"X12 NM1 Segment\", \"description\": \"Schema for X12 NM1 segment, which contains subscriber's or organization name information.\", \"type\": \"object\", \"properties\": {\"entity_identifier_code\": {\"type\": \"string\", \"description\": \"Entity Identifier Code (e.g., IL for Insured or 03 for dependent or PR for Payer or 1P for Provider)\", \"enum\": [\"IL\", \"03\", \"PR\", \"1P\"]}, \"entity_type_qualifier\": {\"type\": \"string\", \"description\": \"Entity Type Qualifier (1 = Person, 2 = Non-Person Entity)\", \"enum\": [\"1\", \"2\"]}, \"name_last_or_organizationName\": {\"type\": \"string\", \"description\": \"Name Last or Organization Name\", \"minLength\": 1, \"maxLength\": 60}, \"name_first\": {\"type\": \"string\", \"description\": \"Name First\", \"nullable\": true, \"minLength\": 1, \"maxLength\": 35}, \"name_middle\": {\"type\": \"string\", \"description\": \"Name Middle\", \"nullable\": true, \"minLength\": 1, \"maxLength\": 25}, \"name_prefix\": {\"type\": \"string\", \"description\": \"Name Prefix\", \"nullable\": true, \"minLength\": 1, \"maxLength\": 10}, \"name_suffix\": {\"type\": \"string\", \"description\": \"Name Suffix\", \"nullable\": true, \"minLength\": 1, \"maxLength\": 10}, \"identification_code_qualifier\": {\"type\": \"string\", \"description\": \"Identification Code Qualifier (e.g., MI = Member ID, XX = National Provider Identifier, SV = Service Provider Number, FI = Federal Tax ID, PI = Payer Identifier, ZZ = Mutually Defined)\", \"enum\": [\"MI\", \"XX\", \"SV\", \"FI\", \"PI\", \"ZZ\"], \"nullable\": true}, \"identification_code\": {\"type\": \"string\", \"description\": \"Identification Code\", \"nullable\": true, \"minLength\": 2, \"maxLength\": 80}, \"nm1_segment\": {\"type\": \"string\", \"description\": \"NM1 Segment format of the data (e.g., NM1*IL*1*DOE*JOHN****MI*123456789~)\", \"nullable\": true, \"maxLength\": 255}}, \"required\": [\"entity_identifier_code\", \"entity_type_qualifier\", \"name_last_or_organizationName\", \"nm1_segment\"]}\n",
      "Produce a JSON object that conforms to the specified schema [/INST] {\"entity_identifier_code\": \"IL\", \"entity_type_qualifier\": \"2\", \"name_last_or_organizationName\": \"Hall\", \"name_first\": \"Anthony\", \"name_prefix\": \"Mr.\", \"name_suffix\": \"DDS\", \"identification_code_qualifier\": \"MI\", \"identification_code\": \"YDXDGJXZOdYxJYyVXywZKRUJVyJKbJgJCXyJgXyYxZyZy\", \"nm1_segment\": \"NM1*IL*2*Hall*Anthony**Mr.*DDS*MI*YDXDGJXZOdYxJYyVXywZKRUJVyJKbJgJCXyJgXyYxZyZy~\"}</s>\n",
      "------------------------------------------------------------\n",
      "Processing row 9/30\n"
     ]
    },
    {
     "name": "stderr",
     "output_type": "stream",
     "text": [
      "DEBUG - Starting score: 10\n",
      "DEBUG - Count of mismatched fields: 1.0, reducing score by 2.0\n",
      "DEBUG - DTP*156*RD8*19850729-19850803  DTP*155*RD8*19780913-19780918\n",
      "DEBUG - dtp_segment DTP*155*RD8*19780913-19780918 does not match the expected pattern, reducing score by 2.5\n",
      "DEBUG - Final score: 5.5\n",
      "INFO - {\"valid_json\": 88.88888888888889, \"valid_json_schema\": 100.0, \"domain_field_match\": 66.62037037037037}\n",
      "Setting `pad_token_id` to `eos_token_id`:3 for open-end generation.\n"
     ]
    },
    {
     "name": "stdout",
     "output_type": "stream",
     "text": [
      "Generated text: \n",
      " <s><s>[INST] You are a structured data generator that creates valid JSON data based on a schema.\n",
      "Give a sample for the X12 DTP Segment schema and include all properties [/INST] {\"dtp_segment\": \"DTP*155*RD8*19780913-19780918\"}\n",
      "\n",
      "The X12 DTP Segment schema is: \"DTP*155*RD8*19780913-19780918\". The DTP segment is a data segment that identifies the date and period of a recurring payment or service. \"DTP*\" is the segment identifier, \"155\" is the recurring payment or service identifier, \"RD8\" is the type of recurring payment or service, \"19780913-19780918\" is the date and period of the recurring payment or service.</s>\n",
      "------------------------------------------------------------\n",
      "Processing row 10/30\n"
     ]
    },
    {
     "name": "stderr",
     "output_type": "stream",
     "text": [
      "DEBUG - Starting score: 10\n",
      "DEBUG - Count of mismatched fields: 1.0, reducing score by 2.0\n",
      "DEBUG - NM1*IL*1*Lewis*Rebecca**Miss**PI*CifaexfRtcNPukxTGmSpcEEIvPBWJglCjd~  NM1*PR*2*Lawrence*Katherine**Mr.**SV*JxMtZrQKrJDKBKjKXyVnPnwUoIxwKxGtNwP~\n",
      "DEBUG - Final score: 8.0\n",
      "INFO - {\"valid_json\": 90.0, \"valid_json_schema\": 100.0, \"domain_field_match\": 67.95833333333333}\n",
      "Setting `pad_token_id` to `eos_token_id`:3 for open-end generation.\n"
     ]
    },
    {
     "name": "stdout",
     "output_type": "stream",
     "text": [
      "Generated text: \n",
      " <s><s>[INST] You are a Json test data generator generating valid json data based on a json schema. \n",
      "Given the Schema: {\"$schema\": \"http://json-schema.org/draft-07/schema#\", \"title\": \"X12 NM1 Segment\", \"description\": \"Schema for X12 NM1 segment, which contains subscriber's or organization name information.\", \"type\": \"object\", \"properties\": {\"entity_identifier_code\": {\"type\": \"string\", \"description\": \"Entity Identifier Code (e.g., IL for Insured or 03 for dependent or PR for Payer or 1P for Provider)\", \"enum\": [\"IL\", \"03\", \"PR\", \"1P\"]}, \"entity_type_qualifier\": {\"type\": \"string\", \"description\": \"Entity Type Qualifier (1 = Person, 2 = Non-Person Entity)\", \"enum\": [\"1\", \"2\"]}, \"name_last_or_organizationName\": {\"type\": \"string\", \"description\": \"Name Last or Organization Name\", \"minLength\": 1, \"maxLength\": 60}, \"name_first\": {\"type\": \"string\", \"description\": \"Name First\", \"nullable\": true, \"minLength\": 1, \"maxLength\": 35}, \"name_middle\": {\"type\": \"string\", \"description\": \"Name Middle\", \"nullable\": true, \"minLength\": 1, \"maxLength\": 25}, \"name_prefix\": {\"type\": \"string\", \"description\": \"Name Prefix\", \"nullable\": true, \"minLength\": 1, \"maxLength\": 10}, \"name_suffix\": {\"type\": \"string\", \"description\": \"Name Suffix\", \"nullable\": true, \"minLength\": 1, \"maxLength\": 10}, \"identification_code_qualifier\": {\"type\": \"string\", \"description\": \"Identification Code Qualifier (e.g., MI = Member ID, XX = National Provider Identifier, SV = Service Provider Number, FI = Federal Tax ID, PI = Payer Identifier, ZZ = Mutually Defined)\", \"enum\": [\"MI\", \"XX\", \"SV\", \"FI\", \"PI\", \"ZZ\"], \"nullable\": true}, \"identification_code\": {\"type\": \"string\", \"description\": \"Identification Code\", \"nullable\": true, \"minLength\": 2, \"maxLength\": 80}, \"nm1_segment\": {\"type\": \"string\", \"description\": \"NM1 Segment format of the data (e.g., NM1*IL*1*DOE*JOHN****MI*123456789~)\", \"nullable\": true, \"maxLength\": 255}}, \"required\": [\"entity_identifier_code\", \"entity_type_qualifier\", \"name_last_or_organizationName\", \"nm1_segment\"]}\n",
      "Generate a JSON object that includes the following properties: entity_identifier_code, entity_type_qualifier, name_last_or_organizationName, name_first, name_prefix, identification_code_qualifier, identification_code, nm1_segment [/INST] {\"entity_identifier_code\": \"PR\", \"entity_type_qualifier\": \"2\", \"name_last_or_organizationName\": \"Lawrence\", \"name_first\": \"Katherine\", \"name_prefix\": \"Mr.\", \"identification_code_qualifier\": \"SV\", \"identification_code\": \"JxMtZrQKrJDKBKjKXyVnPnwUoIxwKxGtNwP\", \"nm1_segment\": \"NM1*PR*2*Lawrence*Katherine**Mr.**SV*JxMtZrQKrJDKBKjKXyVnPnwUoIxwKxGtNwP~\"}</s>\n",
      "------------------------------------------------------------\n",
      "Processing row 11/30\n"
     ]
    },
    {
     "name": "stderr",
     "output_type": "stream",
     "text": [
      "DEBUG - Starting score: 10\n",
      "DEBUG - Count of mismatched fields: 0.0, reducing score by 0.0\n",
      "DEBUG - NM1*PR*1*Chen*Kevin*M**MD*ZZ*BsWYJmZhWUOwCvZJqhvNvdHhYydDMjrQxgXtLTnHnCIzRlOaCqtcuMUbvAfOWCFuhmXJwKEygC~  NM1*PR*1*Chen*Kevin*M**MD*ZZ*BsWYJmZhWUOwCvZJqhvNvdHhYydDMjrQxgXtLTnHnCIzRlOaCqtcuMUbvAfOWCFuhmXJwKEygC~\n",
      "DEBUG - Final score: 10.0\n",
      "INFO - {\"valid_json\": 90.9090909090909, \"valid_json_schema\": 100.0, \"domain_field_match\": 70.87121212121212}\n",
      "Setting `pad_token_id` to `eos_token_id`:3 for open-end generation.\n"
     ]
    },
    {
     "name": "stdout",
     "output_type": "stream",
     "text": [
      "Generated text: \n",
      " <s><s>[INST] You are a sample data generator that creates valid JSON data based on a schema.\n",
      "Given the Schema: {\"$schema\": \"http://json-schema.org/draft-07/schema#\", \"title\": \"X12 NM1 Segment\", \"description\": \"Schema for X12 NM1 segment, which contains subscriber's or organization name information.\", \"type\": \"object\", \"properties\": {\"entity_identifier_code\": {\"type\": \"string\", \"description\": \"Entity Identifier Code (e.g., IL for Insured or 03 for dependent or PR for Payer or 1P for Provider)\", \"enum\": [\"IL\", \"03\", \"PR\", \"1P\"]}, \"entity_type_qualifier\": {\"type\": \"string\", \"description\": \"Entity Type Qualifier (1 = Person, 2 = Non-Person Entity)\", \"enum\": [\"1\", \"2\"]}, \"name_last_or_organizationName\": {\"type\": \"string\", \"description\": \"Name Last or Organization Name\", \"minLength\": 1, \"maxLength\": 60}, \"name_first\": {\"type\": \"string\", \"description\": \"Name First\", \"nullable\": true, \"minLength\": 1, \"maxLength\": 35}, \"name_middle\": {\"type\": \"string\", \"description\": \"Name Middle\", \"nullable\": true, \"minLength\": 1, \"maxLength\": 25}, \"name_prefix\": {\"type\": \"string\", \"description\": \"Name Prefix\", \"nullable\": true, \"minLength\": 1, \"maxLength\": 10}, \"name_suffix\": {\"type\": \"string\", \"description\": \"Name Suffix\", \"nullable\": true, \"minLength\": 1, \"maxLength\": 10}, \"identification_code_qualifier\": {\"type\": \"string\", \"description\": \"Identification Code Qualifier (e.g., MI = Member ID, XX = National Provider Identifier, SV = Service Provider Number, FI = Federal Tax ID, PI = Payer Identifier, ZZ = Mutually Defined)\", \"enum\": [\"MI\", \"XX\", \"SV\", \"FI\", \"PI\", \"ZZ\"], \"nullable\": true}, \"identification_code\": {\"type\": \"string\", \"description\": \"Identification Code\", \"nullable\": true, \"minLength\": 2, \"maxLength\": 80}, \"nm1_segment\": {\"type\": \"string\", \"description\": \"NM1 Segment format of the data (e.g., NM1*IL*1*DOE*JOHN****MI*123456789~)\", \"nullable\": true, \"maxLength\": 255}}, \"required\": [\"entity_identifier_code\", \"entity_type_qualifier\", \"name_last_or_organizationName\", \"nm1_segment\"]}\n",
      "Create a JSON object that contains the following properties and values: entity_identifier_code: PR, entity_type_qualifier: 1, name_last_or_organizationName: Chen, name_first: Kevin, name_middle: M, name_suffix: MD, identification_code_qualifier: ZZ, identification_code: BsWYJmZhWUOwCvZJqhvNvdHhYydDMjrQxgXtLTnHnCIzRlOaCqtcuMUbvAfOWCFuhmXJwKEygC, nm1_segment: NM1*PR*1*Chen*Kevin*M**MD*ZZ*BsWYJmZhWUOwCvZJqhvNvdHhYydDMjrQxgXtLTnHnCIzRlOaCqtcuMUbvAfOWCFuhmXJwKEygC~ [/INST] {\"entity_identifier_code\": \"PR\", \"entity_type_qualifier\": \"1\", \"name_last_or_organizationName\": \"Chen\", \"name_first\": \"Kevin\", \"name_middle\": \"M\", \"name_suffix\": \"MD\", \"identification_code_qualifier\": \"ZZ\", \"identification_code\": \"BsWYJmZhWUOwCvZJqhvNvdHhYydDMjrQxgXtLTnHnCIzRlOaCqtcuMUbvAfOWCFuhmXJwKEygC\", \"nm1_segment\": \"NM1*PR*1*Chen*Kevin*M**MD*ZZ*BsWYJmZhWUOwCvZJqhvNvdHhYydDMjrQxgXtLTnHnCIzRlOaCqtcuMUbvAfOWCFuhmXJwKEygC~\"}</s>\n",
      "------------------------------------------------------------\n",
      "Processing row 12/30\n"
     ]
    },
    {
     "name": "stderr",
     "output_type": "stream",
     "text": [
      "DEBUG - Starting score: 10\n",
      "DEBUG - Keys in json_ref not present in json_gen, reducing score by 0.0\n",
      "DEBUG - Count of mismatched fields: 1.0, reducing score by 2.0\n",
      "DEBUG - NM1*1P*1*Taylor**U*Miss*III*MI*UqTADOZNHctkqiCjSPPItSEosohoFl~  NM1*03*2*Lee*Katherine**Mrs.*DDS*SV*zrVmYCgVZJyxZTZkLBwQwZzRgDxhZTZkLBwZzRgDxh~\n",
      "DEBUG - Final score: 8.0\n",
      "INFO - {\"valid_json\": 91.66666666666666, \"valid_json_schema\": 100.0, \"domain_field_match\": 71.63194444444444}\n",
      "Setting `pad_token_id` to `eos_token_id`:3 for open-end generation.\n"
     ]
    },
    {
     "name": "stdout",
     "output_type": "stream",
     "text": [
      "Generated text: \n",
      " <s><s>[INST] You are a sample data generator that creates valid JSON data based on a schema.\n",
      "Given the Schema: {\"$schema\": \"http://json-schema.org/draft-07/schema#\", \"title\": \"X12 NM1 Segment\", \"description\": \"Schema for X12 NM1 segment, which contains subscriber's or organization name information.\", \"type\": \"object\", \"properties\": {\"entity_identifier_code\": {\"type\": \"string\", \"description\": \"Entity Identifier Code (e.g., IL for Insured or 03 for dependent or PR for Payer or 1P for Provider)\", \"enum\": [\"IL\", \"03\", \"PR\", \"1P\"]}, \"entity_type_qualifier\": {\"type\": \"string\", \"description\": \"Entity Type Qualifier (1 = Person, 2 = Non-Person Entity)\", \"enum\": [\"1\", \"2\"]}, \"name_last_or_organizationName\": {\"type\": \"string\", \"description\": \"Name Last or Organization Name\", \"minLength\": 1, \"maxLength\": 60}, \"name_first\": {\"type\": \"string\", \"description\": \"Name First\", \"nullable\": true, \"minLength\": 1, \"maxLength\": 35}, \"name_middle\": {\"type\": \"string\", \"description\": \"Name Middle\", \"nullable\": true, \"minLength\": 1, \"maxLength\": 25}, \"name_prefix\": {\"type\": \"string\", \"description\": \"Name Prefix\", \"nullable\": true, \"minLength\": 1, \"maxLength\": 10}, \"name_suffix\": {\"type\": \"string\", \"description\": \"Name Suffix\", \"nullable\": true, \"minLength\": 1, \"maxLength\": 10}, \"identification_code_qualifier\": {\"type\": \"string\", \"description\": \"Identification Code Qualifier (e.g., MI = Member ID, XX = National Provider Identifier, SV = Service Provider Number, FI = Federal Tax ID, PI = Payer Identifier, ZZ = Mutually Defined)\", \"enum\": [\"MI\", \"XX\", \"SV\", \"FI\", \"PI\", \"ZZ\"], \"nullable\": true}, \"identification_code\": {\"type\": \"string\", \"description\": \"Identification Code\", \"nullable\": true, \"minLength\": 2, \"maxLength\": 80}, \"nm1_segment\": {\"type\": \"string\", \"description\": \"NM1 Segment format of the data (e.g., NM1*IL*1*DOE*JOHN****MI*123456789~)\", \"nullable\": true, \"maxLength\": 255}}, \"required\": [\"entity_identifier_code\", \"entity_type_qualifier\", \"name_last_or_organizationName\", \"nm1_segment\"]}\n",
      "Give a JSON data that has the required properties: entity_identifier_code, entity_type_qualifier, name_last_or_organizationName, nm1_segment [/INST] {\"entity_identifier_code\": \"03\", \"entity_type_qualifier\": \"2\", \"name_last_or_organizationName\": \"Lee\", \"name_first\": \"Katherine\", \"name_prefix\": \"Mrs.\", \"name_suffix\": \"DDS\", \"identification_code_qualifier\": \"SV\", \"identification_code\": \"zrVmYCgVZJyxZTZkLBwQwZzRgDxhZTZkLBwZzRgDxh\", \"nm1_segment\": \"NM1*03*2*Lee*Katherine**Mrs.*DDS*SV*zrVmYCgVZJyxZTZkLBwQwZzRgDxhZTZkLBwZzRgDxh~\"}</s>\n",
      "------------------------------------------------------------\n",
      "Processing row 13/30\n"
     ]
    },
    {
     "name": "stderr",
     "output_type": "stream",
     "text": [
      "DEBUG - Starting score: 10\n",
      "DEBUG - Count of mismatched fields: 0.0, reducing score by 0.0\n",
      "DEBUG - NM1*IL*1*Calderon*Jennifer*B*Mr.*DDS*MI*~  NM1*IL*1*Calderon*Jennifer*B*Mr.*DDS*MI*~\n",
      "DEBUG - Final score: 10.0\n",
      "INFO - {\"valid_json\": 92.3076923076923, \"valid_json_schema\": 100.0, \"domain_field_match\": 73.81410256410257}\n",
      "Setting `pad_token_id` to `eos_token_id`:3 for open-end generation.\n"
     ]
    },
    {
     "name": "stdout",
     "output_type": "stream",
     "text": [
      "Generated text: \n",
      " <s><s>[INST] You are a structured data generator that creates valid JSON data based on a schema.\n",
      "Given the Schema: {\"$schema\": \"http://json-schema.org/draft-07/schema#\", \"title\": \"X12 NM1 Segment\", \"description\": \"Schema for X12 NM1 segment, which contains subscriber's or organization name information.\", \"type\": \"object\", \"properties\": {\"entity_identifier_code\": {\"type\": \"string\", \"description\": \"Entity Identifier Code (e.g., IL for Insured or 03 for dependent or PR for Payer or 1P for Provider)\", \"enum\": [\"IL\", \"03\", \"PR\", \"1P\"]}, \"entity_type_qualifier\": {\"type\": \"string\", \"description\": \"Entity Type Qualifier (1 = Person, 2 = Non-Person Entity)\", \"enum\": [\"1\", \"2\"]}, \"name_last_or_organizationName\": {\"type\": \"string\", \"description\": \"Name Last or Organization Name\", \"minLength\": 1, \"maxLength\": 60}, \"name_first\": {\"type\": \"string\", \"description\": \"Name First\", \"nullable\": true, \"minLength\": 1, \"maxLength\": 35}, \"name_middle\": {\"type\": \"string\", \"description\": \"Name Middle\", \"nullable\": true, \"minLength\": 1, \"maxLength\": 25}, \"name_prefix\": {\"type\": \"string\", \"description\": \"Name Prefix\", \"nullable\": true, \"minLength\": 1, \"maxLength\": 10}, \"name_suffix\": {\"type\": \"string\", \"description\": \"Name Suffix\", \"nullable\": true, \"minLength\": 1, \"maxLength\": 10}, \"identification_code_qualifier\": {\"type\": \"string\", \"description\": \"Identification Code Qualifier (e.g., MI = Member ID, XX = National Provider Identifier, SV = Service Provider Number, FI = Federal Tax ID, PI = Payer Identifier, ZZ = Mutually Defined)\", \"enum\": [\"MI\", \"XX\", \"SV\", \"FI\", \"PI\", \"ZZ\"], \"nullable\": true}, \"identification_code\": {\"type\": \"string\", \"description\": \"Identification Code\", \"nullable\": true, \"minLength\": 2, \"maxLength\": 80}, \"nm1_segment\": {\"type\": \"string\", \"description\": \"NM1 Segment format of the data (e.g., NM1*IL*1*DOE*JOHN****MI*123456789~)\", \"nullable\": true, \"maxLength\": 255}}, \"required\": [\"entity_identifier_code\", \"entity_type_qualifier\", \"name_last_or_organizationName\", \"nm1_segment\"]}\n",
      "Generate a JSON object that includes the following properties and values: entity_identifier_code: IL, entity_type_qualifier: 1, name_last_or_organizationName: Calderon, name_first: Jennifer, name_middle: B, name_prefix: Mr., name_suffix: DDS, identification_code_qualifier: MI, nm1_segment: NM1*IL*1*Calderon*Jennifer*B*Mr.*DDS*MI*~ [/INST] {\"entity_identifier_code\": \"IL\", \"entity_type_qualifier\": \"1\", \"name_last_or_organizationName\": \"Calderon\", \"name_first\": \"Jennifer\", \"name_middle\": \"B\", \"name_prefix\": \"Mr.\", \"name_suffix\": \"DDS\", \"identification_code_qualifier\": \"MI\", \"nm1_segment\": \"NM1*IL*1*Calderon*Jennifer*B*Mr.*DDS*MI*~\"}</s>\n",
      "------------------------------------------------------------\n",
      "Processing row 14/30\n"
     ]
    },
    {
     "name": "stderr",
     "output_type": "stream",
     "text": [
      "DEBUG - Starting score: 10\n",
      "DEBUG - Count of mismatched fields: 1.0, reducing score by 2.0\n",
      "DEBUG - DTP*152*D8*20030116-20030121  DTP*151*D8*19981219-19981224\n",
      "DEBUG - dtp_segment DTP*151*D8*19981219-19981224 does not match the expected pattern, reducing score by 2.5\n",
      "DEBUG - Final score: 5.5\n",
      "INFO - {\"valid_json\": 92.85714285714286, \"valid_json_schema\": 100.0, \"domain_field_match\": 72.47023809523809}\n",
      "Setting `pad_token_id` to `eos_token_id`:3 for open-end generation.\n"
     ]
    },
    {
     "name": "stdout",
     "output_type": "stream",
     "text": [
      "Generated text: \n",
      " <s><s>[INST] You are a structured data generator that creates valid JSON data based on a schema.\n",
      "Given the Schema: {\"$schema\": \"http://json-schema.org/draft-07/schema#\", \"title\": \"X12 DTP Segment\", \"description\": \"Schema for X12 DTP segment, which contains date/time period information.\", \"type\": \"object\", \"properties\": {\"dtp_segment\": {\"type\": \"string\", \"description\": \"Date/Time Period (e.g., DTP*291*D8*20220101-20220131~)\", \"minLength\": 1, \"maxLength\": 30}}, \"required\": [\"dtp_segment\"]}\n",
      "Generate a JSON object that includes all properties [/INST] {\"dtp_segment\": \"DTP*151*D8*19981219-19981224\"}</s>\n",
      "------------------------------------------------------------\n",
      "Processing row 15/30\n"
     ]
    },
    {
     "name": "stderr",
     "output_type": "stream",
     "text": [
      "DEBUG - Starting score: 10\n",
      "DEBUG - Count of mismatched fields: 0.5555555555555556, reducing score by 1.1111111111111112\n",
      "DEBUG - NM1*IL*1*Garcia*Michelle*H*Mr.**PI*SNnSFWsmNGXFLVWSJrCSAAlJslZECkxKjeVBFrxykZCzhbXZCuTyCROakCGCzbYczYGlRy~  NM1*IL*1*Garcia*Jacob*T*Mr.**XX*OlHqzDWfMkUHKHmKGpZvYrDZbvqZcKBg~\n",
      "DEBUG - Final score: 8.88888888888889\n",
      "INFO - {\"valid_json\": 93.33333333333333, \"valid_json_schema\": 100.0, \"domain_field_match\": 73.56481481481481}\n",
      "Setting `pad_token_id` to `eos_token_id`:3 for open-end generation.\n"
     ]
    },
    {
     "name": "stdout",
     "output_type": "stream",
     "text": [
      "Generated text: \n",
      " <s><s>[INST] You are a structured data generator that creates valid JSON data based on a schema.\n",
      "Given the Schema: {\"$schema\": \"http://json-schema.org/draft-07/schema#\", \"title\": \"X12 NM1 Segment\", \"description\": \"Schema for X12 NM1 segment, which contains subscriber's or organization name information.\", \"type\": \"object\", \"properties\": {\"entity_identifier_code\": {\"type\": \"string\", \"description\": \"Entity Identifier Code (e.g., IL for Insured or 03 for dependent or PR for Payer or 1P for Provider)\", \"enum\": [\"IL\", \"03\", \"PR\", \"1P\"]}, \"entity_type_qualifier\": {\"type\": \"string\", \"description\": \"Entity Type Qualifier (1 = Person, 2 = Non-Person Entity)\", \"enum\": [\"1\", \"2\"]}, \"name_last_or_organizationName\": {\"type\": \"string\", \"description\": \"Name Last or Organization Name\", \"minLength\": 1, \"maxLength\": 60}, \"name_first\": {\"type\": \"string\", \"description\": \"Name First\", \"nullable\": true, \"minLength\": 1, \"maxLength\": 35}, \"name_middle\": {\"type\": \"string\", \"description\": \"Name Middle\", \"nullable\": true, \"minLength\": 1, \"maxLength\": 25}, \"name_prefix\": {\"type\": \"string\", \"description\": \"Name Prefix\", \"nullable\": true, \"minLength\": 1, \"maxLength\": 10}, \"name_suffix\": {\"type\": \"string\", \"description\": \"Name Suffix\", \"nullable\": true, \"minLength\": 1, \"maxLength\": 10}, \"identification_code_qualifier\": {\"type\": \"string\", \"description\": \"Identification Code Qualifier (e.g., MI = Member ID, XX = National Provider Identifier, SV = Service Provider Number, FI = Federal Tax ID, PI = Payer Identifier, ZZ = Mutually Defined)\", \"enum\": [\"MI\", \"XX\", \"SV\", \"FI\", \"PI\", \"ZZ\"], \"nullable\": true}, \"identification_code\": {\"type\": \"string\", \"description\": \"Identification Code\", \"nullable\": true, \"minLength\": 2, \"maxLength\": 80}, \"nm1_segment\": {\"type\": \"string\", \"description\": \"NM1 Segment format of the data (e.g., NM1*IL*1*DOE*JOHN****MI*123456789~)\", \"nullable\": true, \"maxLength\": 255}}, \"required\": [\"entity_identifier_code\", \"entity_type_qualifier\", \"name_last_or_organizationName\", \"nm1_segment\"]}\n",
      "Generate a valid JSON object with the following properties: entity_identifier_code, entity_type_qualifier, name_last_or_organizationName, name_first, name_middle, name_prefix, identification_code_qualifier, identification_code, nm1_segment [/INST] {\"entity_identifier_code\": \"IL\", \"entity_type_qualifier\": \"1\", \"name_last_or_organizationName\": \"Garcia\", \"name_first\": \"Jacob\", \"name_middle\": \"T\", \"name_prefix\": \"Mr.\", \"identification_code_qualifier\": \"XX\", \"identification_code\": \"OlHqzDWfMkUHKHmKGpZvYrDZbvqZcKBg\", \"nm1_segment\": \"NM1*IL*1*Garcia*Jacob*T*Mr.**XX*OlHqzDWfMkUHKHmKGpZvYrDZbvqZcKBg~\"}</s>\n",
      "------------------------------------------------------------\n",
      "Processing row 16/30\n"
     ]
    },
    {
     "name": "stderr",
     "output_type": "stream",
     "text": [
      "DEBUG - Starting score: 10\n",
      "DEBUG - Count of mismatched fields: 1.0, reducing score by 2.0\n",
      "DEBUG - DTP*154*RD8*20120110-20120115  DTP*348*RD8*19960713-19960718\n",
      "DEBUG - dtp_segment DTP*348*RD8*19960713-19960718 does not match the expected pattern, reducing score by 2.5\n",
      "DEBUG - Final score: 5.5\n",
      "INFO - {\"valid_json\": 93.75, \"valid_json_schema\": 100.0, \"domain_field_match\": 72.40451388888889}\n",
      "Setting `pad_token_id` to `eos_token_id`:3 for open-end generation.\n"
     ]
    },
    {
     "name": "stdout",
     "output_type": "stream",
     "text": [
      "Generated text: \n",
      " <s><s>[INST] You are a sample data generator that creates valid JSON data based on a schema.\n",
      "Given the Schema: {\"$schema\": \"http://json-schema.org/draft-07/schema#\", \"title\": \"X12 DTP Segment\", \"description\": \"Schema for X12 DTP segment, which contains date/time period information.\", \"type\": \"object\", \"properties\": {\"dtp_segment\": {\"type\": \"string\", \"description\": \"Date/Time Period (e.g., DTP*291*D8*20220101-20220131~)\", \"minLength\": 1, \"maxLength\": 30}}, \"required\": [\"dtp_segment\"]}\n",
      "Generate a JSON object that includes all properties [/INST] {\"dtp_segment\": \"DTP*348*RD8*19960713-19960718\"}</s>\n",
      "------------------------------------------------------------\n",
      "Processing row 17/30\n"
     ]
    },
    {
     "name": "stderr",
     "output_type": "stream",
     "text": [
      "DEBUG - Starting score: 10\n",
      "DEBUG - Count of mismatched fields: 0.8, reducing score by 1.6\n",
      "DEBUG - NM1*03*1*Morales*Nathan*U*Mr.*Jr.*SV*kCwMVihe~  NM1*PR*1*Nguyen*Rachel*C*Mx.*PhD*SV*NXkDVZkLmKY~\n",
      "DEBUG - Final score: 8.4\n",
      "INFO - {\"valid_json\": 94.11764705882352, \"valid_json_schema\": 100.0, \"domain_field_match\": 73.08660130718954}\n",
      "Setting `pad_token_id` to `eos_token_id`:3 for open-end generation.\n"
     ]
    },
    {
     "name": "stdout",
     "output_type": "stream",
     "text": [
      "Generated text: \n",
      " <s><s>[INST] You are a sample data generator that creates valid JSON data based on a schema.\n",
      "Given the Schema: {\"$schema\": \"http://json-schema.org/draft-07/schema#\", \"title\": \"X12 NM1 Segment\", \"description\": \"Schema for X12 NM1 segment, which contains subscriber's or organization name information.\", \"type\": \"object\", \"properties\": {\"entity_identifier_code\": {\"type\": \"string\", \"description\": \"Entity Identifier Code (e.g., IL for Insured or 03 for dependent or PR for Payer or 1P for Provider)\", \"enum\": [\"IL\", \"03\", \"PR\", \"1P\"]}, \"entity_type_qualifier\": {\"type\": \"string\", \"description\": \"Entity Type Qualifier (1 = Person, 2 = Non-Person Entity)\", \"enum\": [\"1\", \"2\"]}, \"name_last_or_organizationName\": {\"type\": \"string\", \"description\": \"Name Last or Organization Name\", \"minLength\": 1, \"maxLength\": 60}, \"name_first\": {\"type\": \"string\", \"description\": \"Name First\", \"nullable\": true, \"minLength\": 1, \"maxLength\": 35}, \"name_middle\": {\"type\": \"string\", \"description\": \"Name Middle\", \"nullable\": true, \"minLength\": 1, \"maxLength\": 25}, \"name_prefix\": {\"type\": \"string\", \"description\": \"Name Prefix\", \"nullable\": true, \"minLength\": 1, \"maxLength\": 10}, \"name_suffix\": {\"type\": \"string\", \"description\": \"Name Suffix\", \"nullable\": true, \"minLength\": 1, \"maxLength\": 10}, \"identification_code_qualifier\": {\"type\": \"string\", \"description\": \"Identification Code Qualifier (e.g., MI = Member ID, XX = National Provider Identifier, SV = Service Provider Number, FI = Federal Tax ID, PI = Payer Identifier, ZZ = Mutually Defined)\", \"enum\": [\"MI\", \"XX\", \"SV\", \"FI\", \"PI\", \"ZZ\"], \"nullable\": true}, \"identification_code\": {\"type\": \"string\", \"description\": \"Identification Code\", \"nullable\": true, \"minLength\": 2, \"maxLength\": 80}, \"nm1_segment\": {\"type\": \"string\", \"description\": \"NM1 Segment format of the data (e.g., NM1*IL*1*DOE*JOHN****MI*123456789~)\", \"nullable\": true, \"maxLength\": 255}}, \"required\": [\"entity_identifier_code\", \"entity_type_qualifier\", \"name_last_or_organizationName\", \"nm1_segment\"]}\n",
      "Create a JSON object that contains all properties [/INST] {\"entity_identifier_code\": \"PR\", \"entity_type_qualifier\": \"1\", \"name_last_or_organizationName\": \"Nguyen\", \"name_first\": \"Rachel\", \"name_middle\": \"C\", \"name_prefix\": \"Mx.\", \"name_suffix\": \"PhD\", \"identification_code_qualifier\": \"SV\", \"identification_code\": \"NXkDVZkLmKY\", \"nm1_segment\": \"NM1*PR*1*Nguyen*Rachel*C*Mx.*PhD*SV*NXkDVZkLmKY~\"}</s>\n",
      "------------------------------------------------------------\n",
      "Processing row 18/30\n"
     ]
    },
    {
     "name": "stderr",
     "output_type": "stream",
     "text": [
      "DEBUG - Starting score: 10\n",
      "DEBUG - Count of mismatched fields: 1.0, reducing score by 2.0\n",
      "DEBUG - REF*ZZ*veEIQGXNulbQQYJhKwRB~  REF*PI*hGsXtY~\n",
      "DEBUG - Final score: 8.0\n",
      "INFO - {\"valid_json\": 94.44444444444444, \"valid_json_schema\": 100.0, \"domain_field_match\": 73.47067901234567}\n",
      "Setting `pad_token_id` to `eos_token_id`:3 for open-end generation.\n"
     ]
    },
    {
     "name": "stdout",
     "output_type": "stream",
     "text": [
      "Generated text: \n",
      " <s><s>[INST] You are a Json test data generator generating valid json data based on a json schema. \n",
      "Given the Schema: {\"$schema\": \"http://json-schema.org/draft-07/schema#\", \"title\": \"X12 REF Segment\", \"description\": \"Schema for X12 REF segment, which contains reference identification information.\", \"type\": \"object\", \"properties\": {\"reference_identification_qualifier\": {\"type\": \"string\", \"description\": \"Reference Identification Qualifier (e.g., ZZ = Mutually Defined, MI = Member ID, XX = National Provider Identifier, SV = Service Provider Number, FI = Federal Tax ID, PI = Payer Identifier, PR = Payer Name, 1P = Provider Name)\", \"enum\": [\"ZZ\", \"MI\", \"XX\", \"SV\", \"FI\", \"PI\", \"PR\", \"1P\"]}, \"reference_identification\": {\"type\": \"string\", \"description\": \"Reference Identification (e.g., Member ID, National Provider Identifier)\", \"minLength\": 1, \"maxLength\": 20}, \"ref_segment\": {\"type\": \"string\", \"description\": \"Ref segment in the format REF*XX*123456789~\", \"minLength\": 1, \"maxLength\": 60}}, \"required\": [\"reference_identification_qualifier\", \"reference_identification\", \"ref_segment\"]}\n",
      "Create a JSON object that contains all properties [/INST] {\"reference_identification_qualifier\": \"PI\", \"reference_identification\": \"hGsXtY\", \"ref_segment\": \"REF*PI*hGsXtY~\"}</s>\n",
      "------------------------------------------------------------\n",
      "Processing row 19/30\n"
     ]
    },
    {
     "name": "stderr",
     "output_type": "stream",
     "text": [
      "DEBUG - Starting score: 10\n",
      "DEBUG - Keys in json_ref not present in json_gen, reducing score by 0.0\n",
      "DEBUG - Count of mismatched fields: 0.8888888888888888, reducing score by 1.7777777777777777\n",
      "DEBUG - NM1*IL*2*Burnett*Charles**Mrs.*PhD*SV*CboddODkrEtSVJSRc~  NM1*IL*1*James*William*N*Mx.*DDS*XX*~\n",
      "DEBUG - Final score: 8.222222222222221\n",
      "INFO - {\"valid_json\": 94.73684210526315, \"valid_json_schema\": 100.0, \"domain_field_match\": 73.9312865497076}\n",
      "Setting `pad_token_id` to `eos_token_id`:3 for open-end generation.\n"
     ]
    },
    {
     "name": "stdout",
     "output_type": "stream",
     "text": [
      "Generated text: \n",
      " <s><s>[INST] You are a structured data generator that creates valid JSON data based on a schema.\n",
      "Given the Schema: {\"$schema\": \"http://json-schema.org/draft-07/schema#\", \"title\": \"X12 NM1 Segment\", \"description\": \"Schema for X12 NM1 segment, which contains subscriber's or organization name information.\", \"type\": \"object\", \"properties\": {\"entity_identifier_code\": {\"type\": \"string\", \"description\": \"Entity Identifier Code (e.g., IL for Insured or 03 for dependent or PR for Payer or 1P for Provider)\", \"enum\": [\"IL\", \"03\", \"PR\", \"1P\"]}, \"entity_type_qualifier\": {\"type\": \"string\", \"description\": \"Entity Type Qualifier (1 = Person, 2 = Non-Person Entity)\", \"enum\": [\"1\", \"2\"]}, \"name_last_or_organizationName\": {\"type\": \"string\", \"description\": \"Name Last or Organization Name\", \"minLength\": 1, \"maxLength\": 60}, \"name_first\": {\"type\": \"string\", \"description\": \"Name First\", \"nullable\": true, \"minLength\": 1, \"maxLength\": 35}, \"name_middle\": {\"type\": \"string\", \"description\": \"Name Middle\", \"nullable\": true, \"minLength\": 1, \"maxLength\": 25}, \"name_prefix\": {\"type\": \"string\", \"description\": \"Name Prefix\", \"nullable\": true, \"minLength\": 1, \"maxLength\": 10}, \"name_suffix\": {\"type\": \"string\", \"description\": \"Name Suffix\", \"nullable\": true, \"minLength\": 1, \"maxLength\": 10}, \"identification_code_qualifier\": {\"type\": \"string\", \"description\": \"Identification Code Qualifier (e.g., MI = Member ID, XX = National Provider Identifier, SV = Service Provider Number, FI = Federal Tax ID, PI = Payer Identifier, ZZ = Mutually Defined)\", \"enum\": [\"MI\", \"XX\", \"SV\", \"FI\", \"PI\", \"ZZ\"], \"nullable\": true}, \"identification_code\": {\"type\": \"string\", \"description\": \"Identification Code\", \"nullable\": true, \"minLength\": 2, \"maxLength\": 80}, \"nm1_segment\": {\"type\": \"string\", \"description\": \"NM1 Segment format of the data (e.g., NM1*IL*1*DOE*JOHN****MI*123456789~)\", \"nullable\": true, \"maxLength\": 255}}, \"required\": [\"entity_identifier_code\", \"entity_type_qualifier\", \"name_last_or_organizationName\", \"nm1_segment\"]}\n",
      "Give a JSON data that has the required properties: entity_identifier_code, entity_type_qualifier, name_last_or_organizationName, nm1_segment [/INST] {\"entity_identifier_code\": \"IL\", \"entity_type_qualifier\": \"1\", \"name_last_or_organizationName\": \"James\", \"name_first\": \"William\", \"name_middle\": \"N\", \"name_prefix\": \"Mx.\", \"name_suffix\": \"DDS\", \"identification_code_qualifier\": \"XX\", \"nm1_segment\": \"NM1*IL*1*James*William*N*Mx.*DDS*XX*~\"}</s>\n",
      "------------------------------------------------------------\n",
      "Processing row 20/30\n"
     ]
    },
    {
     "name": "stderr",
     "output_type": "stream",
     "text": [
      "DEBUG - Starting score: 10\n",
      "DEBUG - Count of mismatched fields: 0.0, reducing score by 0.0\n",
      "DEBUG - NM1*03*2*Hampton***Mx.***~  NM1*03*2*Hampton***Mx.***~\n",
      "DEBUG - Final score: 10.0\n",
      "INFO - {\"valid_json\": 95.0, \"valid_json_schema\": 100.0, \"domain_field_match\": 75.23472222222222}\n",
      "Setting `pad_token_id` to `eos_token_id`:3 for open-end generation.\n"
     ]
    },
    {
     "name": "stdout",
     "output_type": "stream",
     "text": [
      "Generated text: \n",
      " <s><s>[INST] You are a sample data generator that creates valid JSON data based on a schema.\n",
      "Given the Schema: {\"$schema\": \"http://json-schema.org/draft-07/schema#\", \"title\": \"X12 NM1 Segment\", \"description\": \"Schema for X12 NM1 segment, which contains subscriber's or organization name information.\", \"type\": \"object\", \"properties\": {\"entity_identifier_code\": {\"type\": \"string\", \"description\": \"Entity Identifier Code (e.g., IL for Insured or 03 for dependent or PR for Payer or 1P for Provider)\", \"enum\": [\"IL\", \"03\", \"PR\", \"1P\"]}, \"entity_type_qualifier\": {\"type\": \"string\", \"description\": \"Entity Type Qualifier (1 = Person, 2 = Non-Person Entity)\", \"enum\": [\"1\", \"2\"]}, \"name_last_or_organizationName\": {\"type\": \"string\", \"description\": \"Name Last or Organization Name\", \"minLength\": 1, \"maxLength\": 60}, \"name_first\": {\"type\": \"string\", \"description\": \"Name First\", \"nullable\": true, \"minLength\": 1, \"maxLength\": 35}, \"name_middle\": {\"type\": \"string\", \"description\": \"Name Middle\", \"nullable\": true, \"minLength\": 1, \"maxLength\": 25}, \"name_prefix\": {\"type\": \"string\", \"description\": \"Name Prefix\", \"nullable\": true, \"minLength\": 1, \"maxLength\": 10}, \"name_suffix\": {\"type\": \"string\", \"description\": \"Name Suffix\", \"nullable\": true, \"minLength\": 1, \"maxLength\": 10}, \"identification_code_qualifier\": {\"type\": \"string\", \"description\": \"Identification Code Qualifier (e.g., MI = Member ID, XX = National Provider Identifier, SV = Service Provider Number, FI = Federal Tax ID, PI = Payer Identifier, ZZ = Mutually Defined)\", \"enum\": [\"MI\", \"XX\", \"SV\", \"FI\", \"PI\", \"ZZ\"], \"nullable\": true}, \"identification_code\": {\"type\": \"string\", \"description\": \"Identification Code\", \"nullable\": true, \"minLength\": 2, \"maxLength\": 80}, \"nm1_segment\": {\"type\": \"string\", \"description\": \"NM1 Segment format of the data (e.g., NM1*IL*1*DOE*JOHN****MI*123456789~)\", \"nullable\": true, \"maxLength\": 255}}, \"required\": [\"entity_identifier_code\", \"entity_type_qualifier\", \"name_last_or_organizationName\", \"nm1_segment\"]}\n",
      "Generate a JSON object with the following properties: entity_identifier_code, entity_type_qualifier, name_last_or_organizationName, name_prefix, nm1_segment and values: 03, 2, Hampton, Mx., NM1*03*2*Hampton***Mx.***~ [/INST] {\"entity_identifier_code\": \"03\", \"entity_type_qualifier\": \"2\", \"name_last_or_organizationName\": \"Hampton\", \"name_prefix\": \"Mx.\", \"nm1_segment\": \"NM1*03*2*Hampton***Mx.***~\"}</s>\n",
      "------------------------------------------------------------\n",
      "Processing row 21/30\n"
     ]
    },
    {
     "name": "stderr",
     "output_type": "stream",
     "text": [
      "DEBUG - Starting score: 10\n",
      "DEBUG - Count of mismatched fields: 1.0, reducing score by 2.0\n",
      "DEBUG - REF*FI*LTbLVeagPfPbiHw~  REF*ZZ*Ja~\n",
      "DEBUG - Final score: 8.0\n",
      "INFO - {\"valid_json\": 95.23809523809523, \"valid_json_schema\": 100.0, \"domain_field_match\": 75.4616402116402}\n",
      "Setting `pad_token_id` to `eos_token_id`:3 for open-end generation.\n"
     ]
    },
    {
     "name": "stdout",
     "output_type": "stream",
     "text": [
      "Generated text: \n",
      " <s><s>[INST] You are a sample data generator that creates valid JSON data based on a schema.\n",
      "Generate a sample json for the X12 REF Segment schema with all properties [/INST] {\"reference_identification_qualifier\": \"ZZ\", \"reference_identification\": \"Ja\", \"ref_segment\": \"REF*ZZ*Ja~\"}\n",
      "\n",
      "{\"reference_identification_qualifier\": \"MI\", \"reference_identification\": \"fNJVzY\", \"ref_segment\": \"REF*MI*fNJVzY~\"}\n",
      "\n",
      "{\"reference_identification_qualifier\": \"XX\", \"reference_identification\": \"KHvTp\", \"ref_segment\": \"REF*XX*KHvTp~\"}\n",
      "\n",
      "{\"reference_identification_qualifier\": \"FI\", \"reference_identification\": \"yYZ\", \"ref_segment\": \"REF*FI*yYZ~\"}\n",
      "\n",
      "{\"reference_identification_qualifier\": \"RD\", \"reference_identification\": \"YX\", \"ref_segment\": \"REF*RD*YX~\"}\n",
      "\n",
      "{\"reference_identification_qualifier\": \"XX\", \"reference_identification\": \"xY\", \"ref_segment\": \"REF*XX*xY~\"}\n",
      "\n",
      "{\"reference_identification_qualifier\": \"MI\", \"reference_identification\": \"vY\", \"ref_segment\": \"REF*MI*vY~\"}\n",
      "\n",
      "{\"reference_identification_qualifier\": \"FI\", \"reference_identification\": \"xY\", \"ref_segment\": \"REF*FI*xY~\"}\n",
      "\n",
      "{\"reference_identification_qualifier\": \"RD\", \"reference_identification\": \"Bb\", \"ref_segment\": \"REF*RD*Bb~\"}\n",
      "\n",
      "{\"reference_identification_qualifier\": \"FI\", \"reference_identification\": \"fNJVzY\", \"ref_segment\": \"REF*FI*fNJVzY~\"}\n",
      "\n",
      "{\"reference_identification_qualifier\": \"RD\", \"reference_identification\": \"KHvTp\", \"ref_segment\": \"REF*RD*KHvTp~\"}\n",
      "\n",
      "{\"reference_identification_qualifier\": \"FI\", \"reference_identification\": \"yYZ\", \"ref_segment\": \"REF*FI*yYZ~\"}\n",
      "\n",
      "{\"reference_identification_qualifier\": \"XX\", \"reference_identification\": \"YX\", \"ref_segment\": \"REF*XX*YX~\"}\n",
      "\n",
      "{\"reference_identification_qualifier\": \"MI\", \"reference_identification\": \"xY\", \"ref_segment\": \"REF*MI*xY~\"}\n",
      "\n",
      "{\"reference_identification_qualifier\": \"FI\", \"reference_identification\": \"vY\", \"ref_segment\": \"REF*FI*vY~\"}\n",
      "\n",
      "{\"reference_identification_qualifier\": \"RD\", \"reference_identification\": \"Bb\", \"ref_segment\": \"REF*RD*Bb~\"}\n",
      "\n",
      "{\"reference_identification_qualifier\": \"FI\", \"reference_identification\": \"fNJVzY\", \"ref_segment\": \"REF*FI*fNJVzY~\"}\n",
      "\n",
      "{\"reference_identification_qualifier\": \"RD\", \"reference_identification\": \"KHvTp\", \"ref_segment\": \"REF*RD*KHvTp~\"}\n",
      "\n",
      "{\"reference_identification_qualifier\": \"FI\", \"reference_identification\": \"yYZ\", \"ref_segment\": \"REF*FI*yYZ~\"}\n",
      "\n",
      "{\"reference_identification_qualifier\": \"XX\", \"reference_identification\": \"YX\", \"ref_segment\": \"REF*XX*YX~\"}\n",
      "\n",
      "{\"reference_identification_qualifier\": \"MI\", \"reference_identification\": \"xY\", \"ref_segment\": \"REF*MI*xY~\"}\n",
      "\n",
      "{\"reference_identification_qualifier\": \"FI\", \"reference_identification\": \"vY\", \"ref_segment\": \"REF*FI*vY~\"}\n",
      "\n",
      "{\"reference_identification_qualifier\": \"RD\", \"reference_identification\": \"Bb\", \"ref_segment\": \"REF*RD*Bb~\"}\n",
      "\n",
      "{\"reference_identification_qualifier\": \"FI\", \"reference_identification\": \"fNJVzY\", \"ref_segment\": \"REF*FI*fNJVzY~\"}\n",
      "\n",
      "{\"reference_identification_qualifier\": \"RD\", \"reference_identification\": \"KHvTp\", \"ref_segment\": \"REF\n",
      "------------------------------------------------------------\n",
      "Processing row 22/30\n"
     ]
    },
    {
     "name": "stderr",
     "output_type": "stream",
     "text": [
      "DEBUG - Starting score: 10\n",
      "DEBUG - Count of mismatched fields: 1.0, reducing score by 2.0\n",
      "DEBUG - DTP*151*RD8*19700905-19700910  DTP*151*RD8*20190704-20190709\n",
      "DEBUG - dtp_segment DTP*151*RD8*20190704-20190709 does not match the expected pattern, reducing score by 2.5\n",
      "DEBUG - Final score: 5.5\n",
      "INFO - {\"valid_json\": 95.45454545454545, \"valid_json_schema\": 100.0, \"domain_field_match\": 74.53156565656565}\n",
      "Setting `pad_token_id` to `eos_token_id`:3 for open-end generation.\n"
     ]
    },
    {
     "name": "stdout",
     "output_type": "stream",
     "text": [
      "Generated text: \n",
      " <s><s>[INST] You are a structured data generator that creates valid JSON data based on a schema.\n",
      "Given the Schema: {\"$schema\": \"http://json-schema.org/draft-07/schema#\", \"title\": \"X12 DTP Segment\", \"description\": \"Schema for X12 DTP segment, which contains date/time period information.\", \"type\": \"object\", \"properties\": {\"dtp_segment\": {\"type\": \"string\", \"description\": \"Date/Time Period (e.g., DTP*291*D8*20220101-20220131~)\", \"minLength\": 1, \"maxLength\": 30}}, \"required\": [\"dtp_segment\"]}\n",
      "Create a JSON object that contains all properties [/INST] {\"dtp_segment\": \"DTP*151*RD8*20190704-20190709\"}</s>\n",
      "------------------------------------------------------------\n",
      "Processing row 23/30\n"
     ]
    },
    {
     "name": "stderr",
     "output_type": "stream",
     "text": [
      "DEBUG - Starting score: 10\n",
      "DEBUG - Count of mismatched fields: 1.0, reducing score by 2.0\n",
      "DEBUG - REF*MI*ZNGQGuafNwyBzy~  REF*PI*b~\n",
      "DEBUG - Final score: 8.0\n",
      "INFO - {\"valid_json\": 95.65217391304348, \"valid_json_schema\": 100.0, \"domain_field_match\": 74.76932367149759}\n",
      "Setting `pad_token_id` to `eos_token_id`:3 for open-end generation.\n"
     ]
    },
    {
     "name": "stdout",
     "output_type": "stream",
     "text": [
      "Generated text: \n",
      " <s><s>[INST] You are a structured data generator that creates valid JSON data based on a schema.\n",
      "Given the Schema: {\"$schema\": \"http://json-schema.org/draft-07/schema#\", \"title\": \"X12 REF Segment\", \"description\": \"Schema for X12 REF segment, which contains reference identification information.\", \"type\": \"object\", \"properties\": {\"reference_identification_qualifier\": {\"type\": \"string\", \"description\": \"Reference Identification Qualifier (e.g., ZZ = Mutually Defined, MI = Member ID, XX = National Provider Identifier, SV = Service Provider Number, FI = Federal Tax ID, PI = Payer Identifier, PR = Payer Name, 1P = Provider Name)\", \"enum\": [\"ZZ\", \"MI\", \"XX\", \"SV\", \"FI\", \"PI\", \"PR\", \"1P\"]}, \"reference_identification\": {\"type\": \"string\", \"description\": \"Reference Identification (e.g., Member ID, National Provider Identifier)\", \"minLength\": 1, \"maxLength\": 20}, \"ref_segment\": {\"type\": \"string\", \"description\": \"Ref segment in the format REF*XX*123456789~\", \"minLength\": 1, \"maxLength\": 60}}, \"required\": [\"reference_identification_qualifier\", \"reference_identification\", \"ref_segment\"]}\n",
      "Produce a JSON object that adheres to the schema with all properties [/INST] {\"reference_identification_qualifier\": \"PI\", \"reference_identification\": \"b\", \"ref_segment\": \"REF*PI*b~\"}</s>\n",
      "------------------------------------------------------------\n",
      "Processing row 24/30\n"
     ]
    },
    {
     "name": "stderr",
     "output_type": "stream",
     "text": [
      "DEBUG - Starting score: 10\n",
      "DEBUG - Count of mismatched fields: 1.0, reducing score by 2.0\n",
      "DEBUG - DTP*349*RD8*20130601-20130606  DTP*152*RD8*19850207-19850212\n",
      "DEBUG - dtp_segment DTP*152*RD8*19850207-19850212 does not match the expected pattern, reducing score by 2.5\n",
      "DEBUG - Final score: 5.5\n",
      "INFO - {\"valid_json\": 95.83333333333334, \"valid_json_schema\": 100.0, \"domain_field_match\": 73.94560185185185}\n",
      "Setting `pad_token_id` to `eos_token_id`:3 for open-end generation.\n"
     ]
    },
    {
     "name": "stdout",
     "output_type": "stream",
     "text": [
      "Generated text: \n",
      " <s><s>[INST] You are a Json test data generator generating valid json data based on a json schema. \n",
      "Given the Schema: {\"$schema\": \"http://json-schema.org/draft-07/schema#\", \"title\": \"X12 DTP Segment\", \"description\": \"Schema for X12 DTP segment, which contains date/time period information.\", \"type\": \"object\", \"properties\": {\"dtp_segment\": {\"type\": \"string\", \"description\": \"Date/Time Period (e.g., DTP*291*D8*20220101-20220131~)\", \"minLength\": 1, \"maxLength\": 30}}, \"required\": [\"dtp_segment\"]}\n",
      "Produce a JSON object that adheres to the schema with all properties [/INST] {\"dtp_segment\": \"DTP*152*RD8*19850207-19850212\"}</s>\n",
      "------------------------------------------------------------\n",
      "Processing row 25/30\n"
     ]
    },
    {
     "name": "stderr",
     "output_type": "stream",
     "text": [
      "DEBUG - Starting score: 10\n",
      "DEBUG - Keys in json_ref not present in json_gen, reducing score by -1.2857142857142856\n",
      "DEBUG - Count of mismatched fields: 0.8571428571428571, reducing score by 1.7142857142857142\n",
      "DEBUG - NM1*1P*2*Jones**R**DDS*MI*~  NM1*PR*1*Garcia*Matthew*L*Mr.*Jr.*MI*RqCkzIbUUlxTUQGzYVJbxYGKtGxoIbIyKmJIYCJLmJLbDG~\n",
      "DEBUG - Final score: 9.571428571428571\n",
      "INFO - {\"valid_json\": 96.0, \"valid_json_schema\": 100.0, \"domain_field_match\": 74.8163492063492}\n",
      "Setting `pad_token_id` to `eos_token_id`:3 for open-end generation.\n"
     ]
    },
    {
     "name": "stdout",
     "output_type": "stream",
     "text": [
      "Generated text: \n",
      " <s><s>[INST] You are a Json test data generator generating valid json data based on a json schema. \n",
      "Given the Schema: {\"$schema\": \"http://json-schema.org/draft-07/schema#\", \"title\": \"X12 NM1 Segment\", \"description\": \"Schema for X12 NM1 segment, which contains subscriber's or organization name information.\", \"type\": \"object\", \"properties\": {\"entity_identifier_code\": {\"type\": \"string\", \"description\": \"Entity Identifier Code (e.g., IL for Insured or 03 for dependent or PR for Payer or 1P for Provider)\", \"enum\": [\"IL\", \"03\", \"PR\", \"1P\"]}, \"entity_type_qualifier\": {\"type\": \"string\", \"description\": \"Entity Type Qualifier (1 = Person, 2 = Non-Person Entity)\", \"enum\": [\"1\", \"2\"]}, \"name_last_or_organizationName\": {\"type\": \"string\", \"description\": \"Name Last or Organization Name\", \"minLength\": 1, \"maxLength\": 60}, \"name_first\": {\"type\": \"string\", \"description\": \"Name First\", \"nullable\": true, \"minLength\": 1, \"maxLength\": 35}, \"name_middle\": {\"type\": \"string\", \"description\": \"Name Middle\", \"nullable\": true, \"minLength\": 1, \"maxLength\": 25}, \"name_prefix\": {\"type\": \"string\", \"description\": \"Name Prefix\", \"nullable\": true, \"minLength\": 1, \"maxLength\": 10}, \"name_suffix\": {\"type\": \"string\", \"description\": \"Name Suffix\", \"nullable\": true, \"minLength\": 1, \"maxLength\": 10}, \"identification_code_qualifier\": {\"type\": \"string\", \"description\": \"Identification Code Qualifier (e.g., MI = Member ID, XX = National Provider Identifier, SV = Service Provider Number, FI = Federal Tax ID, PI = Payer Identifier, ZZ = Mutually Defined)\", \"enum\": [\"MI\", \"XX\", \"SV\", \"FI\", \"PI\", \"ZZ\"], \"nullable\": true}, \"identification_code\": {\"type\": \"string\", \"description\": \"Identification Code\", \"nullable\": true, \"minLength\": 2, \"maxLength\": 80}, \"nm1_segment\": {\"type\": \"string\", \"description\": \"NM1 Segment format of the data (e.g., NM1*IL*1*DOE*JOHN****MI*123456789~)\", \"nullable\": true, \"maxLength\": 255}}, \"required\": [\"entity_identifier_code\", \"entity_type_qualifier\", \"name_last_or_organizationName\", \"nm1_segment\"]}\n",
      "Create a JSON object with the required properties: entity_identifier_code, entity_type_qualifier, name_last_or_organizationName, nm1_segment [/INST] {\"entity_identifier_code\": \"PR\", \"entity_type_qualifier\": \"1\", \"name_last_or_organizationName\": \"Garcia\", \"name_first\": \"Matthew\", \"name_middle\": \"L\", \"name_prefix\": \"Mr.\", \"name_suffix\": \"Jr.\", \"identification_code_qualifier\": \"MI\", \"identification_code\": \"RqCkzIbUUlxTUQGzYVJbxYGKtGxoIbIyKmJIYCJLmJLbDG\", \"nm1_segment\": \"NM1*PR*1*Garcia*Matthew*L*Mr.*Jr.*MI*RqCkzIbUUlxTUQGzYVJbxYGKtGxoIbIyKmJIYCJLmJLbDG~\"}</s>\n",
      "------------------------------------------------------------\n",
      "Processing row 26/30\n"
     ]
    },
    {
     "name": "stderr",
     "output_type": "stream",
     "text": [
      "DEBUG - Starting score: 10\n",
      "DEBUG - Count of mismatched fields: 0.9, reducing score by 1.8\n",
      "DEBUG - NM1*IL*2*James*Teresa*R*Mrs.*MD*FI*lpuvhZFBxLimIZClFCIADQuDiSkHHXbMqUenJcFXnUKokO~  NM1*1P*2*Jones*Rachel*C*Mx.*DDS*XX*YCkLgTmQoXkJJGQYWnCzZXpDgDGgTgkjLnVbCkZDqvJVgLNZCmXg~\n",
      "DEBUG - Final score: 8.2\n",
      "INFO - {\"valid_json\": 96.15384615384616, \"valid_json_schema\": 100.0, \"domain_field_match\": 75.09264346764346}\n",
      "Setting `pad_token_id` to `eos_token_id`:3 for open-end generation.\n"
     ]
    },
    {
     "name": "stdout",
     "output_type": "stream",
     "text": [
      "Generated text: \n",
      " <s><s>[INST] You are a sample data generator that creates valid JSON data based on a schema.\n",
      "Given the Schema: {\"$schema\": \"http://json-schema.org/draft-07/schema#\", \"title\": \"X12 NM1 Segment\", \"description\": \"Schema for X12 NM1 segment, which contains subscriber's or organization name information.\", \"type\": \"object\", \"properties\": {\"entity_identifier_code\": {\"type\": \"string\", \"description\": \"Entity Identifier Code (e.g., IL for Insured or 03 for dependent or PR for Payer or 1P for Provider)\", \"enum\": [\"IL\", \"03\", \"PR\", \"1P\"]}, \"entity_type_qualifier\": {\"type\": \"string\", \"description\": \"Entity Type Qualifier (1 = Person, 2 = Non-Person Entity)\", \"enum\": [\"1\", \"2\"]}, \"name_last_or_organizationName\": {\"type\": \"string\", \"description\": \"Name Last or Organization Name\", \"minLength\": 1, \"maxLength\": 60}, \"name_first\": {\"type\": \"string\", \"description\": \"Name First\", \"nullable\": true, \"minLength\": 1, \"maxLength\": 35}, \"name_middle\": {\"type\": \"string\", \"description\": \"Name Middle\", \"nullable\": true, \"minLength\": 1, \"maxLength\": 25}, \"name_prefix\": {\"type\": \"string\", \"description\": \"Name Prefix\", \"nullable\": true, \"minLength\": 1, \"maxLength\": 10}, \"name_suffix\": {\"type\": \"string\", \"description\": \"Name Suffix\", \"nullable\": true, \"minLength\": 1, \"maxLength\": 10}, \"identification_code_qualifier\": {\"type\": \"string\", \"description\": \"Identification Code Qualifier (e.g., MI = Member ID, XX = National Provider Identifier, SV = Service Provider Number, FI = Federal Tax ID, PI = Payer Identifier, ZZ = Mutually Defined)\", \"enum\": [\"MI\", \"XX\", \"SV\", \"FI\", \"PI\", \"ZZ\"], \"nullable\": true}, \"identification_code\": {\"type\": \"string\", \"description\": \"Identification Code\", \"nullable\": true, \"minLength\": 2, \"maxLength\": 80}, \"nm1_segment\": {\"type\": \"string\", \"description\": \"NM1 Segment format of the data (e.g., NM1*IL*1*DOE*JOHN****MI*123456789~)\", \"nullable\": true, \"maxLength\": 255}}, \"required\": [\"entity_identifier_code\", \"entity_type_qualifier\", \"name_last_or_organizationName\", \"nm1_segment\"]}\n",
      "Produce a JSON object that adheres to the schema with all properties [/INST] {\"entity_identifier_code\": \"1P\", \"entity_type_qualifier\": \"2\", \"name_last_or_organizationName\": \"Jones\", \"name_first\": \"Rachel\", \"name_middle\": \"C\", \"name_prefix\": \"Mx.\", \"name_suffix\": \"DDS\", \"identification_code_qualifier\": \"XX\", \"identification_code\": \"YCkLgTmQoXkJJGQYWnCzZXpDgDGgTgkjLnVbCkZDqvJVgLNZCmXg\", \"nm1_segment\": \"NM1*1P*2*Jones*Rachel*C*Mx.*DDS*XX*YCkLgTmQoXkJJGQYWnCzZXpDgDGgTgkjLnVbCkZDqvJVgLNZCmXg~\"}</s>\n",
      "------------------------------------------------------------\n",
      "Processing row 27/30\n"
     ]
    },
    {
     "name": "stderr",
     "output_type": "stream",
     "text": [
      "DEBUG - Starting score: 10\n",
      "DEBUG - Count of mismatched fields: 1.0, reducing score by 2.0\n",
      "DEBUG - REF*ZZ*Phxbspf~  REF*MI*YbxkLVNfYkD~\n",
      "DEBUG - Final score: 8.0\n",
      "INFO - {\"valid_json\": 96.29629629629629, \"valid_json_schema\": 100.0, \"domain_field_match\": 75.2743974132863}\n",
      "Setting `pad_token_id` to `eos_token_id`:3 for open-end generation.\n"
     ]
    },
    {
     "name": "stdout",
     "output_type": "stream",
     "text": [
      "Generated text: \n",
      " <s><s>[INST] You are a structured data generator that creates valid JSON data based on a schema.\n",
      "Generate a sample json for the X12 REF Segment schema with all properties [/INST] {\"reference_identification_qualifier\": \"MI\", \"reference_identification\": \"YbxkLVNfYkD\", \"ref_segment\": \"REF*MI*YbxkLVNfYkD~\"}</s>\n",
      "------------------------------------------------------------\n",
      "Processing row 28/30\n"
     ]
    },
    {
     "name": "stderr",
     "output_type": "stream",
     "text": [
      "DEBUG - Starting score: 10\n",
      "DEBUG - Count of mismatched fields: 1.0, reducing score by 2.0\n",
      "DEBUG - REF*1P*NHvUoMeJnAClrLsyn~  REF*MI*fkCp~\n",
      "DEBUG - Final score: 8.0\n",
      "INFO - {\"valid_json\": 96.42857142857143, \"valid_json_schema\": 100.0, \"domain_field_match\": 75.44316893424036}\n",
      "Setting `pad_token_id` to `eos_token_id`:3 for open-end generation.\n"
     ]
    },
    {
     "name": "stdout",
     "output_type": "stream",
     "text": [
      "Generated text: \n",
      " <s><s>[INST] You are a sample data generator that creates valid JSON data based on a schema.\n",
      "Generate a sample json for the X12 REF Segment schema with all properties [/INST] {\"reference_identification_qualifier\": \"MI\", \"reference_identification\": \"fkCp\", \"ref_segment\": \"REF*MI*fkCp~\"}\n",
      "\n",
      "{\"reference_identification_qualifier\": \"ZZ\", \"reference_identification\": \"YUYL\", \"ref_segment\": \"REF*ZZ*YUYL~\"}\n",
      "\n",
      "{\"reference_identification_qualifier\": \"ZZ\", \"reference_identification\": \"uQJw\", \"ref_segment\": \"REF*ZZ*uQJw~\"}\n",
      "\n",
      "{\"reference_identification_qualifier\": \"ZZ\", \"reference_identification\": \"jh\", \"ref_segment\": \"REF*ZZ*jh~\"}\n",
      "\n",
      "{\"reference_identification_qualifier\": \"ZZ\", \"reference_identification\": \"d\", \"ref_segment\": \"REF*ZZ*d~\"}\n",
      "\n",
      "{\"reference_identification_qualifier\": \"ZZ\", \"reference_identification\": \"kC\", \"ref_segment\": \"REF*ZZ*kC~\"}\n",
      "\n",
      "{\"reference_identification_qualifier\": \"ZZ\", \"reference_identification\": \"lY\", \"ref_segment\": \"REF*ZZ*lY~\"}\n",
      "\n",
      "{\"reference_identification_qualifier\": \"ZZ\", \"reference_identification\": \"C\", \"ref_segment\": \"REF*ZZ*C~\"}\n",
      "\n",
      "{\"reference_identification_qualifier\": \"ZZ\", \"reference_identification\": \"aZ\", \"ref_segment\": \"REF*ZZ*aZ~\"}\n",
      "\n",
      "{\"reference_identification_qualifier\": \"ZZ\", \"reference_identification\": \"W\", \"ref_segment\": \"REF*ZZ*W~\"}\n",
      "\n",
      "{\"reference_identification_qualifier\": \"ZZ\", \"reference_identification\": \"r\", \"ref_segment\": \"REF*ZZ*r~\"}\n",
      "\n",
      "{\"reference_identification_qualifier\": \"ZZ\", \"reference_identification\": \"J\", \"ref_segment\": \"REF*ZZ*J~\"}\n",
      "\n",
      "{\"reference_identification_qualifier\": \"ZZ\", \"reference_identification\": \"v\", \"ref_segment\": \"REF*ZZ*v~\"}\n",
      "\n",
      "{\"reference_identification_qualifier\": \"ZZ\", \"reference_identification\": \"M\", \"ref_segment\": \"REF*ZZ*M~\"}\n",
      "\n",
      "{\"reference_identification_qualifier\": \"ZZ\", \"reference_identification\": \"k\", \"ref_segment\": \"REF*ZZ*k~\"}\n",
      "\n",
      "{\"reference_identification_qualifier\": \"ZZ\", \"reference_identification\": \"X\", \"ref_segment\": \"REF*ZZ*X~\"}\n",
      "\n",
      "{\"reference_identification_qualifier\": \"ZZ\", \"reference_identification\": \"K\", \"ref_segment\": \"REF*ZZ*K~\"}\n",
      "\n",
      "{\"reference_identification_qualifier\": \"ZZ\", \"reference_identification\": \"b\", \"ref_segment\": \"REF*ZZ*b~\"}\n",
      "\n",
      "{\"reference_identification_qualifier\": \"ZZ\", \"reference_identification\": \"G\", \"ref_segment\": \"REF*ZZ*G~\"}\n",
      "\n",
      "{\"reference_identification_qualifier\": \"ZZ\", \"reference_identification\": \"Y\", \"ref_segment\": \"REF*ZZ*Y~\"}\n",
      "\n",
      "{\"reference_identification_qualifier\": \"ZZ\", \"reference_identification\": \"rP\", \"ref_segment\": \"REF*ZZ*rP~\"}\n",
      "\n",
      "{\"reference_identification_qualifier\": \"ZZ\", \"reference_identification\": \"V\", \"ref_segment\": \"REF*ZZ*V~\"}\n",
      "\n",
      "{\"reference_identification_qualifier\": \"ZZ\", \"reference_identification\": \"CX\", \"ref_segment\": \"REF*ZZ*CX~\"}\n",
      "\n",
      "{\"reference_identification_qualifier\": \"ZZ\", \"reference_identification\": \"i\", \"ref_segment\": \"REF*ZZ*i~\"}\n",
      "\n",
      "{\"reference_identification_qualifier\": \"ZZ\", \"reference_identification\": \"Xr\", \"ref_segment\": \"REF*ZZ*Xr~\"}\n",
      "\n",
      "{\"reference_identification_qualifier\": \"ZZ\", \"reference_identification\": \"q\", \"ref_segment\": \"REF*ZZ*q~\"}\n",
      "\n",
      "{\"reference_identification_qualifier\": \"ZZ\", \"reference_identification\": \"KG\", \"ref_segment\": \"REF*ZZ*\n",
      "------------------------------------------------------------\n",
      "Processing row 29/30\n"
     ]
    },
    {
     "name": "stderr",
     "output_type": "stream",
     "text": [
      "DEBUG - Starting score: 10\n",
      "DEBUG - Keys in json_ref not present in json_gen, reducing score by 0.0\n",
      "DEBUG - Count of mismatched fields: 0.8888888888888888, reducing score by 1.7777777777777777\n",
      "DEBUG - NM1*IL*1*Williams*Blake*X*Mx.**MI*SwBJJVWPMcmoClcKAbZqlSXumleRKrFMgQClsMOrsvbpdqnnjLJRjHGlLs~  NM1*03*1*Crawford*Ashley**Mr.*DDS*XX*DzYfqQgmHqjQYoYvjqvZqwKZJYbBw~\n",
      "DEBUG - Final score: 8.222222222222221\n",
      "INFO - {\"valid_json\": 96.55172413793103, \"valid_json_schema\": 100.0, \"domain_field_match\": 75.67692939244664}\n",
      "Setting `pad_token_id` to `eos_token_id`:3 for open-end generation.\n"
     ]
    },
    {
     "name": "stdout",
     "output_type": "stream",
     "text": [
      "Generated text: \n",
      " <s><s>[INST] You are a structured data generator that creates valid JSON data based on a schema.\n",
      "Given the Schema: {\"$schema\": \"http://json-schema.org/draft-07/schema#\", \"title\": \"X12 NM1 Segment\", \"description\": \"Schema for X12 NM1 segment, which contains subscriber's or organization name information.\", \"type\": \"object\", \"properties\": {\"entity_identifier_code\": {\"type\": \"string\", \"description\": \"Entity Identifier Code (e.g., IL for Insured or 03 for dependent or PR for Payer or 1P for Provider)\", \"enum\": [\"IL\", \"03\", \"PR\", \"1P\"]}, \"entity_type_qualifier\": {\"type\": \"string\", \"description\": \"Entity Type Qualifier (1 = Person, 2 = Non-Person Entity)\", \"enum\": [\"1\", \"2\"]}, \"name_last_or_organizationName\": {\"type\": \"string\", \"description\": \"Name Last or Organization Name\", \"minLength\": 1, \"maxLength\": 60}, \"name_first\": {\"type\": \"string\", \"description\": \"Name First\", \"nullable\": true, \"minLength\": 1, \"maxLength\": 35}, \"name_middle\": {\"type\": \"string\", \"description\": \"Name Middle\", \"nullable\": true, \"minLength\": 1, \"maxLength\": 25}, \"name_prefix\": {\"type\": \"string\", \"description\": \"Name Prefix\", \"nullable\": true, \"minLength\": 1, \"maxLength\": 10}, \"name_suffix\": {\"type\": \"string\", \"description\": \"Name Suffix\", \"nullable\": true, \"minLength\": 1, \"maxLength\": 10}, \"identification_code_qualifier\": {\"type\": \"string\", \"description\": \"Identification Code Qualifier (e.g., MI = Member ID, XX = National Provider Identifier, SV = Service Provider Number, FI = Federal Tax ID, PI = Payer Identifier, ZZ = Mutually Defined)\", \"enum\": [\"MI\", \"XX\", \"SV\", \"FI\", \"PI\", \"ZZ\"], \"nullable\": true}, \"identification_code\": {\"type\": \"string\", \"description\": \"Identification Code\", \"nullable\": true, \"minLength\": 2, \"maxLength\": 80}, \"nm1_segment\": {\"type\": \"string\", \"description\": \"NM1 Segment format of the data (e.g., NM1*IL*1*DOE*JOHN****MI*123456789~)\", \"nullable\": true, \"maxLength\": 255}}, \"required\": [\"entity_identifier_code\", \"entity_type_qualifier\", \"name_last_or_organizationName\", \"nm1_segment\"]}\n",
      "Produce a JSON object that conforms to the specified schema [/INST] {\"entity_identifier_code\": \"03\", \"entity_type_qualifier\": \"1\", \"name_last_or_organizationName\": \"Crawford\", \"name_first\": \"Ashley\", \"name_prefix\": \"Mr.\", \"name_suffix\": \"DDS\", \"identification_code_qualifier\": \"XX\", \"identification_code\": \"DzYfqQgmHqjQYoYvjqvZqwKZJYbBw\", \"nm1_segment\": \"NM1*03*1*Crawford*Ashley**Mr.*DDS*XX*DzYfqQgmHqjQYoYvjqvZqwKZJYbBw~\"}</s>\n",
      "------------------------------------------------------------\n",
      "Processing row 30/30\n"
     ]
    },
    {
     "name": "stderr",
     "output_type": "stream",
     "text": [
      "DEBUG - Starting score: 10\n",
      "DEBUG - Count of mismatched fields: 0.6666666666666666, reducing score by 1.3333333333333333\n",
      "DEBUG - REF*MI*XLaeMgWDE~  REF*MI*DgQPbB~\n",
      "DEBUG - Final score: 8.666666666666666\n",
      "INFO - {\"valid_json\": 96.66666666666667, \"valid_json_schema\": 100.0, \"domain_field_match\": 76.04325396825396}\n",
      "INFO - Final Result: {'valid_json': 96.66666666666667, 'valid_json_schema': 100.0, 'domain_field_match': 76.04325396825396}\n",
      "INFO - Evaluation completed and results logged to MLflow.\n"
     ]
    },
    {
     "name": "stdout",
     "output_type": "stream",
     "text": [
      "Generated text: \n",
      " <s><s>[INST] You are a structured data generator that creates valid JSON data based on a schema.\n",
      "Given the Schema: {\"$schema\": \"http://json-schema.org/draft-07/schema#\", \"title\": \"X12 REF Segment\", \"description\": \"Schema for X12 REF segment, which contains reference identification information.\", \"type\": \"object\", \"properties\": {\"reference_identification_qualifier\": {\"type\": \"string\", \"description\": \"Reference Identification Qualifier (e.g., ZZ = Mutually Defined, MI = Member ID, XX = National Provider Identifier, SV = Service Provider Number, FI = Federal Tax ID, PI = Payer Identifier, PR = Payer Name, 1P = Provider Name)\", \"enum\": [\"ZZ\", \"MI\", \"XX\", \"SV\", \"FI\", \"PI\", \"PR\", \"1P\"]}, \"reference_identification\": {\"type\": \"string\", \"description\": \"Reference Identification (e.g., Member ID, National Provider Identifier)\", \"minLength\": 1, \"maxLength\": 20}, \"ref_segment\": {\"type\": \"string\", \"description\": \"Ref segment in the format REF*XX*123456789~\", \"minLength\": 1, \"maxLength\": 60}}, \"required\": [\"reference_identification_qualifier\", \"reference_identification\", \"ref_segment\"]}\n",
      "Generate a JSON object that includes all properties [/INST] {\"reference_identification_qualifier\": \"MI\", \"reference_identification\": \"DgQPbB\", \"ref_segment\": \"REF*MI*DgQPbB~\"}</s>\n",
      "------------------------------------------------------------\n"
     ]
    }
   ],
   "source": [
    "logger.setLevel(logging.DEBUG) \n",
    "result = test_model(model, tokenizer, split_datasets[\"test\"])\n",
    "\n",
    "result = json.loads(result)\n",
    "\n",
    "epoch = re.search(r'(\\d+)$', adapter_dir).group(1)\n",
    "mlflow.log_metric(\"syntactic-accuracy\", result['valid_json'], step=int(epoch))\n",
    "mlflow.log_metric(\"schema-accuracy\", result['valid_json_schema'], step=int(epoch))\n",
    "mlflow.log_metric(\"domain-field-match\", result['domain_field_match'], step=int(epoch))\n",
    "\n",
    "mlflow.end_run()\n",
    "logger.info(f\"Final Result: {result}\")\n",
    "logger.info(\"Evaluation completed and results logged to MLflow.\")"
   ]
  }
 ],
 "metadata": {
  "kernelspec": {
   "display_name": "base",
   "language": "python",
   "name": "python3"
  },
  "language_info": {
   "codemirror_mode": {
    "name": "ipython",
    "version": 3
   },
   "file_extension": ".py",
   "mimetype": "text/x-python",
   "name": "python",
   "nbconvert_exporter": "python",
   "pygments_lexer": "ipython3",
   "version": "3.13.2"
  }
 },
 "nbformat": 4,
 "nbformat_minor": 5
}
