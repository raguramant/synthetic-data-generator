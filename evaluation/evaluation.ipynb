{
 "cells": [
  {
   "cell_type": "markdown",
   "id": "02b5f461",
   "metadata": {},
   "source": [
    "### Evaluation"
   ]
  },
  {
   "cell_type": "code",
   "execution_count": 1,
   "id": "3e8b8136",
   "metadata": {},
   "outputs": [],
   "source": [
    "import logging\n",
    "from transformers import BitsAndBytesConfig\n",
    "#Model configs\n",
    "\n",
    "logging.basicConfig(\n",
    "    level=logging.INFO,\n",
    "    format='%(levelname)s - %(message)s'\n",
    ")\n",
    "logger = logging.getLogger(__name__)\n",
    "\n",
    "model_name = \"mistralai/Mistral-7B-Instruct-v0.3\"\n",
    "training_data = \"../data/combinations.jsonl\"\n",
    "\n",
    "quantization_config = BitsAndBytesConfig(\n",
    "    load_in_4bit=True,\n",
    "    bnb_4bit_use_double_quant=True,\n",
    "    bnb_4bit_compute_dtype=\"float16\",\n",
    "    bnb_4bit_quant_type=\"nf4\"\n",
    ")"
   ]
  },
  {
   "cell_type": "code",
   "execution_count": 2,
   "id": "78af39bf",
   "metadata": {},
   "outputs": [
    {
     "name": "stdout",
     "output_type": "stream",
     "text": [
      "Tue Aug  5 23:19:19 2025       \n",
      "+-----------------------------------------------------------------------------------------+\n",
      "| NVIDIA-SMI 576.40                 Driver Version: 576.40         CUDA Version: 12.9     |\n",
      "|-----------------------------------------+------------------------+----------------------+\n",
      "| GPU  Name                  Driver-Model | Bus-Id          Disp.A | Volatile Uncorr. ECC |\n",
      "| Fan  Temp   Perf          Pwr:Usage/Cap |           Memory-Usage | GPU-Util  Compute M. |\n",
      "|                                         |                        |               MIG M. |\n",
      "|=========================================+========================+======================|\n",
      "|   0  NVIDIA GeForce RTX 5070 Ti   WDDM  |   00000000:01:00.0 Off |                  N/A |\n",
      "|  0%   38C    P8              8W /  300W |       0MiB /  16303MiB |      0%      Default |\n",
      "|                                         |                        |                  N/A |\n",
      "+-----------------------------------------+------------------------+----------------------+\n",
      "                                                                                         \n",
      "+-----------------------------------------------------------------------------------------+\n",
      "| Processes:                                                                              |\n",
      "|  GPU   GI   CI              PID   Type   Process name                        GPU Memory |\n",
      "|        ID   ID                                                               Usage      |\n",
      "|=========================================================================================|\n",
      "+-----------------------------------------------------------------------------------------+\n"
     ]
    }
   ],
   "source": [
    "! nvidia-smi"
   ]
  },
  {
   "cell_type": "code",
   "execution_count": 3,
   "id": "bdcf5407",
   "metadata": {},
   "outputs": [
    {
     "name": "stderr",
     "output_type": "stream",
     "text": [
      "INFO - PyTorch version 2.7.0+cu128 available.\n"
     ]
    }
   ],
   "source": [
    "from datasets import load_dataset, Dataset, DatasetDict\n",
    "\n",
    "\n",
    "# load the dataset and split it into train, validation and test sets\n",
    "dataset = load_dataset(\"json\", data_files=training_data, split='train')\n",
    "shuffled_dataset = dataset.shuffle(seed=42)\n",
    "train_temp_split = shuffled_dataset.train_test_split(test_size=0.3) #30% for validation and test\n",
    "temp_dataset = train_temp_split['test']\n",
    "validation_test_split = temp_dataset.train_test_split(test_size=1/3)# 10% for validation and 20% for test\n",
    "split_datasets = DatasetDict({\n",
    "    'train': train_temp_split['train'],\n",
    "    'validation': validation_test_split['train'],\n",
    "    'test': validation_test_split['test']\n",
    "})"
   ]
  },
  {
   "cell_type": "code",
   "execution_count": 4,
   "id": "940c9b34",
   "metadata": {},
   "outputs": [
    {
     "name": "stderr",
     "output_type": "stream",
     "text": [
      "INFO - Models available: epoch-5\n",
      "INFO - Last updated model: epoch-5\n"
     ]
    },
    {
     "name": "stdout",
     "output_type": "stream",
     "text": [
      "Last run ID: 219f4ed29a504b2cb00eea34fdf06c57\n",
      "Artifact URI: c:\\Users\\Admin\\Documents\\Projects\\Repositories\\synthetic-data-generator\\mlruns/686303321124169868/219f4ed29a504b2cb00eea34fdf06c57/artifacts/adapters\\epoch-5\n"
     ]
    }
   ],
   "source": [
    "import os\n",
    "import mlflow\n",
    "\n",
    "def get_last_run_id():\n",
    "    runs = mlflow.search_runs(order_by=[\"start_time desc\"], max_results=1)\n",
    "    if not runs.empty:\n",
    "        return runs.iloc[0].run_id\n",
    "    else:\n",
    "        logger.warning(\"No runs found in MLflow.\")\n",
    "        return None\n",
    "\n",
    "def get_run_artifact_uri(last_run_id):\n",
    "    if last_run_id:\n",
    "        run_info = mlflow.get_run(last_run_id)\n",
    "        artifact_path = run_info.info.artifact_uri\n",
    "        if artifact_path.startswith(\"file://\"):\n",
    "            artifact_path = artifact_path.replace(\"file://\", \"\")\n",
    "        elif artifact_path.startswith(\"file:\"):\n",
    "            artifact_path = artifact_path.replace(\"file:\", \"\")\n",
    "        if \"/training/..\" in artifact_path:\n",
    "            artifact_path = artifact_path.replace(\"/training/..\", \"\")\n",
    "        artifact_path = artifact_path+ \"/adapters\"\n",
    "        folders = [f for f in os.listdir(artifact_path) if os.path.isdir(os.path.join(artifact_path, f))]\n",
    "        logger.info(f\"Models available: {', '.join(folders)}\")\n",
    "        if folders:\n",
    "            last_updated_folder = max(folders, key=lambda f: os.path.getmtime(os.path.join(artifact_path, f)))\n",
    "            logger.info(f\"Last updated model: {last_updated_folder}\")\n",
    "            return os.path.join(artifact_path, last_updated_folder)\n",
    "        else:\n",
    "            logger.warning(\"No folders found in the artifact URI.\")\n",
    "        return None\n",
    "    else:\n",
    "        logger.warning(\"No runs found in MLflow.\")\n",
    "        return None\n",
    "    \n",
    "mlflow.end_run()\n",
    "\n",
    "mlflow_uri = \"file:../mlruns\"\n",
    "mlflow_experiment_name = \"Synthetic-data-generator-fine-tuning\"\n",
    "\n",
    "mlflow.set_tracking_uri(mlflow_uri)\n",
    "mlflow.set_experiment(mlflow_experiment_name)\n",
    "\n",
    "run_id = get_last_run_id()\n",
    "mlflow.start_run(run_id=run_id)\n",
    "adapter_dir = get_run_artifact_uri(run_id)\n",
    "\n",
    "print(f\"Last run ID: {run_id}\")\n",
    "print(f\"Artifact URI: {adapter_dir}\")"
   ]
  },
  {
   "cell_type": "code",
   "execution_count": 5,
   "id": "512bd59d",
   "metadata": {},
   "outputs": [
    {
     "name": "stderr",
     "output_type": "stream",
     "text": [
      "INFO - We will use 90% of the memory on device 0 for storing the model, and 10% for the buffer to avoid OOM. You can set `max_memory` in to a higher value to use more memory (at your own risk).\n"
     ]
    },
    {
     "data": {
      "application/vnd.jupyter.widget-view+json": {
       "model_id": "5e823a58b0fb4b68a5357325495b2735",
       "version_major": 2,
       "version_minor": 0
      },
      "text/plain": [
       "Loading checkpoint shards:   0%|          | 0/3 [00:00<?, ?it/s]"
      ]
     },
     "metadata": {},
     "output_type": "display_data"
    }
   ],
   "source": [
    "from transformers import AutoModelForCausalLM, AutoTokenizer\n",
    "from peft import PeftModel\n",
    "\n",
    "base_model = AutoModelForCausalLM.from_pretrained(model_name, \n",
    "                                                    quantization_config=quantization_config , \n",
    "                                                    device_map=\"auto\")\n",
    "    \n",
    "model = PeftModel.from_pretrained(base_model, adapter_dir)\n",
    "tokenizer = AutoTokenizer.from_pretrained(adapter_dir)"
   ]
  },
  {
   "cell_type": "code",
   "execution_count": null,
   "id": "228faf52",
   "metadata": {},
   "outputs": [],
   "source": [
    "import json\n",
    "import re\n",
    "import numpy as np\n",
    "import torch\n",
    "from jsonschema import validate, ValidationError\n",
    "from transformers import StoppingCriteria, StoppingCriteriaList\n",
    "\n",
    "\n",
    "# function to extact JSON from a string\n",
    "def find_and_parse_json(text: str) -> dict:\n",
    "\n",
    "    try:\n",
    "        # Find the first opening curly brace\n",
    "        first_brace_index = text.find('{')\n",
    "        if first_brace_index == -1:\n",
    "            return None # No JSON object found\n",
    "\n",
    "        # Start searching from the first brace\n",
    "        brace_level = 1\n",
    "        for i, char in enumerate(text[first_brace_index + 1:]):\n",
    "            if char == '{':\n",
    "                brace_level += 1\n",
    "            elif char == '}':\n",
    "                brace_level -= 1\n",
    "            \n",
    "            if brace_level == 0:\n",
    "                # We found the matching closing brace\n",
    "                last_brace_index = first_brace_index + i + 1\n",
    "                json_string = text[first_brace_index : last_brace_index + 1]\n",
    "                \n",
    "                # Now, use the built-in json library to parse it\n",
    "                return json.loads(json_string)\n",
    "        \n",
    "        return None # No complete JSON object found\n",
    "    except (json.JSONDecodeError, IndexError):\n",
    "        # Handle cases where the substring is not valid JSON or string is malformed\n",
    "        return None\n",
    "\n",
    "\n",
    "# Validate a JSON string against a schema\n",
    "def is_valid_json_schema(json_generated, schema):\n",
    "    try:\n",
    "        validate(instance=json_generated, schema=schema)\n",
    "        return True\n",
    "    except (json.JSONDecodeError, ValidationError):\n",
    "        return False\n",
    "    \n",
    "# domainn specific checks\n",
    "def domain_specific_checks(json_ref, json_gen, domain_field, pattern):\n",
    "    score = 0\n",
    "    if domain_field in json_ref.keys():\n",
    "        # Check if NM1 segment is present in both JSONs\n",
    "        logger.debug(f\"{json_ref[domain_field]}  {json_gen.get(domain_field)}\")\n",
    "        if domain_field in json_gen.keys():\n",
    "            #NM1*PR*2*Palmer*Darlene*M*Mr.*DVM*PI*SqLFzolMNdaVXE~\n",
    "            # pattern = r'^NM1(?:\\*[^*]*){9}~$'\n",
    "            value = json_gen[domain_field]\n",
    "            if not bool(re.match(pattern, value)):\n",
    "                score += 2.5\n",
    "                logger.debug(f\"{domain_field} {value} does not match the expected pattern, reducing score by 2.5\")\n",
    "            # check if all values in the json_gen are present in the value except for the nm1_segment\n",
    "            for key in json_gen.keys():\n",
    "                if key != domain_field and json_gen[key] not in value:\n",
    "                    score += 2.5\n",
    "                    logger.debug(f\"Value {json_gen[key]} not found in {domain_field} {value}, reducing score by 2.5\")\n",
    "                    break\n",
    "        else:\n",
    "            score += 5\n",
    "            logger.debug(f\"{domain_field} not found in json_gen, reducing score by 5\")\n",
    "\n",
    "    return score\n",
    "    \n",
    "\n",
    "# Compare two JSON strings at field level and match field values\n",
    "def compare_json_field_values(json_ref, json_gen):\n",
    "   \n",
    "    if not isinstance(json_ref, dict) or not isinstance(json_gen, dict):\n",
    "        return 0.0\n",
    "    \n",
    "    score = 10\n",
    "    # json_gen has all fields of json_ref, if not reduce the score proportional to no of fields missing\n",
    "    logger.debug(f\"Starting score: {score}\")\n",
    "    if set(json_gen.keys()).issubset(set(json_ref.keys())):\n",
    "        for key in json_ref.keys():\n",
    "            if json_gen.get(key) is None:\n",
    "                reduce_score = 3 / len(json_ref.keys())\n",
    "                logger.debug(f\"Key {key} is missing in json_gen, reducing score by {reduce_score}\")\n",
    "                score -= reduce_score\n",
    "    else:\n",
    "        reduce_score = (len(json_ref.keys()) - len(json_gen.keys())) * (3 / len(json_ref.keys()))\n",
    "        logger.debug(f\"Keys in json_ref not present in json_gen, reducing score by {reduce_score}\")\n",
    "        score -= reduce_score\n",
    "\n",
    "    # domainn specific checks\n",
    "    score -= domain_specific_checks(json_ref, json_gen, \"nm1_segment\", r'^NM1(?:\\*[^*]*){9}~$')\n",
    "    score -= domain_specific_checks(json_ref, json_gen, \"dtp_segment\", r'^DTP(?:\\*[^*]*){3}~$')\n",
    "    score -= domain_specific_checks(json_ref, json_gen, \"ref_segment\", r'^REF(?:\\*[^*]*){2}~$')\n",
    "    score -= domain_specific_checks(json_ref, json_gen, \"isa_segment\", r'^ISA(?:\\*[^*]*){16}~$')\n",
    "\n",
    "    # If the score is less than 0, set it to 0\n",
    "    if score < 0.0:\n",
    "        score = 0.0\n",
    "\n",
    "    logger.debug(f\"Final score: {score}\")\n",
    "\n",
    "    return score\n",
    "\n",
    "def get_result(valid_json, valid_json_schema, comparison_results):\n",
    "    return json.dumps({\n",
    "        \"valid_json\": np.mean(valid_json) * 100,\n",
    "        \"valid_json_schema\": np.mean(valid_json_schema) * 100,\n",
    "        \"domain_field_match\": np.mean(comparison_results) * 10\n",
    "    })\n",
    "\n",
    "\n",
    "def test_model(model, tokenizer, test_dataset):\n",
    "\n",
    "    torch.cuda.empty_cache()\n",
    "\n",
    "    valid_json = []\n",
    "    valid_json_schema = []\n",
    "    comparison_results = []\n",
    "\n",
    "    stop_words = [\"[INST]\"]\n",
    "    stop_word_ids = [tokenizer(stop_word, add_special_tokens=False).input_ids[0] for stop_word in stop_words]\n",
    "    stop_word_ids.append(tokenizer.eos_token_id)  # Add EOS token ID to the stop words\n",
    "    print(f\"Tokens to stop on: {stop_words}\")\n",
    "    print(f\"Corresponding Token IDs: {stop_word_ids}\")\n",
    "        \n",
    "    for i, row in enumerate(test_dataset):\n",
    "\n",
    "        logger.info(f\"Processing row {i+1}/{len(test_dataset)}\")\n",
    "\n",
    "        prompt = f\"<s>[INST] {row['messages'][0]['content']} [/INST]\"\n",
    "        # print(f\"Prompt: \\n {prompt} \\n ---------------------------------\")\n",
    "        inputs = tokenizer(prompt, return_tensors=\"pt\").to(\"cuda\")\n",
    "        \n",
    "        with torch.no_grad():\n",
    "            output = model.generate(\n",
    "                **inputs,\n",
    "                max_new_tokens=1000,\n",
    "                temperature=0.7,\n",
    "                do_sample=True,                \n",
    "                top_p=0.9,\n",
    "                eos_token_id=stop_word_ids\n",
    "            )\n",
    "\n",
    "        generated_text = tokenizer.decode(output[0], skip_special_tokens=False)\n",
    "\n",
    "        logger.info(f\"Generated text: \\n {generated_text}\")\n",
    "        \n",
    "        if(\"[/INST]\" in generated_text):\n",
    "            generated_json = find_and_parse_json(generated_text.split(\"[/INST]\")[-1].strip())\n",
    "            gold_json = find_and_parse_json(row['messages'][1]['content'])\n",
    "            schema = find_and_parse_json(generated_text.split(\"[/INST]\")[-2].strip())\n",
    "            # print(f\"Generated JSON: {generated_json} \\n Goled JSON: {gold_json} \\n Schema: {schema}\")\n",
    "        \n",
    "        # is Json valid?\n",
    "        if generated_json is not None:\n",
    "            valid_json.append(True)\n",
    "        else:\n",
    "            valid_json.append(False)\n",
    "\n",
    "        # is JSON valid against schema?\n",
    "        if schema is not None:\n",
    "            if generated_json is not None and is_valid_json_schema(generated_json, schema):\n",
    "                valid_json_schema.append(True)\n",
    "            else:\n",
    "                valid_json_schema.append(False)\n",
    "        \n",
    "        # compare JSON field values\n",
    "        if gold_json is not None:\n",
    "            if generated_json is not None:\n",
    "                comparison_score = compare_json_field_values(gold_json, generated_json)\n",
    "            else:\n",
    "                comparison_score = 0.0\n",
    "            comparison_results.append(comparison_score)\n",
    "\n",
    "        logger.info(get_result(valid_json, valid_json_schema, comparison_results))\n",
    "        print(\"------------------------------------------------------------\")\n",
    "\n",
    "    \n",
    "    return get_result(valid_json, valid_json_schema, comparison_results)\n",
    "    "
   ]
  },
  {
   "cell_type": "code",
   "execution_count": 7,
   "id": "d2004234",
   "metadata": {},
   "outputs": [
    {
     "name": "stderr",
     "output_type": "stream",
     "text": [
      "INFO - Processing row 1/30\n",
      "Setting `pad_token_id` to `eos_token_id`:3 for open-end generation.\n"
     ]
    },
    {
     "name": "stdout",
     "output_type": "stream",
     "text": [
      "Tokens to stop on: ['[INST]']\n",
      "Corresponding Token IDs: [3, 2]\n"
     ]
    },
    {
     "name": "stderr",
     "output_type": "stream",
     "text": [
      "INFO - Generated text: \n",
      " <s><s>[INST] You are a Json test data generator generating valid json data based on a json schema. \n",
      "Given the Schema: {\"$schema\": \"http://json-schema.org/draft-07/schema#\", \"title\": \"X12 DTP Segment\", \"description\": \"Schema for X12 DTP segment, which contains date/time period information.\", \"type\": \"object\", \"properties\": {\"dtp_segment\": {\"type\": \"string\", \"description\": \"Date/Time Period (e.g., DTP*291*D8*20220101-20220131~)\", \"minLength\": 1, \"maxLength\": 30}}, \"required\": [\"dtp_segment\"]}\n",
      "Generate a JSON object that includes all properties [/INST] {\"dtp_segment\": \"DTP*151*RD8*20010914-20010919\"}</s>\n",
      "DEBUG - Starting score: 10\n",
      "DEBUG - DTP*349*RD8*19900821-19900826  DTP*151*RD8*20010914-20010919\n",
      "DEBUG - dtp_segment DTP*151*RD8*20010914-20010919 does not match the expected pattern, reducing score by 2.5\n",
      "DEBUG - Final score: 7.5\n",
      "INFO - {\"valid_json\": 100.0, \"valid_json_schema\": 100.0, \"domain_field_match\": 75.0}\n",
      "INFO - Processing row 2/30\n",
      "Setting `pad_token_id` to `eos_token_id`:3 for open-end generation.\n"
     ]
    },
    {
     "name": "stdout",
     "output_type": "stream",
     "text": [
      "------------------------------------------------------------\n"
     ]
    },
    {
     "name": "stderr",
     "output_type": "stream",
     "text": [
      "INFO - Generated text: \n",
      " <s><s>[INST] You are a structured data generator that creates valid JSON data based on a schema.\n",
      "Given the Schema: {\"$schema\": \"http://json-schema.org/draft-07/schema#\", \"title\": \"X12 DTP Segment\", \"description\": \"Schema for X12 DTP segment, which contains date/time period information.\", \"type\": \"object\", \"properties\": {\"dtp_segment\": {\"type\": \"string\", \"description\": \"Date/Time Period (e.g., DTP*291*D8*20220101-20220131~)\", \"minLength\": 1, \"maxLength\": 30}}, \"required\": [\"dtp_segment\"]}\n",
      "Create a JSON object that contains all properties [/INST] {\"dtp_segment\": \"DTP*349*D8*19860304-19860309\"}</s>\n",
      "DEBUG - Starting score: 10\n",
      "DEBUG - DTP*291*RD8*19850517-19850522  DTP*349*D8*19860304-19860309\n",
      "DEBUG - dtp_segment DTP*349*D8*19860304-19860309 does not match the expected pattern, reducing score by 2.5\n",
      "DEBUG - Final score: 7.5\n",
      "INFO - {\"valid_json\": 100.0, \"valid_json_schema\": 100.0, \"domain_field_match\": 75.0}\n",
      "INFO - Processing row 3/30\n",
      "Setting `pad_token_id` to `eos_token_id`:3 for open-end generation.\n"
     ]
    },
    {
     "name": "stdout",
     "output_type": "stream",
     "text": [
      "------------------------------------------------------------\n"
     ]
    },
    {
     "name": "stderr",
     "output_type": "stream",
     "text": [
      "INFO - Generated text: \n",
      " <s><s>[INST] You are a structured data generator that creates valid JSON data based on a schema.\n",
      "Given the Schema: {\"$schema\": \"http://json-schema.org/draft-07/schema#\", \"title\": \"X12 NM1 Segment\", \"description\": \"Schema for X12 NM1 segment, which contains subscriber's or organization name information.\", \"type\": \"object\", \"properties\": {\"entity_identifier_code\": {\"type\": \"string\", \"description\": \"Entity Identifier Code (e.g., IL for Insured or 03 for dependent or PR for Payer or 1P for Provider)\", \"enum\": [\"IL\", \"03\", \"PR\", \"1P\"]}, \"entity_type_qualifier\": {\"type\": \"string\", \"description\": \"Entity Type Qualifier (1 = Person, 2 = Non-Person Entity)\", \"enum\": [\"1\", \"2\"]}, \"name_last_or_organizationName\": {\"type\": \"string\", \"description\": \"Name Last or Organization Name\", \"minLength\": 1, \"maxLength\": 60}, \"name_first\": {\"type\": \"string\", \"description\": \"Name First\", \"nullable\": true, \"minLength\": 1, \"maxLength\": 35}, \"name_middle\": {\"type\": \"string\", \"description\": \"Name Middle\", \"nullable\": true, \"minLength\": 1, \"maxLength\": 25}, \"name_prefix\": {\"type\": \"string\", \"description\": \"Name Prefix\", \"nullable\": true, \"minLength\": 1, \"maxLength\": 10}, \"name_suffix\": {\"type\": \"string\", \"description\": \"Name Suffix\", \"nullable\": true, \"minLength\": 1, \"maxLength\": 10}, \"identification_code_qualifier\": {\"type\": \"string\", \"description\": \"Identification Code Qualifier (e.g., MI = Member ID, XX = National Provider Identifier, SV = Service Provider Number, FI = Federal Tax ID, PI = Payer Identifier, ZZ = Mutually Defined)\", \"enum\": [\"MI\", \"XX\", \"SV\", \"FI\", \"PI\", \"ZZ\"], \"nullable\": true}, \"identification_code\": {\"type\": \"string\", \"description\": \"Identification Code\", \"nullable\": true, \"minLength\": 2, \"maxLength\": 80}, \"nm1_segment\": {\"type\": \"string\", \"description\": \"NM1 Segment format of the data (e.g., NM1*IL*1*DOE*JOHN****MI*123456789~)\", \"nullable\": true, \"maxLength\": 255}}, \"required\": [\"entity_identifier_code\", \"entity_type_qualifier\", \"name_last_or_organizationName\", \"nm1_segment\"]}\n",
      "Produce a JSON object that conforms to the specified schema [/INST] {\"entity_identifier_code\": \"IL\", \"entity_type_qualifier\": \"1\", \"name_last_or_organizationName\": \"Jones\", \"name_first\": \"William\", \"name_prefix\": \"Mr.\", \"name_suffix\": \"DDS\", \"identification_code\": \"YvkPwkLZxmNJIwBhVWwYX\", \"nm1_segment\": \"NM1*IL*1*Jones*William**Mr.*DDS**YvkPwkLZxmNJIwBhVWwYX~\"}</s>\n",
      "DEBUG - Starting score: 10\n",
      "DEBUG - Keys in json_ref not present in json_gen, reducing score by 0.3333333333333333\n",
      "DEBUG - NM1*IL*1*Williams*Blake*X*Mx.**MI*SwBJJVWPMcmoClcKAbZqlSXumleRKrFMgQClsMOrsvbpdqnnjLJRjHGlLs~  NM1*IL*1*Jones*William**Mr.*DDS**YvkPwkLZxmNJIwBhVWwYX~\n",
      "DEBUG - Final score: 9.666666666666666\n",
      "INFO - {\"valid_json\": 100.0, \"valid_json_schema\": 100.0, \"domain_field_match\": 82.22222222222221}\n",
      "INFO - Processing row 4/30\n",
      "Setting `pad_token_id` to `eos_token_id`:3 for open-end generation.\n"
     ]
    },
    {
     "name": "stdout",
     "output_type": "stream",
     "text": [
      "------------------------------------------------------------\n"
     ]
    },
    {
     "name": "stderr",
     "output_type": "stream",
     "text": [
      "INFO - Generated text: \n",
      " <s><s>[INST] You are a Json test data generator generating valid json data based on a json schema. \n",
      "Given the Schema: {\"$schema\": \"http://json-schema.org/draft-07/schema#\", \"title\": \"X12 NM1 Segment\", \"description\": \"Schema for X12 NM1 segment, which contains subscriber's or organization name information.\", \"type\": \"object\", \"properties\": {\"entity_identifier_code\": {\"type\": \"string\", \"description\": \"Entity Identifier Code (e.g., IL for Insured or 03 for dependent or PR for Payer or 1P for Provider)\", \"enum\": [\"IL\", \"03\", \"PR\", \"1P\"]}, \"entity_type_qualifier\": {\"type\": \"string\", \"description\": \"Entity Type Qualifier (1 = Person, 2 = Non-Person Entity)\", \"enum\": [\"1\", \"2\"]}, \"name_last_or_organizationName\": {\"type\": \"string\", \"description\": \"Name Last or Organization Name\", \"minLength\": 1, \"maxLength\": 60}, \"name_first\": {\"type\": \"string\", \"description\": \"Name First\", \"nullable\": true, \"minLength\": 1, \"maxLength\": 35}, \"name_middle\": {\"type\": \"string\", \"description\": \"Name Middle\", \"nullable\": true, \"minLength\": 1, \"maxLength\": 25}, \"name_prefix\": {\"type\": \"string\", \"description\": \"Name Prefix\", \"nullable\": true, \"minLength\": 1, \"maxLength\": 10}, \"name_suffix\": {\"type\": \"string\", \"description\": \"Name Suffix\", \"nullable\": true, \"minLength\": 1, \"maxLength\": 10}, \"identification_code_qualifier\": {\"type\": \"string\", \"description\": \"Identification Code Qualifier (e.g., MI = Member ID, XX = National Provider Identifier, SV = Service Provider Number, FI = Federal Tax ID, PI = Payer Identifier, ZZ = Mutually Defined)\", \"enum\": [\"MI\", \"XX\", \"SV\", \"FI\", \"PI\", \"ZZ\"], \"nullable\": true}, \"identification_code\": {\"type\": \"string\", \"description\": \"Identification Code\", \"nullable\": true, \"minLength\": 2, \"maxLength\": 80}, \"nm1_segment\": {\"type\": \"string\", \"description\": \"NM1 Segment format of the data (e.g., NM1*IL*1*DOE*JOHN****MI*123456789~)\", \"nullable\": true, \"maxLength\": 255}}, \"required\": [\"entity_identifier_code\", \"entity_type_qualifier\", \"name_last_or_organizationName\", \"nm1_segment\"]}\n",
      "Generate a valid JSON object with the following properties: entity_identifier_code, entity_type_qualifier, name_last_or_organizationName, name_first, name_suffix, identification_code_qualifier, identification_code, nm1_segment [/INST] {\"entity_identifier_code\": \"IL\", \"entity_type_qualifier\": \"2\", \"name_last_or_organizationName\": \"Williams\", \"name_first\": \"Kenneth\", \"name_suffix\": \"DDS\", \"identification_code_qualifier\": \"SV\", \"identification_code\": \"UZJWnQlVkZJZKkDYqVYgLgJIzMzZLKZzKJKwLUZrLgJVZKDX\", \"nm1_segment\": \"NM1*IL*2*Williams*Kenneth***DDS*SV*UZJWnQlVkZJZKkDYqVYgLgJIzMzZLKZzKJKwLUZrLgJVZKDX~\"}</s>\n",
      "DEBUG - Starting score: 10\n",
      "DEBUG - NM1*PR*2*Brown*William***Jr.*SV*dvwomxhIqIBfEFflcqDLAJhATtqgYgmWPrMGRVNxTWmjxJYSWXPBxhL~  NM1*IL*2*Williams*Kenneth***DDS*SV*UZJWnQlVkZJZKkDYqVYgLgJIzMzZLKZzKJKwLUZrLgJVZKDX~\n",
      "DEBUG - Final score: 10\n",
      "INFO - {\"valid_json\": 100.0, \"valid_json_schema\": 100.0, \"domain_field_match\": 86.66666666666666}\n",
      "INFO - Processing row 5/30\n",
      "Setting `pad_token_id` to `eos_token_id`:3 for open-end generation.\n"
     ]
    },
    {
     "name": "stdout",
     "output_type": "stream",
     "text": [
      "------------------------------------------------------------\n"
     ]
    },
    {
     "name": "stderr",
     "output_type": "stream",
     "text": [
      "INFO - Generated text: \n",
      " <s><s>[INST] You are a structured data generator that creates valid JSON data based on a schema.\n",
      "Generate a sample json for the X12 NM1 Segment schema [/INST] {\"entity_identifier_code\": \"IL\", \"entity_type_qualifier\": \"2\", \"name_last_or_organizationName\": \"Durham\", \"name_first\": \"Cassandra\", \"name_middle\": \"C\", \"name_prefix\": \"Mx.\", \"name_suffix\": \"DDS\", \"identification_code_qualifier\": \"MI\", \"identification_code\": \"GJqZNzWVXOcGKbxJmJNKkXLQYq\", \"nm1_segment\": \"NM1*IL*2*Durham*Cassandra*C*Mx.*DDS*MI*GJqZNzWVXOcGKbxJmJNKkXLQYq~\"}</s>\n",
      "DEBUG - Starting score: 10\n",
      "DEBUG - Keys in json_ref not present in json_gen, reducing score by -0.3333333333333333\n",
      "DEBUG - NM1*PR*1*Thompson*Karina**Mr.*Jr.*MI*FuGVCeXtPJeWRWzomDpMUuzgqRFmUJUvJSpDrqhgz~  NM1*IL*2*Durham*Cassandra*C*Mx.*DDS*MI*GJqZNzWVXOcGKbxJmJNKkXLQYq~\n",
      "DEBUG - Final score: 10.333333333333334\n",
      "INFO - {\"valid_json\": 100.0, \"valid_json_schema\": 100.0, \"domain_field_match\": 90.0}\n",
      "INFO - Processing row 6/30\n",
      "Setting `pad_token_id` to `eos_token_id`:3 for open-end generation.\n"
     ]
    },
    {
     "name": "stdout",
     "output_type": "stream",
     "text": [
      "------------------------------------------------------------\n"
     ]
    },
    {
     "name": "stderr",
     "output_type": "stream",
     "text": [
      "INFO - Generated text: \n",
      " <s><s>[INST] You are a sample data generator that creates valid JSON data based on a schema.\n",
      "Given the Schema: {\"$schema\": \"http://json-schema.org/draft-07/schema#\", \"title\": \"X12 NM1 Segment\", \"description\": \"Schema for X12 NM1 segment, which contains subscriber's or organization name information.\", \"type\": \"object\", \"properties\": {\"entity_identifier_code\": {\"type\": \"string\", \"description\": \"Entity Identifier Code (e.g., IL for Insured or 03 for dependent or PR for Payer or 1P for Provider)\", \"enum\": [\"IL\", \"03\", \"PR\", \"1P\"]}, \"entity_type_qualifier\": {\"type\": \"string\", \"description\": \"Entity Type Qualifier (1 = Person, 2 = Non-Person Entity)\", \"enum\": [\"1\", \"2\"]}, \"name_last_or_organizationName\": {\"type\": \"string\", \"description\": \"Name Last or Organization Name\", \"minLength\": 1, \"maxLength\": 60}, \"name_first\": {\"type\": \"string\", \"description\": \"Name First\", \"nullable\": true, \"minLength\": 1, \"maxLength\": 35}, \"name_middle\": {\"type\": \"string\", \"description\": \"Name Middle\", \"nullable\": true, \"minLength\": 1, \"maxLength\": 25}, \"name_prefix\": {\"type\": \"string\", \"description\": \"Name Prefix\", \"nullable\": true, \"minLength\": 1, \"maxLength\": 10}, \"name_suffix\": {\"type\": \"string\", \"description\": \"Name Suffix\", \"nullable\": true, \"minLength\": 1, \"maxLength\": 10}, \"identification_code_qualifier\": {\"type\": \"string\", \"description\": \"Identification Code Qualifier (e.g., MI = Member ID, XX = National Provider Identifier, SV = Service Provider Number, FI = Federal Tax ID, PI = Payer Identifier, ZZ = Mutually Defined)\", \"enum\": [\"MI\", \"XX\", \"SV\", \"FI\", \"PI\", \"ZZ\"], \"nullable\": true}, \"identification_code\": {\"type\": \"string\", \"description\": \"Identification Code\", \"nullable\": true, \"minLength\": 2, \"maxLength\": 80}, \"nm1_segment\": {\"type\": \"string\", \"description\": \"NM1 Segment format of the data (e.g., NM1*IL*1*DOE*JOHN****MI*123456789~)\", \"nullable\": true, \"maxLength\": 255}}, \"required\": [\"entity_identifier_code\", \"entity_type_qualifier\", \"name_last_or_organizationName\", \"nm1_segment\"]}\n",
      "Produce a JSON object that adheres to the schema with all properties [/INST] {\"entity_identifier_code\": \"IL\", \"entity_type_qualifier\": \"1\", \"name_last_or_organizationName\": \"Barnett\", \"name_first\": \"Kenneth\", \"name_middle\": \"C\", \"name_prefix\": \"Mx.\", \"name_suffix\": \"MD\", \"identification_code_qualifier\": \"SV\", \"identification_code\": \"GyYcLhGZJmwuJjKZCnLWxvCzvYWGcGkYyLbOyYcLhGZJmwuJjKZCnLWxvCzvYWGcGkYyLbOyYcLhGZJmwuJjKZCnLWxvCzvYWGcGkYyLbOyYcLhGZJmwuJjKZCnLWxvCzvYWGcGkYyLbOyYcLhGZJmwuJjKZCnLWxvCzvYWGcGkYyLbOyYcLhGZJmwuJjKZCnLWxvCzvYWGcGkYyLbOyYcLhGZJmwuJjKZCnLWxvCzvYWGcGkYyLbOyYcLhGZJmwuJjKZCnLWxvCzvYWGcGkYyLbOyYcLhGZJmwuJjKZCnLWxvCzvYWGcGkYyLbOyYcLhGZJmwuJjKZCnLWxvCzvYWGcGkYyLbOyYcLhGZJmwuJjKZCnLWxvCzvYWGcGkYyLbOyYcLhGZJmwuJjKZCnLWxvCzvYWGcGkYyLbOyYcLhGZJmwuJjKZCnLWxvCzvYWGcGkYyLbOyYcLhGZJmwuJjKZCnLWxvCzvYWGcGkYyLbOyYcLhGZJmwuJjKZCnLWxvCzvYWGcGkYyLbOyYcLhGZJmwuJjKZCnLWxvCzvYWGcGkYyLbOyYcLhGZJmwuJjKZCnLWxvCzvYWGcGkYyLbOyYcLhGZJmwuJjKZCnLWxvCzvYWGcGkYyLbOyYcLhGZJmwuJjKZCnLWxvCzvYWGcGkYyLbOyYcLhGZJmwuJjKZCnLWxvCzvYWGcGkYyLbOyYcLhGZJmwuJjKZCnLWxvCzvYWGcGkYyLbOyYcLhGZJmwuJjKZCnLWxvCzvYWGcGkYyLbOyYcLhGZJmwuJjKZCnLWxvCzvYWGcGkYyLbOyYcLhGZJmwuJjKZCnLWxvCzvYWGcGkYyLbOyYcLhGZJmwuJjKZCnLWxvCzvYWGcGkYyLbOyYcLhGZJmwuJjKZCnLWxvCzvYWGcGkYy\n",
      "INFO - {\"valid_json\": 83.33333333333334, \"valid_json_schema\": 80.0, \"domain_field_match\": 75.0}\n",
      "INFO - Processing row 7/30\n",
      "Setting `pad_token_id` to `eos_token_id`:3 for open-end generation.\n"
     ]
    },
    {
     "name": "stdout",
     "output_type": "stream",
     "text": [
      "------------------------------------------------------------\n"
     ]
    },
    {
     "name": "stderr",
     "output_type": "stream",
     "text": [
      "INFO - Generated text: \n",
      " <s><s>[INST] You are a sample data generator that creates valid JSON data based on a schema.\n",
      "Given the Schema: {\"$schema\": \"http://json-schema.org/draft-07/schema#\", \"title\": \"X12 DTP Segment\", \"description\": \"Schema for X12 DTP segment, which contains date/time period information.\", \"type\": \"object\", \"properties\": {\"dtp_segment\": {\"type\": \"string\", \"description\": \"Date/Time Period (e.g., DTP*291*D8*20220101-20220131~)\", \"minLength\": 1, \"maxLength\": 30}}, \"required\": [\"dtp_segment\"]}\n",
      "Produce a JSON object that adheres to the schema with all properties [/INST] {\"dtp_segment\": \"DTP*153*D8*19900715-19900720\"}</s>\n",
      "DEBUG - Starting score: 10\n",
      "DEBUG - DTP*155*D8*20180317-20180322  DTP*153*D8*19900715-19900720\n",
      "DEBUG - dtp_segment DTP*153*D8*19900715-19900720 does not match the expected pattern, reducing score by 2.5\n",
      "DEBUG - Final score: 7.5\n",
      "INFO - {\"valid_json\": 85.71428571428571, \"valid_json_schema\": 83.33333333333334, \"domain_field_match\": 75.0}\n",
      "INFO - Processing row 8/30\n",
      "Setting `pad_token_id` to `eos_token_id`:3 for open-end generation.\n"
     ]
    },
    {
     "name": "stdout",
     "output_type": "stream",
     "text": [
      "------------------------------------------------------------\n"
     ]
    },
    {
     "name": "stderr",
     "output_type": "stream",
     "text": [
      "INFO - Generated text: \n",
      " <s><s>[INST] You are a sample data generator that creates valid JSON data based on a schema.\n",
      "Given the Schema: {\"$schema\": \"http://json-schema.org/draft-07/schema#\", \"title\": \"X12 NM1 Segment\", \"description\": \"Schema for X12 NM1 segment, which contains subscriber's or organization name information.\", \"type\": \"object\", \"properties\": {\"entity_identifier_code\": {\"type\": \"string\", \"description\": \"Entity Identifier Code (e.g., IL for Insured or 03 for dependent or PR for Payer or 1P for Provider)\", \"enum\": [\"IL\", \"03\", \"PR\", \"1P\"]}, \"entity_type_qualifier\": {\"type\": \"string\", \"description\": \"Entity Type Qualifier (1 = Person, 2 = Non-Person Entity)\", \"enum\": [\"1\", \"2\"]}, \"name_last_or_organizationName\": {\"type\": \"string\", \"description\": \"Name Last or Organization Name\", \"minLength\": 1, \"maxLength\": 60}, \"name_first\": {\"type\": \"string\", \"description\": \"Name First\", \"nullable\": true, \"minLength\": 1, \"maxLength\": 35}, \"name_middle\": {\"type\": \"string\", \"description\": \"Name Middle\", \"nullable\": true, \"minLength\": 1, \"maxLength\": 25}, \"name_prefix\": {\"type\": \"string\", \"description\": \"Name Prefix\", \"nullable\": true, \"minLength\": 1, \"maxLength\": 10}, \"name_suffix\": {\"type\": \"string\", \"description\": \"Name Suffix\", \"nullable\": true, \"minLength\": 1, \"maxLength\": 10}, \"identification_code_qualifier\": {\"type\": \"string\", \"description\": \"Identification Code Qualifier (e.g., MI = Member ID, XX = National Provider Identifier, SV = Service Provider Number, FI = Federal Tax ID, PI = Payer Identifier, ZZ = Mutually Defined)\", \"enum\": [\"MI\", \"XX\", \"SV\", \"FI\", \"PI\", \"ZZ\"], \"nullable\": true}, \"identification_code\": {\"type\": \"string\", \"description\": \"Identification Code\", \"nullable\": true, \"minLength\": 2, \"maxLength\": 80}, \"nm1_segment\": {\"type\": \"string\", \"description\": \"NM1 Segment format of the data (e.g., NM1*IL*1*DOE*JOHN****MI*123456789~)\", \"nullable\": true, \"maxLength\": 255}}, \"required\": [\"entity_identifier_code\", \"entity_type_qualifier\", \"name_last_or_organizationName\", \"nm1_segment\"]}\n",
      "Generate a valid JSON object with the following properties: entity_identifier_code, entity_type_qualifier, name_last_or_organizationName, name_first, name_middle, name_suffix, identification_code_qualifier, identification_code, nm1_segment [/INST] {\"entity_identifier_code\": \"1P\", \"entity_type_qualifier\": \"2\", \"name_last_or_organizationName\": \"Murphy\", \"name_first\": \"David\", \"name_middle\": \"T\", \"name_suffix\": \"Jr.\", \"identification_code_qualifier\": \"PI\", \"identification_code\": \"oBxKGkQGJfjhGgxwVtPZwDmDKDgwGmKwDmDw\", \"nm1_segment\": \"NM1*1P*2*Murphy*David*T*Jr.**PI*oBxKGkQGJfjhGgxwVtPZwDmDKDgwGmKwDmDw~\"}</s>\n",
      "DEBUG - Starting score: 10\n",
      "DEBUG - NM1*03*1*Lee*Michael*M**DDS*MI*JyueWMCBNUtOTjOlihQYPxaktyqMxpCRvMwaB~  NM1*1P*2*Murphy*David*T*Jr.**PI*oBxKGkQGJfjhGgxwVtPZwDmDKDgwGmKwDmDw~\n",
      "DEBUG - Final score: 10\n",
      "INFO - {\"valid_json\": 87.5, \"valid_json_schema\": 85.71428571428571, \"domain_field_match\": 78.125}\n",
      "INFO - Processing row 9/30\n",
      "Setting `pad_token_id` to `eos_token_id`:3 for open-end generation.\n"
     ]
    },
    {
     "name": "stdout",
     "output_type": "stream",
     "text": [
      "------------------------------------------------------------\n"
     ]
    },
    {
     "name": "stderr",
     "output_type": "stream",
     "text": [
      "INFO - Generated text: \n",
      " <s><s>[INST] You are a sample data generator that creates valid JSON data based on a schema.\n",
      "Generate a sample json for the X12 NM1 Segment schema [/INST] {\"entity_identifier_code\": \"IL\", \"entity_type_qualifier\": \"1\", \"name_last_or_organizationName\": \"Cruz\", \"name_first\": \"Sandra\", \"name_middle\": \"P\", \"name_prefix\": \"Mx.\", \"name_suffix\": \"MD\", \"identification_code_qualifier\": \"MI\", \"identification_code\": \"VwLzjJhqYcYzGjNnCgYwY\", \"nm1_segment\": \"NM1*IL*1*Cruz*Sandra*P*Mx.*MD*MI*VwLzjJhqYcYzGjNnCgYwY~\"}</s>\n",
      "DEBUG - Starting score: 10\n",
      "DEBUG - Keys in json_ref not present in json_gen, reducing score by -0.3333333333333333\n",
      "DEBUG - NM1*1P*1*Roberts*Anthony*X*Miss*DDS*XX*~  NM1*IL*1*Cruz*Sandra*P*Mx.*MD*MI*VwLzjJhqYcYzGjNnCgYwY~\n",
      "DEBUG - Final score: 10.333333333333334\n",
      "INFO - {\"valid_json\": 88.88888888888889, \"valid_json_schema\": 85.71428571428571, \"domain_field_match\": 80.92592592592592}\n",
      "INFO - Processing row 10/30\n",
      "Setting `pad_token_id` to `eos_token_id`:3 for open-end generation.\n"
     ]
    },
    {
     "name": "stdout",
     "output_type": "stream",
     "text": [
      "------------------------------------------------------------\n"
     ]
    },
    {
     "name": "stderr",
     "output_type": "stream",
     "text": [
      "INFO - Generated text: \n",
      " <s><s>[INST] You are a structured data generator that creates valid JSON data based on a schema.\n",
      "Given the Schema: {\"$schema\": \"http://json-schema.org/draft-07/schema#\", \"title\": \"X12 DTP Segment\", \"description\": \"Schema for X12 DTP segment, which contains date/time period information.\", \"type\": \"object\", \"properties\": {\"dtp_segment\": {\"type\": \"string\", \"description\": \"Date/Time Period (e.g., DTP*291*D8*20220101-20220131~)\", \"minLength\": 1, \"maxLength\": 30}}, \"required\": [\"dtp_segment\"]}\n",
      "Create a JSON object that contains all properties [/INST] {\"dtp_segment\": \"DTP*155*RD8*20100712-20100717\"}</s>\n",
      "DEBUG - Starting score: 10\n",
      "DEBUG - DTP*152*D8*19890308-19890313  DTP*155*RD8*20100712-20100717\n",
      "DEBUG - dtp_segment DTP*155*RD8*20100712-20100717 does not match the expected pattern, reducing score by 2.5\n",
      "DEBUG - Final score: 7.5\n",
      "INFO - {\"valid_json\": 90.0, \"valid_json_schema\": 87.5, \"domain_field_match\": 80.33333333333333}\n",
      "INFO - Processing row 11/30\n",
      "Setting `pad_token_id` to `eos_token_id`:3 for open-end generation.\n"
     ]
    },
    {
     "name": "stdout",
     "output_type": "stream",
     "text": [
      "------------------------------------------------------------\n"
     ]
    },
    {
     "name": "stderr",
     "output_type": "stream",
     "text": [
      "INFO - Generated text: \n",
      " <s><s>[INST] You are a Json test data generator generating valid json data based on a json schema. \n",
      "Given the Schema: {\"$schema\": \"http://json-schema.org/draft-07/schema#\", \"title\": \"X12 NM1 Segment\", \"description\": \"Schema for X12 NM1 segment, which contains subscriber's or organization name information.\", \"type\": \"object\", \"properties\": {\"entity_identifier_code\": {\"type\": \"string\", \"description\": \"Entity Identifier Code (e.g., IL for Insured or 03 for dependent or PR for Payer or 1P for Provider)\", \"enum\": [\"IL\", \"03\", \"PR\", \"1P\"]}, \"entity_type_qualifier\": {\"type\": \"string\", \"description\": \"Entity Type Qualifier (1 = Person, 2 = Non-Person Entity)\", \"enum\": [\"1\", \"2\"]}, \"name_last_or_organizationName\": {\"type\": \"string\", \"description\": \"Name Last or Organization Name\", \"minLength\": 1, \"maxLength\": 60}, \"name_first\": {\"type\": \"string\", \"description\": \"Name First\", \"nullable\": true, \"minLength\": 1, \"maxLength\": 35}, \"name_middle\": {\"type\": \"string\", \"description\": \"Name Middle\", \"nullable\": true, \"minLength\": 1, \"maxLength\": 25}, \"name_prefix\": {\"type\": \"string\", \"description\": \"Name Prefix\", \"nullable\": true, \"minLength\": 1, \"maxLength\": 10}, \"name_suffix\": {\"type\": \"string\", \"description\": \"Name Suffix\", \"nullable\": true, \"minLength\": 1, \"maxLength\": 10}, \"identification_code_qualifier\": {\"type\": \"string\", \"description\": \"Identification Code Qualifier (e.g., MI = Member ID, XX = National Provider Identifier, SV = Service Provider Number, FI = Federal Tax ID, PI = Payer Identifier, ZZ = Mutually Defined)\", \"enum\": [\"MI\", \"XX\", \"SV\", \"FI\", \"PI\", \"ZZ\"], \"nullable\": true}, \"identification_code\": {\"type\": \"string\", \"description\": \"Identification Code\", \"nullable\": true, \"minLength\": 2, \"maxLength\": 80}, \"nm1_segment\": {\"type\": \"string\", \"description\": \"NM1 Segment format of the data (e.g., NM1*IL*1*DOE*JOHN****MI*123456789~)\", \"nullable\": true, \"maxLength\": 255}}, \"required\": [\"entity_identifier_code\", \"entity_type_qualifier\", \"name_last_or_organizationName\", \"nm1_segment\"]}\n",
      "Create a JSON object that adheres to the given schema [/INST] {\"entity_identifier_code\": \"IL\", \"entity_type_qualifier\": \"2\", \"name_last_or_organizationName\": \"Garcia\", \"name_first\": \"Michael\", \"name_middle\": \"L\", \"name_prefix\": \"Mx.\", \"name_suffix\": \"DDS\", \"identification_code_qualifier\": \"PI\", \"identification_code\": \"wZPuYuLVZLWXzUjIkYwGhYqYxhUZXrKfjDZoL\", \"nm1_segment\": \"NM1*IL*2*Garcia*Michael*L*Mx.*DDS*PI*wZPuYuLVZLWXzUjIkYwGhYqYxhUZXrKfjDZoL~\"}</s>\n",
      "DEBUG - Starting score: 10\n",
      "DEBUG - Keys in json_ref not present in json_gen, reducing score by -0.75\n",
      "DEBUG - NM1*1P*2*Murphy**H*Mx.*MD*SV*~  NM1*IL*2*Garcia*Michael*L*Mx.*DDS*PI*wZPuYuLVZLWXzUjIkYwGhYqYxhUZXrKfjDZoL~\n",
      "DEBUG - Final score: 10.75\n",
      "INFO - {\"valid_json\": 90.9090909090909, \"valid_json_schema\": 88.88888888888889, \"domain_field_match\": 82.8030303030303}\n",
      "INFO - Processing row 12/30\n",
      "Setting `pad_token_id` to `eos_token_id`:3 for open-end generation.\n"
     ]
    },
    {
     "name": "stdout",
     "output_type": "stream",
     "text": [
      "------------------------------------------------------------\n"
     ]
    },
    {
     "name": "stderr",
     "output_type": "stream",
     "text": [
      "INFO - Generated text: \n",
      " <s><s>[INST] You are a sample data generator that creates valid JSON data based on a schema.\n",
      "Generate a sample json for the X12 REF Segment schema with all properties [/INST] {\"reference_identification_qualifier\": \"MI\", \"reference_identification\": \"bXkfXCnzYGKBpJG\", \"ref_segment\": \"REF*MI*bXkfXCnzYGKBpJG~\"}\n",
      "\n",
      "{\"reference_identification_qualifier\": \"MI\", \"reference_identification\": \"NvLmLkBhJYKhNw\", \"ref_segment\": \"REF*MI*NvLmLkBhJYKhNw~\"}\n",
      "\n",
      "{\"reference_identification_qualifier\": \"MI\", \"reference_identification\": \"jKXwXlOYOIKyfK\", \"ref_segment\": \"REF*MI*jKXwXlOYOIKyfK~\"}\n",
      "\n",
      "{\"reference_identification_qualifier\": \"MI\", \"reference_identification\": \"vkXDfPwTpHKh\", \"ref_segment\": \"REF*MI*vkXDfPwTpHKh~\"}\n",
      "\n",
      "{\"reference_identification_qualifier\": \"MI\", \"reference_identification\": \"YHwYX\", \"ref_segment\": \"REF*MI*YHwYX~\"}\n",
      "\n",
      "{\"reference_identification_qualifier\": \"MI\", \"reference_identification\": \"PfKY\", \"ref_segment\": \"REF*MI*PfKY~\"}\n",
      "\n",
      "{\"reference_identification_qualifier\": \"MI\", \"reference_identification\": \"xTpC\", \"ref_segment\": \"REF*MI*xTpC~\"}\n",
      "\n",
      "{\"reference_identification_qualifier\": \"MI\", \"reference_identification\": \"RYDY\", \"ref_segment\": \"REF*MI*RYDY~\"}\n",
      "\n",
      "{\"reference_identification_qualifier\": \"MI\", \"reference_identification\": \"qCwKY\", \"ref_segment\": \"REF*MI*qCwKY~\"}\n",
      "\n",
      "{\"reference_identification_qualifier\": \"MI\", \"reference_identification\": \"zRmK\", \"ref_segment\": \"REF*MI*zRmK~\"}</s>\n",
      "DEBUG - Starting score: 10\n",
      "DEBUG - REF*ZZ*MjHJtYhsWoF~  REF*MI*bXkfXCnzYGKBpJG~\n",
      "DEBUG - Final score: 10\n",
      "INFO - {\"valid_json\": 91.66666666666666, \"valid_json_schema\": 88.88888888888889, \"domain_field_match\": 84.23611111111111}\n",
      "INFO - Processing row 13/30\n",
      "Setting `pad_token_id` to `eos_token_id`:3 for open-end generation.\n"
     ]
    },
    {
     "name": "stdout",
     "output_type": "stream",
     "text": [
      "------------------------------------------------------------\n"
     ]
    },
    {
     "name": "stderr",
     "output_type": "stream",
     "text": [
      "INFO - Generated text: \n",
      " <s><s>[INST] You are a structured data generator that creates valid JSON data based on a schema.\n",
      "Generate a sample json for the X12 NM1 Segment schema [/INST] {\"entity_identifier_code\": \"IL\", \"entity_type_qualifier\": \"2\", \"name_last_or_organizationName\": \"Brown\", \"name_first\": \"Karen\", \"name_middle\": \"C\", \"name_prefix\": \"Mx.\", \"identification_code_qualifier\": \"MI\", \"identification_code\": \"oJDqwYLtVgJHVfQMhkCgJnKVXk\", \"nm1_segment\": \"NM1*IL*2*Brown*Karen*C*Mx.**MI*oJDqwYLtVgJHVfQMhkCgJnKVXk~\"}</s>\n",
      "DEBUG - Starting score: 10\n",
      "DEBUG - Keys in json_ref not present in json_gen, reducing score by 0.0\n",
      "DEBUG - NM1*IL*1*Escobar*Alan*L**MD*MI*UVKagFgbOxKHPeoaWQyeEUNTBZPCmYwUyEZZBXQq~  NM1*IL*2*Brown*Karen*C*Mx.**MI*oJDqwYLtVgJHVfQMhkCgJnKVXk~\n",
      "DEBUG - Final score: 10.0\n",
      "INFO - {\"valid_json\": 92.3076923076923, \"valid_json_schema\": 88.88888888888889, \"domain_field_match\": 85.44871794871794}\n",
      "INFO - Processing row 14/30\n",
      "Setting `pad_token_id` to `eos_token_id`:3 for open-end generation.\n"
     ]
    },
    {
     "name": "stdout",
     "output_type": "stream",
     "text": [
      "------------------------------------------------------------\n"
     ]
    },
    {
     "name": "stderr",
     "output_type": "stream",
     "text": [
      "INFO - Generated text: \n",
      " <s><s>[INST] You are a sample data generator that creates valid JSON data based on a schema.\n",
      "Given the Schema: {\"$schema\": \"http://json-schema.org/draft-07/schema#\", \"title\": \"X12 NM1 Segment\", \"description\": \"Schema for X12 NM1 segment, which contains subscriber's or organization name information.\", \"type\": \"object\", \"properties\": {\"entity_identifier_code\": {\"type\": \"string\", \"description\": \"Entity Identifier Code (e.g., IL for Insured or 03 for dependent or PR for Payer or 1P for Provider)\", \"enum\": [\"IL\", \"03\", \"PR\", \"1P\"]}, \"entity_type_qualifier\": {\"type\": \"string\", \"description\": \"Entity Type Qualifier (1 = Person, 2 = Non-Person Entity)\", \"enum\": [\"1\", \"2\"]}, \"name_last_or_organizationName\": {\"type\": \"string\", \"description\": \"Name Last or Organization Name\", \"minLength\": 1, \"maxLength\": 60}, \"name_first\": {\"type\": \"string\", \"description\": \"Name First\", \"nullable\": true, \"minLength\": 1, \"maxLength\": 35}, \"name_middle\": {\"type\": \"string\", \"description\": \"Name Middle\", \"nullable\": true, \"minLength\": 1, \"maxLength\": 25}, \"name_prefix\": {\"type\": \"string\", \"description\": \"Name Prefix\", \"nullable\": true, \"minLength\": 1, \"maxLength\": 10}, \"name_suffix\": {\"type\": \"string\", \"description\": \"Name Suffix\", \"nullable\": true, \"minLength\": 1, \"maxLength\": 10}, \"identification_code_qualifier\": {\"type\": \"string\", \"description\": \"Identification Code Qualifier (e.g., MI = Member ID, XX = National Provider Identifier, SV = Service Provider Number, FI = Federal Tax ID, PI = Payer Identifier, ZZ = Mutually Defined)\", \"enum\": [\"MI\", \"XX\", \"SV\", \"FI\", \"PI\", \"ZZ\"], \"nullable\": true}, \"identification_code\": {\"type\": \"string\", \"description\": \"Identification Code\", \"nullable\": true, \"minLength\": 2, \"maxLength\": 80}, \"nm1_segment\": {\"type\": \"string\", \"description\": \"NM1 Segment format of the data (e.g., NM1*IL*1*DOE*JOHN****MI*123456789~)\", \"nullable\": true, \"maxLength\": 255}}, \"required\": [\"entity_identifier_code\", \"entity_type_qualifier\", \"name_last_or_organizationName\", \"nm1_segment\"]}\n",
      "Generate a JSON object that includes all properties [/INST] {\"entity_identifier_code\": \"03\", \"entity_type_qualifier\": \"2\", \"name_last_or_organizationName\": \"Hernandez\", \"name_first\": \"Jeremy\", \"name_middle\": \"W\", \"name_prefix\": \"Mx.\", \"name_suffix\": \"Jr.\", \"identification_code_qualifier\": \"PI\", \"identification_code\": \"hgLlYqZHBkNwLwzUyNBqNwzYq\", \"nm1_segment\": \"NM1*03*2*Hernandez*Jeremy*W*Mx.*Jr.*PI*hgLlYqZHBkNwLwzUyNBqNwzYq~\"}</s>\n",
      "DEBUG - Starting score: 10\n",
      "DEBUG - NM1*1P*1*Wade*Brandon*V*Mx.*Jr.*PI*pvHOmgGRksynUuiqJDCbowryBnmf~  NM1*03*2*Hernandez*Jeremy*W*Mx.*Jr.*PI*hgLlYqZHBkNwLwzUyNBqNwzYq~\n",
      "DEBUG - Final score: 10\n",
      "INFO - {\"valid_json\": 92.85714285714286, \"valid_json_schema\": 90.0, \"domain_field_match\": 86.48809523809524}\n",
      "INFO - Processing row 15/30\n",
      "Setting `pad_token_id` to `eos_token_id`:3 for open-end generation.\n"
     ]
    },
    {
     "name": "stdout",
     "output_type": "stream",
     "text": [
      "------------------------------------------------------------\n"
     ]
    },
    {
     "name": "stderr",
     "output_type": "stream",
     "text": [
      "INFO - Generated text: \n",
      " <s><s>[INST] You are a Json test data generator generating valid json data based on a json schema. \n",
      "Given the Schema: {\"$schema\": \"http://json-schema.org/draft-07/schema#\", \"title\": \"X12 NM1 Segment\", \"description\": \"Schema for X12 NM1 segment, which contains subscriber's or organization name information.\", \"type\": \"object\", \"properties\": {\"entity_identifier_code\": {\"type\": \"string\", \"description\": \"Entity Identifier Code (e.g., IL for Insured or 03 for dependent or PR for Payer or 1P for Provider)\", \"enum\": [\"IL\", \"03\", \"PR\", \"1P\"]}, \"entity_type_qualifier\": {\"type\": \"string\", \"description\": \"Entity Type Qualifier (1 = Person, 2 = Non-Person Entity)\", \"enum\": [\"1\", \"2\"]}, \"name_last_or_organizationName\": {\"type\": \"string\", \"description\": \"Name Last or Organization Name\", \"minLength\": 1, \"maxLength\": 60}, \"name_first\": {\"type\": \"string\", \"description\": \"Name First\", \"nullable\": true, \"minLength\": 1, \"maxLength\": 35}, \"name_middle\": {\"type\": \"string\", \"description\": \"Name Middle\", \"nullable\": true, \"minLength\": 1, \"maxLength\": 25}, \"name_prefix\": {\"type\": \"string\", \"description\": \"Name Prefix\", \"nullable\": true, \"minLength\": 1, \"maxLength\": 10}, \"name_suffix\": {\"type\": \"string\", \"description\": \"Name Suffix\", \"nullable\": true, \"minLength\": 1, \"maxLength\": 10}, \"identification_code_qualifier\": {\"type\": \"string\", \"description\": \"Identification Code Qualifier (e.g., MI = Member ID, XX = National Provider Identifier, SV = Service Provider Number, FI = Federal Tax ID, PI = Payer Identifier, ZZ = Mutually Defined)\", \"enum\": [\"MI\", \"XX\", \"SV\", \"FI\", \"PI\", \"ZZ\"], \"nullable\": true}, \"identification_code\": {\"type\": \"string\", \"description\": \"Identification Code\", \"nullable\": true, \"minLength\": 2, \"maxLength\": 80}, \"nm1_segment\": {\"type\": \"string\", \"description\": \"NM1 Segment format of the data (e.g., NM1*IL*1*DOE*JOHN****MI*123456789~)\", \"nullable\": true, \"maxLength\": 255}}, \"required\": [\"entity_identifier_code\", \"entity_type_qualifier\", \"name_last_or_organizationName\", \"nm1_segment\"]}\n",
      "Produce a JSON object that adheres to the schema with all properties [/INST] {\"entity_identifier_code\": \"03\", \"entity_type_qualifier\": \"1\", \"name_last_or_organizationName\": \"Brown\", \"name_first\": \"Kenneth\", \"name_middle\": \"G\", \"name_prefix\": \"Mr.\", \"name_suffix\": \"DDS\", \"identification_code_qualifier\": \"SV\", \"identification_code\": \"XfWJvOyHvOYvYGHQkVYZmhNhkXmZhYZYhZmZhZkZhYZkZhYGHQkVYZmhNhkXmYGHQkVYZmhNhkXmZhYZYhZmZhZkZhYZkZhYGHQkVYZmhNhkXmYGHQkVYZmhNhkXmZhYZYhZmZhZkZhYZkZhYGHQkVYZmhNhkXmYGHQkVYZmhNhkXmYGHQkVYZmhNhkXmYGHQkVYZmhNhkXmYGHQkVYZmhNhkXmYGHQkVYZmhNhkXmYGHQkVYZmhNhkXmYGHQkVYZmhNhkXmYGHQkVYZmhNhkXmYGHQkVYZmhNhkXmYGHQkVYZmhNhkXmYGHQkVYZmhNhkXmYGHQkVYZmhNhkXmYGHQkVYZmhNhkXmYGHQkVYZmhNhkXmYGHQkVYZmhNhkXmYGHQkVYZmhNhkXmYGHQkVYZmhNhkXmYGHQkVYZmhNhkXmYGHQkVYZmhNhkXmYGHQkVYZmhNhkXmYGHQkVYZmhNhkXmYGHQkVYZmhNhkXmYGHQkVYZmhNhkXmYGHQkVYZmhNhkXmYGHQkVYZmhNhkXmYGHQkVYZmhNhkXmYGHQkVYZmhNhkXmYGHQkVYZmhNhkXmYGHQkVYZmhNhkXmYGHQkVYZmhNhkXmYGHQkVYZmhNhkXmYGHQkVYZmhNhkXmYGHQkVYZmhNhkXmYGHQkVYZmhNhkXmYGHQkVYZmhNhkXmYGHQkVYZmhNhkXmYGHQkVYZmhNhkXmYGHQkVYZmhNhkXmYGHQkVYZmhNhkXmYGHQkVYZmhNhkXmYGHQkVYZmhNhkXmYGHQkVYZmhNhkXmYGHQkVYZmhNhkXmYGHQkVYZmhNhkXmYGHQkVYZmhNhkXmYGHQkVYZmhNhkXmYGHQkVYZmhNhkXmYGHQkVYZmhNhkXmYGHQkVYZmhNhkXmYGHQkVYZmhNhkX\n",
      "INFO - {\"valid_json\": 86.66666666666667, \"valid_json_schema\": 81.81818181818183, \"domain_field_match\": 80.72222222222221}\n",
      "INFO - Processing row 16/30\n",
      "Setting `pad_token_id` to `eos_token_id`:3 for open-end generation.\n"
     ]
    },
    {
     "name": "stdout",
     "output_type": "stream",
     "text": [
      "------------------------------------------------------------\n"
     ]
    },
    {
     "name": "stderr",
     "output_type": "stream",
     "text": [
      "INFO - Generated text: \n",
      " <s><s>[INST] You are a structured data generator that creates valid JSON data based on a schema.\n",
      "Generate a sample json for the X12 REF Segment schema with all properties [/INST] {\"reference_identification_qualifier\": \"ZZ\", \"reference_identification\": \"Wy\", \"ref_segment\": \"REF*ZZ*Wy~\"}\n",
      "\n",
      "{\"reference_identification_qualifier\": \"ZZ\", \"reference_identification\": \"Wy\", \"ref_segment\": \"REF*ZZ*Wy~\"}\n",
      "\n",
      "{\"reference_identification_qualifier\": \"ZZ\", \"reference_identification\": \"Wy\", \"ref_segment\": \"REF*ZZ*Wy~\"}\n",
      "\n",
      "{\"reference_identification_qualifier\": \"ZZ\", \"reference_identification\": \"Wy\", \"ref_segment\": \"REF*ZZ*Wy~\"}\n",
      "\n",
      "{\"reference_identification_qualifier\": \"ZZ\", \"reference_identification\": \"Wy\", \"ref_segment\": \"REF*ZZ*Wy~\"}\n",
      "\n",
      "{\"reference_identification_qualifier\": \"ZZ\", \"reference_identification\": \"Wy\", \"ref_segment\": \"REF*ZZ*Wy~\"}\n",
      "\n",
      "{\"reference_identification_qualifier\": \"ZZ\", \"reference_identification\": \"Wy\", \"ref_segment\": \"REF*ZZ*Wy~\"}\n",
      "\n",
      "{\"reference_identification_qualifier\": \"ZZ\", \"reference_identification\": \"Wy\", \"ref_segment\": \"REF*ZZ*Wy~\"}\n",
      "\n",
      "{\"reference_identification_qualifier\": \"ZZ\", \"reference_identification\": \"Wy\", \"ref_segment\": \"REF*ZZ*Wy~\"}\n",
      "\n",
      "{\"reference_identification_qualifier\": \"ZZ\", \"reference_identification\": \"Wy\", \"ref_segment\": \"REF*ZZ*Wy~\"}\n",
      "\n",
      "{\"reference_identification_qualifier\": \"ZZ\", \"reference_identification\": \"Wy\", \"ref_segment\": \"REF*ZZ*Wy~\"}\n",
      "\n",
      "{\"reference_identification_qualifier\": \"ZZ\", \"reference_identification\": \"Wy\", \"ref_segment\": \"REF*ZZ*Wy~\"}\n",
      "\n",
      "{\"reference_identification_qualifier\": \"ZZ\", \"reference_identification\": \"Wy\", \"ref_segment\": \"REF*ZZ*Wy~\"}\n",
      "\n",
      "{\"reference_identification_qualifier\": \"ZZ\", \"reference_identification\": \"Wy\", \"ref_segment\": \"REF*ZZ*Wy~\"}\n",
      "\n",
      "{\"reference_identification_qualifier\": \"ZZ\", \"reference_identification\": \"Wy\", \"ref_segment\": \"REF*ZZ*Wy~\"}\n",
      "\n",
      "{\"reference_identification_qualifier\": \"ZZ\", \"reference_identification\": \"Wy\", \"ref_segment\": \"REF*ZZ*Wy~\"}\n",
      "\n",
      "{\"reference_identification_qualifier\": \"ZZ\", \"reference_identification\": \"Wy\", \"ref_segment\": \"REF*ZZ*Wy~\"}\n",
      "\n",
      "{\"reference_identification_qualifier\": \"ZZ\", \"reference_identification\": \"Wy\", \"ref_segment\": \"REF*ZZ*Wy~\"}\n",
      "\n",
      "{\"reference_identification_qualifier\": \"ZZ\", \"reference_identification\": \"Wy\", \"ref_segment\": \"REF*ZZ*Wy~\"}\n",
      "\n",
      "{\"reference_identification_qualifier\": \"ZZ\", \"reference_identification\": \"Wy\", \"ref_segment\": \"REF*ZZ*Wy~\"}\n",
      "\n",
      "{\"reference_identification_qualifier\": \"ZZ\", \"reference_identification\": \"Wy\", \"ref_segment\": \"REF*ZZ*Wy~\"}\n",
      "\n",
      "{\"reference_identification_qualifier\": \"ZZ\", \"reference_identification\": \"Wy\", \"ref_segment\": \"REF*ZZ*Wy~\"}\n",
      "\n",
      "{\"reference_identification_qualifier\": \"ZZ\", \"reference_identification\": \"Wy\", \"ref_segment\": \"REF*ZZ*Wy~\"}\n",
      "\n",
      "{\"reference_identification_qualifier\": \"ZZ\", \"reference_identification\": \"Wy\", \"ref_segment\": \"REF*ZZ*Wy~\"}\n",
      "\n",
      "{\"reference_identification_qualifier\": \"ZZ\", \"reference_identification\": \"Wy\", \"ref_segment\": \"REF*ZZ*Wy~\"}\n",
      "\n",
      "{\"reference_identification_qualifier\": \"ZZ\", \"reference_identification\": \"Wy\", \"ref_segment\": \"REF*ZZ*Wy~\"}\n",
      "\n",
      "{\"reference_identification_qualifier\": \"ZZ\",\n",
      "DEBUG - Starting score: 10\n",
      "DEBUG - REF*ZZ*mvngnDzkoC~  REF*ZZ*Wy~\n",
      "DEBUG - Final score: 10\n",
      "INFO - {\"valid_json\": 87.5, \"valid_json_schema\": 81.81818181818183, \"domain_field_match\": 81.92708333333334}\n",
      "INFO - Processing row 17/30\n",
      "Setting `pad_token_id` to `eos_token_id`:3 for open-end generation.\n"
     ]
    },
    {
     "name": "stdout",
     "output_type": "stream",
     "text": [
      "------------------------------------------------------------\n"
     ]
    },
    {
     "name": "stderr",
     "output_type": "stream",
     "text": [
      "INFO - Generated text: \n",
      " <s><s>[INST] You are a sample data generator that creates valid JSON data based on a schema.\n",
      "Given the Schema: {\"$schema\": \"http://json-schema.org/draft-07/schema#\", \"title\": \"X12 NM1 Segment\", \"description\": \"Schema for X12 NM1 segment, which contains subscriber's or organization name information.\", \"type\": \"object\", \"properties\": {\"entity_identifier_code\": {\"type\": \"string\", \"description\": \"Entity Identifier Code (e.g., IL for Insured or 03 for dependent or PR for Payer or 1P for Provider)\", \"enum\": [\"IL\", \"03\", \"PR\", \"1P\"]}, \"entity_type_qualifier\": {\"type\": \"string\", \"description\": \"Entity Type Qualifier (1 = Person, 2 = Non-Person Entity)\", \"enum\": [\"1\", \"2\"]}, \"name_last_or_organizationName\": {\"type\": \"string\", \"description\": \"Name Last or Organization Name\", \"minLength\": 1, \"maxLength\": 60}, \"name_first\": {\"type\": \"string\", \"description\": \"Name First\", \"nullable\": true, \"minLength\": 1, \"maxLength\": 35}, \"name_middle\": {\"type\": \"string\", \"description\": \"Name Middle\", \"nullable\": true, \"minLength\": 1, \"maxLength\": 25}, \"name_prefix\": {\"type\": \"string\", \"description\": \"Name Prefix\", \"nullable\": true, \"minLength\": 1, \"maxLength\": 10}, \"name_suffix\": {\"type\": \"string\", \"description\": \"Name Suffix\", \"nullable\": true, \"minLength\": 1, \"maxLength\": 10}, \"identification_code_qualifier\": {\"type\": \"string\", \"description\": \"Identification Code Qualifier (e.g., MI = Member ID, XX = National Provider Identifier, SV = Service Provider Number, FI = Federal Tax ID, PI = Payer Identifier, ZZ = Mutually Defined)\", \"enum\": [\"MI\", \"XX\", \"SV\", \"FI\", \"PI\", \"ZZ\"], \"nullable\": true}, \"identification_code\": {\"type\": \"string\", \"description\": \"Identification Code\", \"nullable\": true, \"minLength\": 2, \"maxLength\": 80}, \"nm1_segment\": {\"type\": \"string\", \"description\": \"NM1 Segment format of the data (e.g., NM1*IL*1*DOE*JOHN****MI*123456789~)\", \"nullable\": true, \"maxLength\": 255}}, \"required\": [\"entity_identifier_code\", \"entity_type_qualifier\", \"name_last_or_organizationName\", \"nm1_segment\"]}\n",
      "Generate a JSON object that includes the following properties: entity_identifier_code, entity_type_qualifier, name_last_or_organizationName, name_first, name_middle, name_prefix, identification_code_qualifier, nm1_segment [/INST] {\"entity_identifier_code\": \"PR\", \"entity_type_qualifier\": \"1\", \"name_last_or_organizationName\": \"Morales\", \"name_first\": \"Jennifer\", \"name_middle\": \"O\", \"name_prefix\": \"Mx.\", \"identification_code_qualifier\": \"XX\", \"nm1_segment\": \"NM1*PR*1*Morales*Jennifer*O*Mx.**XX*~\"}</s>\n",
      "DEBUG - Starting score: 10\n",
      "DEBUG - NM1*03*2*Cooper*Charles*G*Mx.**SV*~  NM1*PR*1*Morales*Jennifer*O*Mx.**XX*~\n",
      "DEBUG - Final score: 10\n",
      "INFO - {\"valid_json\": 88.23529411764706, \"valid_json_schema\": 83.33333333333334, \"domain_field_match\": 82.99019607843137}\n",
      "INFO - Processing row 18/30\n",
      "Setting `pad_token_id` to `eos_token_id`:3 for open-end generation.\n"
     ]
    },
    {
     "name": "stdout",
     "output_type": "stream",
     "text": [
      "------------------------------------------------------------\n"
     ]
    },
    {
     "name": "stderr",
     "output_type": "stream",
     "text": [
      "INFO - Generated text: \n",
      " <s><s>[INST] You are a sample data generator that creates valid JSON data based on a schema.\n",
      "Given the Schema: {\"$schema\": \"http://json-schema.org/draft-07/schema#\", \"title\": \"X12 NM1 Segment\", \"description\": \"Schema for X12 NM1 segment, which contains subscriber's or organization name information.\", \"type\": \"object\", \"properties\": {\"entity_identifier_code\": {\"type\": \"string\", \"description\": \"Entity Identifier Code (e.g., IL for Insured or 03 for dependent or PR for Payer or 1P for Provider)\", \"enum\": [\"IL\", \"03\", \"PR\", \"1P\"]}, \"entity_type_qualifier\": {\"type\": \"string\", \"description\": \"Entity Type Qualifier (1 = Person, 2 = Non-Person Entity)\", \"enum\": [\"1\", \"2\"]}, \"name_last_or_organizationName\": {\"type\": \"string\", \"description\": \"Name Last or Organization Name\", \"minLength\": 1, \"maxLength\": 60}, \"name_first\": {\"type\": \"string\", \"description\": \"Name First\", \"nullable\": true, \"minLength\": 1, \"maxLength\": 35}, \"name_middle\": {\"type\": \"string\", \"description\": \"Name Middle\", \"nullable\": true, \"minLength\": 1, \"maxLength\": 25}, \"name_prefix\": {\"type\": \"string\", \"description\": \"Name Prefix\", \"nullable\": true, \"minLength\": 1, \"maxLength\": 10}, \"name_suffix\": {\"type\": \"string\", \"description\": \"Name Suffix\", \"nullable\": true, \"minLength\": 1, \"maxLength\": 10}, \"identification_code_qualifier\": {\"type\": \"string\", \"description\": \"Identification Code Qualifier (e.g., MI = Member ID, XX = National Provider Identifier, SV = Service Provider Number, FI = Federal Tax ID, PI = Payer Identifier, ZZ = Mutually Defined)\", \"enum\": [\"MI\", \"XX\", \"SV\", \"FI\", \"PI\", \"ZZ\"], \"nullable\": true}, \"identification_code\": {\"type\": \"string\", \"description\": \"Identification Code\", \"nullable\": true, \"minLength\": 2, \"maxLength\": 80}, \"nm1_segment\": {\"type\": \"string\", \"description\": \"NM1 Segment format of the data (e.g., NM1*IL*1*DOE*JOHN****MI*123456789~)\", \"nullable\": true, \"maxLength\": 255}}, \"required\": [\"entity_identifier_code\", \"entity_type_qualifier\", \"name_last_or_organizationName\", \"nm1_segment\"]}\n",
      "Create a JSON object that contains the following properties: entity_identifier_code, entity_type_qualifier, name_last_or_organizationName, name_first, name_middle, name_prefix, name_suffix, identification_code_qualifier, nm1_segment and values: 03, 1, Evans, Julie, X, Mx., DDS, ZZ, NM1*03*1*Evans*Julie*X*Mx.*DDS*ZZ*~ [/INST] {\"entity_identifier_code\": \"03\", \"entity_type_qualifier\": \"1\", \"name_last_or_organizationName\": \"Evans\", \"name_first\": \"Julie\", \"name_middle\": \"X\", \"name_prefix\": \"Mx.\", \"name_suffix\": \"DDS\", \"identification_code_qualifier\": \"ZZ\", \"nm1_segment\": \"NM1*03*1*Evans*Julie*X*Mx.*DDS*ZZ*~\"}</s>\n",
      "DEBUG - Starting score: 10\n",
      "DEBUG - NM1*03*1*Evans*Julie*X*Mx.*DDS*ZZ*~  NM1*03*1*Evans*Julie*X*Mx.*DDS*ZZ*~\n",
      "DEBUG - Final score: 10\n",
      "INFO - {\"valid_json\": 88.88888888888889, \"valid_json_schema\": 84.61538461538461, \"domain_field_match\": 83.93518518518519}\n",
      "INFO - Processing row 19/30\n",
      "Setting `pad_token_id` to `eos_token_id`:3 for open-end generation.\n"
     ]
    },
    {
     "name": "stdout",
     "output_type": "stream",
     "text": [
      "------------------------------------------------------------\n"
     ]
    },
    {
     "name": "stderr",
     "output_type": "stream",
     "text": [
      "INFO - Generated text: \n",
      " <s><s>[INST] You are a structured data generator that creates valid JSON data based on a schema.\n",
      "Given the Schema: {\"$schema\": \"http://json-schema.org/draft-07/schema#\", \"title\": \"X12 REF Segment\", \"description\": \"Schema for X12 REF segment, which contains reference identification information.\", \"type\": \"object\", \"properties\": {\"reference_identification_qualifier\": {\"type\": \"string\", \"description\": \"Reference Identification Qualifier (e.g., ZZ = Mutually Defined, MI = Member ID, XX = National Provider Identifier, SV = Service Provider Number, FI = Federal Tax ID, PI = Payer Identifier, PR = Payer Name, 1P = Provider Name)\", \"enum\": [\"ZZ\", \"MI\", \"XX\", \"SV\", \"FI\", \"PI\", \"PR\", \"1P\"]}, \"reference_identification\": {\"type\": \"string\", \"description\": \"Reference Identification (e.g., Member ID, National Provider Identifier)\", \"minLength\": 1, \"maxLength\": 20}, \"ref_segment\": {\"type\": \"string\", \"description\": \"Ref segment in the format REF*XX*123456789~\", \"minLength\": 1, \"maxLength\": 60}}, \"required\": [\"reference_identification_qualifier\", \"reference_identification\", \"ref_segment\"]}\n",
      "Generate a JSON object that includes all properties [/INST] {\"reference_identification_qualifier\": \"FI\", \"reference_identification\": \"PfHrCqKTqgKjL\", \"ref_segment\": \"REF*FI*PfHrCqKTqgKjL~\"}</s>\n",
      "DEBUG - Starting score: 10\n",
      "DEBUG - REF*ZZ*iiWxKnoz~  REF*FI*PfHrCqKTqgKjL~\n",
      "DEBUG - Final score: 10\n",
      "INFO - {\"valid_json\": 89.47368421052632, \"valid_json_schema\": 85.71428571428571, \"domain_field_match\": 84.78070175438597}\n",
      "INFO - Processing row 20/30\n",
      "Setting `pad_token_id` to `eos_token_id`:3 for open-end generation.\n"
     ]
    },
    {
     "name": "stdout",
     "output_type": "stream",
     "text": [
      "------------------------------------------------------------\n"
     ]
    },
    {
     "name": "stderr",
     "output_type": "stream",
     "text": [
      "INFO - Generated text: \n",
      " <s><s>[INST] You are a sample data generator that creates valid JSON data based on a schema.\n",
      "Given the Schema: {\"$schema\": \"http://json-schema.org/draft-07/schema#\", \"title\": \"X12 REF Segment\", \"description\": \"Schema for X12 REF segment, which contains reference identification information.\", \"type\": \"object\", \"properties\": {\"reference_identification_qualifier\": {\"type\": \"string\", \"description\": \"Reference Identification Qualifier (e.g., ZZ = Mutually Defined, MI = Member ID, XX = National Provider Identifier, SV = Service Provider Number, FI = Federal Tax ID, PI = Payer Identifier, PR = Payer Name, 1P = Provider Name)\", \"enum\": [\"ZZ\", \"MI\", \"XX\", \"SV\", \"FI\", \"PI\", \"PR\", \"1P\"]}, \"reference_identification\": {\"type\": \"string\", \"description\": \"Reference Identification (e.g., Member ID, National Provider Identifier)\", \"minLength\": 1, \"maxLength\": 20}, \"ref_segment\": {\"type\": \"string\", \"description\": \"Ref segment in the format REF*XX*123456789~\", \"minLength\": 1, \"maxLength\": 60}}, \"required\": [\"reference_identification_qualifier\", \"reference_identification\", \"ref_segment\"]}\n",
      "Create a JSON object that contains all properties [/INST] {\"reference_identification_qualifier\": \"SV\", \"reference_identification\": \"CfhYvCpMv\", \"ref_segment\": \"REF*SV*CfhYvCpMv~\"}</s>\n",
      "DEBUG - Starting score: 10\n",
      "DEBUG - REF*SV*byRAyin~  REF*SV*CfhYvCpMv~\n",
      "DEBUG - Final score: 10\n",
      "INFO - {\"valid_json\": 90.0, \"valid_json_schema\": 86.66666666666667, \"domain_field_match\": 85.54166666666667}\n",
      "INFO - Processing row 21/30\n",
      "Setting `pad_token_id` to `eos_token_id`:3 for open-end generation.\n"
     ]
    },
    {
     "name": "stdout",
     "output_type": "stream",
     "text": [
      "------------------------------------------------------------\n"
     ]
    },
    {
     "name": "stderr",
     "output_type": "stream",
     "text": [
      "INFO - Generated text: \n",
      " <s><s>[INST] You are a sample data generator that creates valid JSON data based on a schema.\n",
      "Given the Schema: {\"$schema\": \"http://json-schema.org/draft-07/schema#\", \"title\": \"X12 NM1 Segment\", \"description\": \"Schema for X12 NM1 segment, which contains subscriber's or organization name information.\", \"type\": \"object\", \"properties\": {\"entity_identifier_code\": {\"type\": \"string\", \"description\": \"Entity Identifier Code (e.g., IL for Insured or 03 for dependent or PR for Payer or 1P for Provider)\", \"enum\": [\"IL\", \"03\", \"PR\", \"1P\"]}, \"entity_type_qualifier\": {\"type\": \"string\", \"description\": \"Entity Type Qualifier (1 = Person, 2 = Non-Person Entity)\", \"enum\": [\"1\", \"2\"]}, \"name_last_or_organizationName\": {\"type\": \"string\", \"description\": \"Name Last or Organization Name\", \"minLength\": 1, \"maxLength\": 60}, \"name_first\": {\"type\": \"string\", \"description\": \"Name First\", \"nullable\": true, \"minLength\": 1, \"maxLength\": 35}, \"name_middle\": {\"type\": \"string\", \"description\": \"Name Middle\", \"nullable\": true, \"minLength\": 1, \"maxLength\": 25}, \"name_prefix\": {\"type\": \"string\", \"description\": \"Name Prefix\", \"nullable\": true, \"minLength\": 1, \"maxLength\": 10}, \"name_suffix\": {\"type\": \"string\", \"description\": \"Name Suffix\", \"nullable\": true, \"minLength\": 1, \"maxLength\": 10}, \"identification_code_qualifier\": {\"type\": \"string\", \"description\": \"Identification Code Qualifier (e.g., MI = Member ID, XX = National Provider Identifier, SV = Service Provider Number, FI = Federal Tax ID, PI = Payer Identifier, ZZ = Mutually Defined)\", \"enum\": [\"MI\", \"XX\", \"SV\", \"FI\", \"PI\", \"ZZ\"], \"nullable\": true}, \"identification_code\": {\"type\": \"string\", \"description\": \"Identification Code\", \"nullable\": true, \"minLength\": 2, \"maxLength\": 80}, \"nm1_segment\": {\"type\": \"string\", \"description\": \"NM1 Segment format of the data (e.g., NM1*IL*1*DOE*JOHN****MI*123456789~)\", \"nullable\": true, \"maxLength\": 255}}, \"required\": [\"entity_identifier_code\", \"entity_type_qualifier\", \"name_last_or_organizationName\", \"nm1_segment\"]}\n",
      "Give a JSON data that has the required properties: entity_identifier_code, entity_type_qualifier, name_last_or_organizationName, nm1_segment [/INST] {\"entity_identifier_code\": \"IL\", \"entity_type_qualifier\": \"2\", \"name_last_or_organizationName\": \"Nguyen\", \"name_middle\": \"P\", \"name_prefix\": \"Mr.\", \"name_suffix\": \"MD\", \"identification_code_qualifier\": \"SV\", \"nm1_segment\": \"NM1*IL*2*Nguyen**P*Mr.*MD*SV*~\"}</s>\n",
      "DEBUG - Starting score: 10\n",
      "DEBUG - Keys in json_ref not present in json_gen, reducing score by 0.0\n",
      "DEBUG - NM1*03*1*Wilson*Stephanie**Mr.*DDS**LVtJThpCRUrfefqThCDxvCCLCEJcJMaBauMhHjavfqgEtsSoLXjiRoaFamPYveVnEZjTDUHQE~  NM1*IL*2*Nguyen**P*Mr.*MD*SV*~\n",
      "DEBUG - Final score: 10.0\n",
      "INFO - {\"valid_json\": 90.47619047619048, \"valid_json_schema\": 87.5, \"domain_field_match\": 86.23015873015873}\n",
      "INFO - Processing row 22/30\n",
      "Setting `pad_token_id` to `eos_token_id`:3 for open-end generation.\n"
     ]
    },
    {
     "name": "stdout",
     "output_type": "stream",
     "text": [
      "------------------------------------------------------------\n"
     ]
    },
    {
     "name": "stderr",
     "output_type": "stream",
     "text": [
      "INFO - Generated text: \n",
      " <s><s>[INST] You are a sample data generator that creates valid JSON data based on a schema.\n",
      "Given the Schema: {\"$schema\": \"http://json-schema.org/draft-07/schema#\", \"title\": \"X12 NM1 Segment\", \"description\": \"Schema for X12 NM1 segment, which contains subscriber's or organization name information.\", \"type\": \"object\", \"properties\": {\"entity_identifier_code\": {\"type\": \"string\", \"description\": \"Entity Identifier Code (e.g., IL for Insured or 03 for dependent or PR for Payer or 1P for Provider)\", \"enum\": [\"IL\", \"03\", \"PR\", \"1P\"]}, \"entity_type_qualifier\": {\"type\": \"string\", \"description\": \"Entity Type Qualifier (1 = Person, 2 = Non-Person Entity)\", \"enum\": [\"1\", \"2\"]}, \"name_last_or_organizationName\": {\"type\": \"string\", \"description\": \"Name Last or Organization Name\", \"minLength\": 1, \"maxLength\": 60}, \"name_first\": {\"type\": \"string\", \"description\": \"Name First\", \"nullable\": true, \"minLength\": 1, \"maxLength\": 35}, \"name_middle\": {\"type\": \"string\", \"description\": \"Name Middle\", \"nullable\": true, \"minLength\": 1, \"maxLength\": 25}, \"name_prefix\": {\"type\": \"string\", \"description\": \"Name Prefix\", \"nullable\": true, \"minLength\": 1, \"maxLength\": 10}, \"name_suffix\": {\"type\": \"string\", \"description\": \"Name Suffix\", \"nullable\": true, \"minLength\": 1, \"maxLength\": 10}, \"identification_code_qualifier\": {\"type\": \"string\", \"description\": \"Identification Code Qualifier (e.g., MI = Member ID, XX = National Provider Identifier, SV = Service Provider Number, FI = Federal Tax ID, PI = Payer Identifier, ZZ = Mutually Defined)\", \"enum\": [\"MI\", \"XX\", \"SV\", \"FI\", \"PI\", \"ZZ\"], \"nullable\": true}, \"identification_code\": {\"type\": \"string\", \"description\": \"Identification Code\", \"nullable\": true, \"minLength\": 2, \"maxLength\": 80}, \"nm1_segment\": {\"type\": \"string\", \"description\": \"NM1 Segment format of the data (e.g., NM1*IL*1*DOE*JOHN****MI*123456789~)\", \"nullable\": true, \"maxLength\": 255}}, \"required\": [\"entity_identifier_code\", \"entity_type_qualifier\", \"name_last_or_organizationName\", \"nm1_segment\"]}\n",
      "Create a JSON object that contains the following properties: entity_identifier_code, entity_type_qualifier, name_last_or_organizationName, name_first, name_middle, name_suffix, identification_code_qualifier, identification_code, nm1_segment and values: 03, 2, Ferrell, Scott, Z, PhD, PI, BNvGzsdbeQmWbBoeARVkEqcKucNzvTaffJRtGKwxNvDHCUiEYIXwUlQfXKTUA, NM1*03*2*Ferrell*Scott*Z**PhD*PI*BNvGzsdbeQmWbBoeARVkEqcKucNzvTaffJRtGKwxNvDHCUiEYIXwUlQfXKTUA~ [/INST] {\"entity_identifier_code\": \"03\", \"entity_type_qualifier\": \"2\", \"name_last_or_organizationName\": \"Ferrell\", \"name_first\": \"Scott\", \"name_middle\": \"Z\", \"name_suffix\": \"PhD\", \"identification_code_qualifier\": \"PI\", \"identification_code\": \"BNvGzsdbeQmWbBoeARVkEqcKucNzvTaffJRtGKwxNvDHCUiEYIXwUlQfXKTUA\", \"nm1_segment\": \"NM1*03*2*Ferrell*Scott*Z**PhD*PI*BNvGzsdbeQmWbBoeARVkEqcKucNzvTaffJRtGKwxNvDHCUiEYIXwUlQfXKTUA~\"}</s>\n",
      "DEBUG - Starting score: 10\n",
      "DEBUG - NM1*03*2*Ferrell*Scott*Z**PhD*PI*BNvGzsdbeQmWbBoeARVkEqcKucNzvTaffJRtGKwxNvDHCUiEYIXwUlQfXKTUA~  NM1*03*2*Ferrell*Scott*Z**PhD*PI*BNvGzsdbeQmWbBoeARVkEqcKucNzvTaffJRtGKwxNvDHCUiEYIXwUlQfXKTUA~\n",
      "DEBUG - Final score: 10\n",
      "INFO - {\"valid_json\": 90.9090909090909, \"valid_json_schema\": 88.23529411764706, \"domain_field_match\": 86.85606060606061}\n",
      "INFO - Processing row 23/30\n",
      "Setting `pad_token_id` to `eos_token_id`:3 for open-end generation.\n"
     ]
    },
    {
     "name": "stdout",
     "output_type": "stream",
     "text": [
      "------------------------------------------------------------\n"
     ]
    },
    {
     "name": "stderr",
     "output_type": "stream",
     "text": [
      "INFO - Generated text: \n",
      " <s><s>[INST] You are a sample data generator that creates valid JSON data based on a schema.\n",
      "Give a sample for the X12 NM1 Segment schema [/INST] {\"entity_identifier_code\": \"ZZ\", \"entity_type_qualifier\": \"1\", \"name_last_or_organizationName\": \"Murphy\", \"name_first\": \"James\", \"name_middle\": \"B\", \"name_prefix\": \"Mr.\", \"name_suffix\": \"DDS\", \"identification_code_qualifier\": \"MI\", \"nm1_segment\": \"NM1*ZZ*1*Murphy*James*B*Mr.*DDS*MI*~\"}</s>\n",
      "DEBUG - Starting score: 10\n",
      "DEBUG - Keys in json_ref not present in json_gen, reducing score by -0.375\n",
      "DEBUG - NM1*PR*1*Ochoa*Ryan*S*Mr.*DDS**~  NM1*ZZ*1*Murphy*James*B*Mr.*DDS*MI*~\n",
      "DEBUG - Final score: 10.375\n",
      "INFO - {\"valid_json\": 91.30434782608695, \"valid_json_schema\": 88.23529411764706, \"domain_field_match\": 87.59057971014494}\n",
      "INFO - Processing row 24/30\n",
      "Setting `pad_token_id` to `eos_token_id`:3 for open-end generation.\n"
     ]
    },
    {
     "name": "stdout",
     "output_type": "stream",
     "text": [
      "------------------------------------------------------------\n"
     ]
    },
    {
     "name": "stderr",
     "output_type": "stream",
     "text": [
      "INFO - Generated text: \n",
      " <s><s>[INST] You are a sample data generator that creates valid JSON data based on a schema.\n",
      "Given the Schema: {\"$schema\": \"http://json-schema.org/draft-07/schema#\", \"title\": \"X12 NM1 Segment\", \"description\": \"Schema for X12 NM1 segment, which contains subscriber's or organization name information.\", \"type\": \"object\", \"properties\": {\"entity_identifier_code\": {\"type\": \"string\", \"description\": \"Entity Identifier Code (e.g., IL for Insured or 03 for dependent or PR for Payer or 1P for Provider)\", \"enum\": [\"IL\", \"03\", \"PR\", \"1P\"]}, \"entity_type_qualifier\": {\"type\": \"string\", \"description\": \"Entity Type Qualifier (1 = Person, 2 = Non-Person Entity)\", \"enum\": [\"1\", \"2\"]}, \"name_last_or_organizationName\": {\"type\": \"string\", \"description\": \"Name Last or Organization Name\", \"minLength\": 1, \"maxLength\": 60}, \"name_first\": {\"type\": \"string\", \"description\": \"Name First\", \"nullable\": true, \"minLength\": 1, \"maxLength\": 35}, \"name_middle\": {\"type\": \"string\", \"description\": \"Name Middle\", \"nullable\": true, \"minLength\": 1, \"maxLength\": 25}, \"name_prefix\": {\"type\": \"string\", \"description\": \"Name Prefix\", \"nullable\": true, \"minLength\": 1, \"maxLength\": 10}, \"name_suffix\": {\"type\": \"string\", \"description\": \"Name Suffix\", \"nullable\": true, \"minLength\": 1, \"maxLength\": 10}, \"identification_code_qualifier\": {\"type\": \"string\", \"description\": \"Identification Code Qualifier (e.g., MI = Member ID, XX = National Provider Identifier, SV = Service Provider Number, FI = Federal Tax ID, PI = Payer Identifier, ZZ = Mutually Defined)\", \"enum\": [\"MI\", \"XX\", \"SV\", \"FI\", \"PI\", \"ZZ\"], \"nullable\": true}, \"identification_code\": {\"type\": \"string\", \"description\": \"Identification Code\", \"nullable\": true, \"minLength\": 2, \"maxLength\": 80}, \"nm1_segment\": {\"type\": \"string\", \"description\": \"NM1 Segment format of the data (e.g., NM1*IL*1*DOE*JOHN****MI*123456789~)\", \"nullable\": true, \"maxLength\": 255}}, \"required\": [\"entity_identifier_code\", \"entity_type_qualifier\", \"name_last_or_organizationName\", \"nm1_segment\"]}\n",
      "Create a JSON object with the required properties: entity_identifier_code, entity_type_qualifier, name_last_or_organizationName, nm1_segment [/INST] {\"entity_identifier_code\": \"IL\", \"entity_type_qualifier\": \"1\", \"name_last_or_organizationName\": \"Nguyen\", \"name_first\": \"Huy\", \"name_prefix\": \"Mr.\", \"name_suffix\": \"DDS\", \"identification_code_qualifier\": \"ZZ\", \"identification_code\": \"AwUgNiYsNqTBfWJtNqKVtqCmLkTNqYCmZ\", \"nm1_segment\": \"NM1*IL*1*Nguyen*Huy**Mr.*DDS*ZZ*AwUgNiYsNqTBfWJtNqKVtqCmLkTNqYCmZ~\"}</s>\n",
      "DEBUG - Starting score: 10\n",
      "DEBUG - Keys in json_ref not present in json_gen, reducing score by -0.375\n",
      "DEBUG - NM1*PR*2*King*Michelle**Mx.*IV*FI*~  NM1*IL*1*Nguyen*Huy**Mr.*DDS*ZZ*AwUgNiYsNqTBfWJtNqKVtqCmLkTNqYCmZ~\n",
      "DEBUG - Final score: 10.375\n",
      "INFO - {\"valid_json\": 91.66666666666666, \"valid_json_schema\": 88.88888888888889, \"domain_field_match\": 88.26388888888889}\n",
      "INFO - Processing row 25/30\n",
      "Setting `pad_token_id` to `eos_token_id`:3 for open-end generation.\n"
     ]
    },
    {
     "name": "stdout",
     "output_type": "stream",
     "text": [
      "------------------------------------------------------------\n"
     ]
    },
    {
     "name": "stderr",
     "output_type": "stream",
     "text": [
      "INFO - Generated text: \n",
      " <s><s>[INST] You are a structured data generator that creates valid JSON data based on a schema.\n",
      "Given the Schema: {\"$schema\": \"http://json-schema.org/draft-07/schema#\", \"title\": \"X12 REF Segment\", \"description\": \"Schema for X12 REF segment, which contains reference identification information.\", \"type\": \"object\", \"properties\": {\"reference_identification_qualifier\": {\"type\": \"string\", \"description\": \"Reference Identification Qualifier (e.g., ZZ = Mutually Defined, MI = Member ID, XX = National Provider Identifier, SV = Service Provider Number, FI = Federal Tax ID, PI = Payer Identifier, PR = Payer Name, 1P = Provider Name)\", \"enum\": [\"ZZ\", \"MI\", \"XX\", \"SV\", \"FI\", \"PI\", \"PR\", \"1P\"]}, \"reference_identification\": {\"type\": \"string\", \"description\": \"Reference Identification (e.g., Member ID, National Provider Identifier)\", \"minLength\": 1, \"maxLength\": 20}, \"ref_segment\": {\"type\": \"string\", \"description\": \"Ref segment in the format REF*XX*123456789~\", \"minLength\": 1, \"maxLength\": 60}}, \"required\": [\"reference_identification_qualifier\", \"reference_identification\", \"ref_segment\"]}\n",
      "Generate a JSON object that includes all properties [/INST] {\"reference_identification_qualifier\": \"PI\", \"reference_identification\": \"nYkCfzLN\", \"ref_segment\": \"REF*PI*nYkCfzLN~\"}</s>\n",
      "DEBUG - Starting score: 10\n",
      "DEBUG - REF*MI*XLaeMgWDE~  REF*PI*nYkCfzLN~\n",
      "DEBUG - Final score: 10\n",
      "INFO - {\"valid_json\": 92.0, \"valid_json_schema\": 89.47368421052632, \"domain_field_match\": 88.73333333333333}\n",
      "INFO - Processing row 26/30\n",
      "Setting `pad_token_id` to `eos_token_id`:3 for open-end generation.\n"
     ]
    },
    {
     "name": "stdout",
     "output_type": "stream",
     "text": [
      "------------------------------------------------------------\n"
     ]
    },
    {
     "name": "stderr",
     "output_type": "stream",
     "text": [
      "INFO - Generated text: \n",
      " <s><s>[INST] You are a sample data generator that creates valid JSON data based on a schema.\n",
      "Given the Schema: {\"$schema\": \"http://json-schema.org/draft-07/schema#\", \"title\": \"X12 DTP Segment\", \"description\": \"Schema for X12 DTP segment, which contains date/time period information.\", \"type\": \"object\", \"properties\": {\"dtp_segment\": {\"type\": \"string\", \"description\": \"Date/Time Period (e.g., DTP*291*D8*20220101-20220131~)\", \"minLength\": 1, \"maxLength\": 30}}, \"required\": [\"dtp_segment\"]}\n",
      "Generate a JSON object that includes all properties [/INST] {\"dtp_segment\": \"DTP*348*D8*20130513-20130518\"}</s>\n",
      "DEBUG - Starting score: 10\n",
      "DEBUG - DTP*156*D8*19890717-19890722  DTP*348*D8*20130513-20130518\n",
      "DEBUG - dtp_segment DTP*348*D8*20130513-20130518 does not match the expected pattern, reducing score by 2.5\n",
      "DEBUG - Final score: 7.5\n",
      "INFO - {\"valid_json\": 92.3076923076923, \"valid_json_schema\": 90.0, \"domain_field_match\": 88.2051282051282}\n",
      "INFO - Processing row 27/30\n",
      "Setting `pad_token_id` to `eos_token_id`:3 for open-end generation.\n"
     ]
    },
    {
     "name": "stdout",
     "output_type": "stream",
     "text": [
      "------------------------------------------------------------\n"
     ]
    },
    {
     "name": "stderr",
     "output_type": "stream",
     "text": [
      "INFO - Generated text: \n",
      " <s><s>[INST] You are a Json test data generator generating valid json data based on a json schema. \n",
      "Given the Schema: {\"$schema\": \"http://json-schema.org/draft-07/schema#\", \"title\": \"X12 REF Segment\", \"description\": \"Schema for X12 REF segment, which contains reference identification information.\", \"type\": \"object\", \"properties\": {\"reference_identification_qualifier\": {\"type\": \"string\", \"description\": \"Reference Identification Qualifier (e.g., ZZ = Mutually Defined, MI = Member ID, XX = National Provider Identifier, SV = Service Provider Number, FI = Federal Tax ID, PI = Payer Identifier, PR = Payer Name, 1P = Provider Name)\", \"enum\": [\"ZZ\", \"MI\", \"XX\", \"SV\", \"FI\", \"PI\", \"PR\", \"1P\"]}, \"reference_identification\": {\"type\": \"string\", \"description\": \"Reference Identification (e.g., Member ID, National Provider Identifier)\", \"minLength\": 1, \"maxLength\": 20}, \"ref_segment\": {\"type\": \"string\", \"description\": \"Ref segment in the format REF*XX*123456789~\", \"minLength\": 1, \"maxLength\": 60}}, \"required\": [\"reference_identification_qualifier\", \"reference_identification\", \"ref_segment\"]}\n",
      "Create a JSON object that contains all properties [/INST] {\"reference_identification_qualifier\": \"PI\", \"reference_identification\": \"yiGHB\", \"ref_segment\": \"REF*PI*yiGHB~\"}</s>\n",
      "DEBUG - Starting score: 10\n",
      "DEBUG - REF*SV*oaftGhVrJtrSZ~  REF*PI*yiGHB~\n",
      "DEBUG - Final score: 10\n",
      "INFO - {\"valid_json\": 92.5925925925926, \"valid_json_schema\": 90.47619047619048, \"domain_field_match\": 88.64197530864197}\n",
      "INFO - Processing row 28/30\n",
      "Setting `pad_token_id` to `eos_token_id`:3 for open-end generation.\n"
     ]
    },
    {
     "name": "stdout",
     "output_type": "stream",
     "text": [
      "------------------------------------------------------------\n"
     ]
    },
    {
     "name": "stderr",
     "output_type": "stream",
     "text": [
      "INFO - Generated text: \n",
      " <s><s>[INST] You are a sample data generator that creates valid JSON data based on a schema.\n",
      "Given the Schema: {\"$schema\": \"http://json-schema.org/draft-07/schema#\", \"title\": \"X12 REF Segment\", \"description\": \"Schema for X12 REF segment, which contains reference identification information.\", \"type\": \"object\", \"properties\": {\"reference_identification_qualifier\": {\"type\": \"string\", \"description\": \"Reference Identification Qualifier (e.g., ZZ = Mutually Defined, MI = Member ID, XX = National Provider Identifier, SV = Service Provider Number, FI = Federal Tax ID, PI = Payer Identifier, PR = Payer Name, 1P = Provider Name)\", \"enum\": [\"ZZ\", \"MI\", \"XX\", \"SV\", \"FI\", \"PI\", \"PR\", \"1P\"]}, \"reference_identification\": {\"type\": \"string\", \"description\": \"Reference Identification (e.g., Member ID, National Provider Identifier)\", \"minLength\": 1, \"maxLength\": 20}, \"ref_segment\": {\"type\": \"string\", \"description\": \"Ref segment in the format REF*XX*123456789~\", \"minLength\": 1, \"maxLength\": 60}}, \"required\": [\"reference_identification_qualifier\", \"reference_identification\", \"ref_segment\"]}\n",
      "Create a JSON object that contains all properties [/INST] {\"reference_identification_qualifier\": \"PI\", \"reference_identification\": \"CbXf\", \"ref_segment\": \"REF*PI*CbXf~\"}</s>\n",
      "DEBUG - Starting score: 10\n",
      "DEBUG - REF*SV*HCivZdmtwvHqRpgYCY~  REF*PI*CbXf~\n",
      "DEBUG - Final score: 10\n",
      "INFO - {\"valid_json\": 92.85714285714286, \"valid_json_schema\": 90.9090909090909, \"domain_field_match\": 89.04761904761905}\n",
      "INFO - Processing row 29/30\n",
      "Setting `pad_token_id` to `eos_token_id`:3 for open-end generation.\n"
     ]
    },
    {
     "name": "stdout",
     "output_type": "stream",
     "text": [
      "------------------------------------------------------------\n"
     ]
    },
    {
     "name": "stderr",
     "output_type": "stream",
     "text": [
      "INFO - Generated text: \n",
      " <s><s>[INST] You are a sample data generator that creates valid JSON data based on a schema.\n",
      "Given the Schema: {\"$schema\": \"http://json-schema.org/draft-07/schema#\", \"title\": \"X12 DTP Segment\", \"description\": \"Schema for X12 DTP segment, which contains date/time period information.\", \"type\": \"object\", \"properties\": {\"dtp_segment\": {\"type\": \"string\", \"description\": \"Date/Time Period (e.g., DTP*291*D8*20220101-20220131~)\", \"minLength\": 1, \"maxLength\": 30}}, \"required\": [\"dtp_segment\"]}\n",
      "Generate a JSON object that includes all properties [/INST] {\"dtp_segment\": \"DTP*349*RD8*20021113-20021118\"}</s>\n",
      "DEBUG - Starting score: 10\n",
      "DEBUG - DTP*349*RD8*20050102-20050107  DTP*349*RD8*20021113-20021118\n",
      "DEBUG - dtp_segment DTP*349*RD8*20021113-20021118 does not match the expected pattern, reducing score by 2.5\n",
      "DEBUG - Final score: 7.5\n",
      "INFO - {\"valid_json\": 93.10344827586206, \"valid_json_schema\": 91.30434782608695, \"domain_field_match\": 88.56321839080462}\n",
      "INFO - Processing row 30/30\n",
      "Setting `pad_token_id` to `eos_token_id`:3 for open-end generation.\n"
     ]
    },
    {
     "name": "stdout",
     "output_type": "stream",
     "text": [
      "------------------------------------------------------------\n"
     ]
    },
    {
     "name": "stderr",
     "output_type": "stream",
     "text": [
      "INFO - Generated text: \n",
      " <s><s>[INST] You are a Json test data generator generating valid json data based on a json schema. \n",
      "Given the Schema: {\"$schema\": \"http://json-schema.org/draft-07/schema#\", \"title\": \"X12 REF Segment\", \"description\": \"Schema for X12 REF segment, which contains reference identification information.\", \"type\": \"object\", \"properties\": {\"reference_identification_qualifier\": {\"type\": \"string\", \"description\": \"Reference Identification Qualifier (e.g., ZZ = Mutually Defined, MI = Member ID, XX = National Provider Identifier, SV = Service Provider Number, FI = Federal Tax ID, PI = Payer Identifier, PR = Payer Name, 1P = Provider Name)\", \"enum\": [\"ZZ\", \"MI\", \"XX\", \"SV\", \"FI\", \"PI\", \"PR\", \"1P\"]}, \"reference_identification\": {\"type\": \"string\", \"description\": \"Reference Identification (e.g., Member ID, National Provider Identifier)\", \"minLength\": 1, \"maxLength\": 20}, \"ref_segment\": {\"type\": \"string\", \"description\": \"Ref segment in the format REF*XX*123456789~\", \"minLength\": 1, \"maxLength\": 60}}, \"required\": [\"reference_identification_qualifier\", \"reference_identification\", \"ref_segment\"]}\n",
      "Create a JSON object that contains all properties [/INST] {\"reference_identification_qualifier\": \"1P\", \"reference_identification\": \"nNtQw\", \"ref_segment\": \"REF*1P*nNtQw~\"}</s>\n",
      "DEBUG - Starting score: 10\n",
      "DEBUG - REF*MI*WCHUYUQngVvKuWmFjYMM~  REF*1P*nNtQw~\n",
      "DEBUG - Final score: 10\n",
      "INFO - {\"valid_json\": 93.33333333333333, \"valid_json_schema\": 91.66666666666666, \"domain_field_match\": 88.94444444444446}\n",
      "INFO - Final Result: {'valid_json': 93.33333333333333, 'valid_json_schema': 91.66666666666666, 'domain_field_match': 88.94444444444446}\n",
      "INFO - Evaluation completed and results logged to MLflow.\n"
     ]
    },
    {
     "name": "stdout",
     "output_type": "stream",
     "text": [
      "------------------------------------------------------------\n"
     ]
    }
   ],
   "source": [
    "logger.setLevel(logging.DEBUG) \n",
    "result = test_model(model, tokenizer, split_datasets[\"test\"])\n",
    "\n",
    "result = json.loads(result)\n",
    "\n",
    "epoch = re.search(r'(\\d+)$', adapter_dir).group(1)\n",
    "mlflow.log_metric(\"syntactic-accuracy\", result['valid_json'], step=int(epoch))\n",
    "mlflow.log_metric(\"schema-accuracy\", result['valid_json_schema'], step=int(epoch))\n",
    "mlflow.log_metric(\"domain-field-match\", result['domain_field_match'], step=int(epoch))\n",
    "\n",
    "mlflow.end_run()\n",
    "logger.info(f\"Final Result: {result}\")\n",
    "logger.info(\"Evaluation completed and results logged to MLflow.\")"
   ]
  }
 ],
 "metadata": {
  "kernelspec": {
   "display_name": "base",
   "language": "python",
   "name": "python3"
  },
  "language_info": {
   "codemirror_mode": {
    "name": "ipython",
    "version": 3
   },
   "file_extension": ".py",
   "mimetype": "text/x-python",
   "name": "python",
   "nbconvert_exporter": "python",
   "pygments_lexer": "ipython3",
   "version": "3.13.2"
  }
 },
 "nbformat": 4,
 "nbformat_minor": 5
}
