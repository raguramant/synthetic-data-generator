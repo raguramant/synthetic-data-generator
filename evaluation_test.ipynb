{
 "cells": [
  {
   "cell_type": "code",
   "execution_count": null,
   "id": "228faf52",
   "metadata": {},
   "outputs": [
    {
     "name": "stdout",
     "output_type": "stream",
     "text": [
      "{'matching_fields': ['a', 'c'], 'matching_values': 1, 'total_fields': 3, 'percentage': 0.3333333333333333}\n"
     ]
    }
   ],
   "source": [
    "import json\n",
    "\n",
    "# Compare two JSON strings at field level and match field values\n",
    "def compare_json_field_values(json_str1, json_str2):\n",
    "    try:\n",
    "        obj1 = json.loads(json_str1)\n",
    "        obj2 = json.loads(json_str2)\n",
    "    except json.JSONDecodeError:\n",
    "        return {\"error\": \"Invalid JSON input.\"}\n",
    "    matching_fields = []\n",
    "    matching_values = 0\n",
    "    total_fields = max(len(obj1), len(obj2))\n",
    "    for key in obj1:\n",
    "        if key in obj2:\n",
    "            matching_fields.append(key)\n",
    "            if obj1[key] == obj2[key]:\n",
    "                matching_values += 1\n",
    "    score = matching_values\n",
    "    percentage = score / total_fields if total_fields > 0 else 0\n",
    "    return {\n",
    "        \"matching_fields\": matching_fields,\n",
    "        \"matching_values\": score,\n",
    "        \"total_fields\": total_fields,\n",
    "        \"percentage\": percentage\n",
    "    }\n",
    "\n",
    "# Example usage:\n",
    "json1 = '{\"a\": 1, \"b\": 2, \"c\": 3}'\n",
    "json2 = '{\"a\": 1, \"c\": 30, \"d\": 2}'\n",
    "result = compare_json_field_values(json1, json2)\n",
    "print(result)"
   ]
  }
 ],
 "metadata": {
  "kernelspec": {
   "display_name": "base",
   "language": "python",
   "name": "python3"
  },
  "language_info": {
   "codemirror_mode": {
    "name": "ipython",
    "version": 3
   },
   "file_extension": ".py",
   "mimetype": "text/x-python",
   "name": "python",
   "nbconvert_exporter": "python",
   "pygments_lexer": "ipython3",
   "version": "3.13.2"
  }
 },
 "nbformat": 4,
 "nbformat_minor": 5
}
