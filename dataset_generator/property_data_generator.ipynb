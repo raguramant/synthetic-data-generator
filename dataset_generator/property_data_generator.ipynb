{
 "cells": [
  {
   "cell_type": "code",
   "execution_count": null,
   "id": "d9cb5ab4",
   "metadata": {},
   "outputs": [
    {
     "name": "stdout",
     "output_type": "stream",
     "text": [
      "Requirement already satisfied: faker in c:\\users\\admin\\miniconda3\\lib\\site-packages (37.4.0)\n",
      "Requirement already satisfied: tzdata in c:\\users\\admin\\miniconda3\\lib\\site-packages (from faker) (2025.2)\n",
      "Note: you may need to restart the kernel to use updated packages.\n",
      "Requirement already satisfied: jsonschema in c:\\users\\admin\\miniconda3\\lib\\site-packages (4.23.0)\n",
      "Requirement already satisfied: attrs>=22.2.0 in c:\\users\\admin\\miniconda3\\lib\\site-packages (from jsonschema) (25.3.0)\n",
      "Requirement already satisfied: jsonschema-specifications>=2023.03.6 in c:\\users\\admin\\miniconda3\\lib\\site-packages (from jsonschema) (2025.4.1)\n",
      "Requirement already satisfied: referencing>=0.28.4 in c:\\users\\admin\\miniconda3\\lib\\site-packages (from jsonschema) (0.36.2)\n",
      "Requirement already satisfied: rpds-py>=0.7.1 in c:\\users\\admin\\miniconda3\\lib\\site-packages (from jsonschema) (0.22.3)\n",
      "Note: you may need to restart the kernel to use updated packages.\n"
     ]
    }
   ],
   "source": [
    "%pip install -q faker\n",
    "%pip install -q jsonschema"
   ]
  },
  {
   "cell_type": "code",
   "execution_count": null,
   "id": "bc47fbc1",
   "metadata": {},
   "outputs": [],
   "source": [
    "properties_list = [\n",
    "    {\"name\": {\"type\": \"string\", \"minLength\": 1, \"maxLength\": 50}},\n",
    "    {\"organization\": {\"type\": \"string\", \"minLength\": 1, \"maxLength\": 50}},\n",
    "    {\"job_title\": {\"type\": \"string\", \"minLength\": 1, \"maxLength\": 50}},\n",
    "    {\"department\": {\"type\": \"string\", \"minLength\": 1, \"maxLength\": 50}},\n",
    "    {\"salary\": {\"type\": \"number\", \"minimum\": 0}},\n",
    "    {\"age\": {\"type\": \"integer\", \"minimum\": 0, \"maximum\": 120}},\n",
    "    {\"email\": {\"type\": \"string\", \"format\": \"email\"}},\n",
    "    # {\"address\": {\"type\": \"string\", \"minLength\": 1, \"maxLength\": 100}},\n",
    "    # {\"phone\": {\"type\": \"string\", \"pattern\": \"^\\\\+?[0-9\\\\- ]{7,15}$\"}},\n",
    "    # {\"gender\": {\"type\": \"string\", \"enum\": [\"male\", \"female\", \"other\"]}},\n",
    "    # {\"date_of_birth\": {\"type\": \"string\", \"format\": \"date\"}},\n",
    "    # {\"is_active\": {\"type\": \"boolean\", \"default\": \"True\"}},\n",
    "    # {\"created_at\": {\"type\": \"string\", \"format\": \"date-time\"}},\n",
    "    # {\"updated_at\": {\"type\": \"string\", \"format\": \"date-time\"}},\n",
    "    # {\"country\": {\"type\": \"string\", \"minLength\": 1, \"maxLength\": 50}},\n",
    "    # {\"city\": {\"type\": \"string\", \"minLength\": 1, \"maxLength\": 50}},\n",
    "    # {\"postal_code\": {\"type\": \"string\", \"minLength\": 1, \"maxLength\": 20}},\n",
    "    # {\"username\": {\"type\": \"string\", \"minLength\": 1, \"maxLength\": 50}},\n",
    "    # {\"password\": {\"type\": \"string\", \"minLength\": 8, \"maxLength\": 100}},\n",
    "    # {\"profile_picture\": {\"type\": \"string\", \"format\": \"uri\", \"minLength\": 1, \"maxLength\": 200}},\n",
    "    # {\"bio\": {\"type\": \"string\", \"minLength\": 1, \"maxLength\": 500}},\n",
    "    # {\"website\": {\"type\": \"string\", \"format\": \"uri\", \"minLength\": 1, \"maxLength\": 100}},\n",
    "    # {\"skills\": {\"type\": \"array\", \"items\": {\"type\": \"string\"}}},\n",
    "    # {\"preferences\": {\"type\": \"object\", \"additionalProperties\": {\"type\": \"string\"}}},\n",
    "    # # Medical and healthcare related properties\n",
    "    # {\"blood_type\": {\"type\": \"string\", \"enum\": [\"A+\", \"A-\", \"B+\", \"B-\", \"AB+\", \"AB-\", \"O+\", \"O-\"]}},\n",
    "    # {\"height_cm\": {\"type\": \"number\", \"minimum\": 0, \"maximum\": 180}},\n",
    "    # {\"weight_kg\": {\"type\": \"number\", \"minimum\": 0, \"maximum\": 200}},\n",
    "    # {\"allergies\": {\"type\": \"array\", \"items\": {\"type\": \"string\"}}},\n",
    "    # {\"medical_conditions\": {\"type\": \"array\", \"items\": {\"type\": \"string\"}}},\n",
    "    # {\"medications\": {\"type\": \"array\", \"items\": {\"type\": \"string\"}}},\n",
    "    # {\"emergency_contact\": {\"type\": \"object\"}},\n",
    "    # {\"insurance_provider\": {\"type\": \"string\"}},\n",
    "    # {\"policy_number\": {\"type\": \"string\"}},\n",
    "    # {\"last_checkup_date\": {\"type\": \"string\", \"format\": \"date\"}},\n",
    "    # {\"doctor_name\": {\"type\": \"string\"}},    \n",
    "    # {\"smoker\": {\"type\": \"boolean\"}},\n",
    "    # {\"alcohol_consumption\": {\"type\": \"string\", \"enum\": [\"none\", \"occasional\", \"regular\"]}},\n",
    "    # {\"heart_rate\": {\"type\": \"integer\", \"minimum\": 0}},\n",
    "    # {\"blood_pressure\": {\"type\": \"string\", \"pattern\": \"^(\\\\d{1,3})/(\\\\d{1,3})$\"}},  # Format: systolic/diastolic\n",
    "    # # Health insurance related fields\n",
    "    # {\"insurance_plan_type\": {\"type\": \"string\", \"enum\": [\"HMO\", \"PPO\", \"EPO\", \"POS\", \"Other\"]}},\n",
    "    # {\"insurance_coverage_start\": {\"type\": \"string\", \"format\": \"date\"}},\n",
    "    # {\"insurance_coverage_end\": {\"type\": \"string\", \"format\": \"date\"}},\n",
    "    # {\"insurance_member_id\": {\"type\": \"string\", \"minLength\": 1, \"maxLength\": 50}},\n",
    "    # {\"insurance_group_number\": {\"type\": \"string\", \"minLength\": 1, \"maxLength\": 50}},\n",
    "    # {\"insurance_contact_number\": {\"type\": \"string\", \"pattern\": \"^\\\\+?[0-9\\\\- ]{7,15}$\"}},\n",
    "    # {\"insurance_status\": {\"type\": \"string\", \"enum\": [\"active\", \"inactive\", \"pending\"]}}\n",
    "]"
   ]
  },
  {
   "cell_type": "code",
   "execution_count": null,
   "id": "ddfd8ec9",
   "metadata": {},
   "outputs": [],
   "source": [
    "import random\n",
    "from faker import Faker\n",
    "\n",
    "faker = Faker()\n",
    "\n",
    "for prop in properties_list:\n",
    "    type = prop.get(\"type\", None)\n",
    "    if \"type\" == \"string\":\n",
    "        if \"enum\" in prop.keys():\n",
    "            value = faker.random_element(elements=prop[\"enum\"])            \n",
    "        elif prop_schema.get(\"format\") == \"email\":\n",
    "            lambda: None if include_nulls and random.random() < self.null_threshold else self._faker.email()\n",
    "\n",
    "        elif prop_schema.get(\"format\") == \"date\":\n",
    "            lambda: None if include_nulls and random.random() < self.null_threshold else self._faker.date(pattern=\"%y%m%d\")\n",
    "        \n",
    "        elif prop_schema.get(\"format\") == \"time\":\n",
    "            lambda: None if include_nulls and random.random() < self.null_threshold else self._faker.time(pattern=\"%H%M\")\n"
   ]
  }
 ],
 "metadata": {
  "kernelspec": {
   "display_name": "base",
   "language": "python",
   "name": "python3"
  },
  "language_info": {
   "codemirror_mode": {
    "name": "ipython",
    "version": 3
   },
   "file_extension": ".py",
   "mimetype": "text/x-python",
   "name": "python",
   "nbconvert_exporter": "python",
   "pygments_lexer": "ipython3",
   "version": "3.13.2"
  }
 },
 "nbformat": 4,
 "nbformat_minor": 5
}
