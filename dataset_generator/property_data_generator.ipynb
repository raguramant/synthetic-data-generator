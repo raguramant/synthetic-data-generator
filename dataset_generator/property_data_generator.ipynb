{
 "cells": [
  {
   "cell_type": "code",
   "execution_count": 21,
   "id": "d9cb5ab4",
   "metadata": {},
   "outputs": [
    {
     "name": "stdout",
     "output_type": "stream",
     "text": [
      "Note: you may need to restart the kernel to use updated packages.\n",
      "Note: you may need to restart the kernel to use updated packages.\n",
      "Requirement already satisfied: rstr in c:\\users\\admin\\miniconda3\\lib\\site-packages (3.2.2)\n",
      "Note: you may need to restart the kernel to use updated packages.\n"
     ]
    }
   ],
   "source": [
    "%pip install -q faker\n",
    "%pip install -q jsonschema\n",
    "%pip install rstr"
   ]
  },
  {
   "cell_type": "markdown",
   "id": "2b9594d5",
   "metadata": {},
   "source": [
    "### Setup"
   ]
  },
  {
   "cell_type": "code",
   "execution_count": null,
   "id": "bc47fbc1",
   "metadata": {},
   "outputs": [
    {
     "name": "stdout",
     "output_type": "stream",
     "text": [
      "Properties List:  [{'name': {'type': 'string', 'minLength': 1, 'maxLength': 50, 'description': 'Full name of the individual'}}, {'subscriber_name': {'type': 'string', 'minLength': 1, 'maxLength': 50, 'description': 'Name of the subscriber'}}, {'patient_name': {'type': 'string', 'minLength': 1, 'maxLength': 50, 'description': 'Name of the patient'}}, {'first_name': {'type': 'string', 'minLength': 1, 'maxLength': 50, 'description': 'First name of the individual'}}, {'last_name': {'type': 'string', 'minLength': 1, 'maxLength': 50, 'description': 'Last name of the individual'}}, {'full_name': {'type': 'string', 'minLength': 1, 'maxLength': 100, 'description': 'Full name of the individual'}}, {'organization_name': {'type': 'string', 'minLength': 1, 'maxLength': 50, 'description': 'Name of the organization'}}, {'company_name': {'type': 'string', 'minLength': 1, 'maxLength': 50, 'description': 'Name of the company'}}, {'organization': {'type': 'string', 'minLength': 1, 'maxLength': 50, 'description': 'Name of the organization'}}, {'company': {'type': 'string', 'minLength': 1, 'maxLength': 50, 'description': 'Name of the company'}}, {'department': {'type': 'string', 'minLength': 1, 'maxLength': 50, 'description': 'Department of the individual'}}, {'age': {'type': 'integer', 'minimum': 0, 'maximum': 120, 'description': 'Age of the individual'}}, {'email': {'type': 'string', 'format': 'email', 'description': 'Email address of the individual'}}, {'address': {'type': 'string', 'minLength': 1, 'maxLength': 100, 'description': 'Home address of the individual'}}, {'phone': {'type': 'string', 'pattern': '^\\\\+?[0-9\\\\- ]{7,15}$', 'description': 'Phone number of the individual'}}, {'gender': {'type': 'string', 'enum': ['male', 'female', 'other'], 'description': 'Gender of the individual'}}, {'date_of_birth': {'type': 'string', 'format': 'date', 'description': 'Date of birth of the individual'}}, {'date_of_admission': {'type': 'string', 'format': 'date', 'description': 'Date of admission to the hospital'}}, {'date_of_discharge': {'type': 'string', 'format': 'date', 'description': 'Date of discharge from the hospital'}}, {'surgery_date': {'type': 'string', 'format': 'date', 'description': 'Date of surgery'}}, {'is_covered': {'type': 'boolean', 'description': 'Indicates if the individual is covered by insurance'}}, {'insurance_id': {'type': 'string', 'minLength': 1, 'maxLength': 50, 'description': 'Insurance ID of the individual'}}, {'policy_number': {'type': 'string', 'minLength': 1, 'maxLength': 50, 'description': 'Policy number of the insurance'}}, {'policy_start_date': {'type': 'string', 'format': 'date', 'description': 'Start date of the insurance policy'}}, {'policy_end_date': {'type': 'string', 'format': 'date', '  description': 'End date of the insurance policy'}}, {'insurance_provider': {'type': 'string', 'minLength': 1, 'maxLength': 50, 'description': 'Name of the insurance provider'}}, {'insurance_plan': {'type': 'string', 'minLength': 1, 'maxLength': 50, 'description': 'Type of insurance plan'}}, {'medical_record_number': {'type': 'string', 'minLength': 1, 'maxLength': 50, 'description': 'Medical record number of the individual'}}, {'social_security_number': {'type': 'string', 'pattern': '^\\\\d{3}-\\\\d{2}-\\\\d{4}$', 'description': 'Social Security Number of the individual'}}, {'npi_number': {'type': 'string', 'pattern': '^\\\\d{10}$', 'description': 'National Provider Identifier number'}}, {'created_at': {'type': 'string', 'format': 'date-time', 'description': 'Timestamp when the record was created'}}, {'updated_at': {'type': 'string', 'format': 'date-time', 'description': 'Timestamp when the record was last updated'}}, {'country': {'type': 'string', 'minLength': 1, 'maxLength': 50, 'description': 'Country of the individual'}}, {'city': {'type': 'string', 'minLength': 1, 'maxLength': 50, 'description': 'City of the individual'}}, {'postal_code': {'type': 'string', 'minLength': 1, 'maxLength': 20, 'description': 'Postal code of the individual'}}, {'website': {'type': 'string', 'format': 'uri', 'minLength': 1, 'maxLength': 100, 'description': 'Website of the individual'}}, {'specialization': {'type': 'string', 'minLength': 1, 'maxLength': 50, 'description': 'Specialization of the healthcare provider'}}, {'blood_type': {'type': 'string', 'enum': ['A+', 'A-', 'B+', 'B-', 'AB+', 'AB-', 'O+', 'O-'], 'description': 'Blood type of the individual'}}, {'height_cm': {'type': 'number', 'minimum': 0, 'maximum': 180, 'description': 'Height of the individual in centimeters'}}, {'weight_kg': {'type': 'number', 'minimum': 0, 'maximum': 200, 'description': 'Weight of the individual in kilograms'}}, {'allergies': {'type': 'array', 'items': {'type': 'string'}, 'maxItems': 10, 'description': 'Allergies of the individual'}}, {'medical_conditions': {'type': 'array', 'items': {'type': 'string'}, 'description': 'Medical conditions of the individual'}}, {'medications': {'type': 'array', 'items': {'type': 'string'}, 'description': 'Medications of the individual'}}, {'emergency_contact': {'type': 'object', 'description': 'Emergency contact information', 'properties': {'name': {'type': 'string', 'minLength': 1, 'maxLength': 50, 'description': 'Name of the emergency contact'}, 'relationship': {'type': 'string', 'minLength': 1, 'maxLength': 50, 'description': 'Relationship to the individual'}, 'phone': {'type': 'string', 'pattern': '^\\\\+?[0-9\\\\- ]{7,15}$', 'description': 'Phone number of the emergency contact'}}}}, {'last_checkup_date': {'type': 'string', 'format': 'date', 'description': 'Date of last checkup'}}, {'doctor_name': {'type': 'string', 'description': \"Name of the individual's doctor\"}}, {'smoker': {'type': 'boolean', 'description': 'Indicates if the individual is a smoker'}}, {'alcohol_consumption': {'type': 'string', 'enum': ['none', 'occasional', 'regular'], 'description': 'Alcohol consumption habits of the individual'}}, {'heart_rate': {'type': 'integer', 'minimum': 0, 'maximum': 300, 'description': 'Heart rate of the individual'}}, {'blood_pressure': {'type': 'string', 'pattern': '^(\\\\d{1,3})/(\\\\d{1,3})$', 'description': 'Blood pressure of the individual (systolic/diastolic)'}}, {'service_type': {'type': 'string', 'minLength': 1, 'maxLength': 50, 'description': 'Type of service provided (e.g., consultation, surgery)'}}, {'service_type_code': {'type': 'string', 'minLength': 1, 'maxLength': 50, 'description': 'Code representing the type of service'}}, {'benefits': {'type': 'array', 'items': {'type': 'string'}, 'description': 'List of benefits covered by the insurance'}}, {'claim_number': {'type': 'string', 'minLength': 1, 'maxLength': 50, 'description': 'Claim number for insurance purposes'}}, {'claim_charge_amount': {'type': 'number', 'minimum': 0, 'description': 'Charge amount for the claim'}}, {'claim_status': {'type': 'object', 'properties': {'status': {'type': 'string', 'enum': ['approved', 'denied', 'pending'], 'description': 'Status of the claim'}, 'claimstatus_code': {'type': 'string', 'minLength': 1, 'maxLength': 50, 'description': 'Code representing the claim status'}}}}]\n"
     ]
    }
   ],
   "source": [
    "from property_gen_utils import properties_list\n",
    "import property_gen_utils as utils\n",
    "from faker import Faker\n",
    "import rstr\n",
    "import os\n",
    "\n",
    "faker = Faker()\n",
    "\n",
    "print(\"Properties List: \", properties_list)\n",
    "\n",
    "n=20 # Number of records to generate for each property\n",
    "file_path = \"../data/\"\n",
    "file_name_prefix = \"property_style_training_data_\""
   ]
  },
  {
   "cell_type": "markdown",
   "id": "767c083f",
   "metadata": {},
   "source": [
    "### Generator functions"
   ]
  },
  {
   "cell_type": "code",
   "execution_count": 23,
   "id": "2177f0ab",
   "metadata": {},
   "outputs": [],
   "source": [
    "import random\n",
    "\n",
    "def get_property_generator(properties):\n",
    "    \n",
    "    prop_generator = {}\n",
    "    for name, prop_schema in properties.items():\n",
    "        type = prop_schema.get(\"type\", None)\n",
    "        if type == \"string\":\n",
    "            prop_generator[name] = {\"generator\":get_string_generator(name,prop_schema), \"property_schema\": properties}\n",
    "        elif type in [\"integer\",\"int\",\"number\"]:\n",
    "            prop_generator[name] = {\"generator\":get_numeric_generator(name,prop_schema), \"property_schema\": properties}\n",
    "        elif type == \"boolean\":\n",
    "            prop_generator[name] = {\"generator\": lambda: random.choice([True, False]), \"property_schema\": properties}\n",
    "        elif type == \"object\":\n",
    "            prop_generator[name] = {\"generator\": get_object_generator(name,prop_schema), \"property_schema\": properties}\n",
    "        elif type == \"array\":\n",
    "            prop_generator[name] = {\"generator\":get_array_generator(name,prop_schema), \"property_schema\": properties}\n",
    "\n",
    "    return prop_generator\n",
    "\n",
    "\n",
    "def get_string_generator(name,prop_schema):\n",
    "    type = prop_schema[\"type\"]\n",
    "    if type == \"string\":\n",
    "        if \"enum\" in prop_schema:\n",
    "            return lambda: faker.random_element(prop_schema[\"enum\"])\n",
    "        elif \"format\" in prop_schema:\n",
    "            if prop_schema[\"format\"] == \"date-time\":\n",
    "                return lambda: faker.date_time().isoformat()\n",
    "            elif prop_schema[\"format\"] == \"email\":\n",
    "                return lambda: faker.email()\n",
    "            elif prop_schema[\"format\"] == \"date\":\n",
    "                return lambda: faker.date()\n",
    "            elif prop_schema[\"format\"] == \"uri\":\n",
    "                return lambda: faker.uri()\n",
    "            else:\n",
    "                raise ValueError(f\"Unsupported format: {prop_schema['format']}\")\n",
    "        elif \"pattern\" in prop_schema:\n",
    "            pattern = prop_schema[\"pattern\"]\n",
    "            return lambda: rstr.xeger(pattern)\n",
    "        else:\n",
    "            if \"name\" in name:\n",
    "                if any(word in name for word in [\"subscriber\", \"customer\", \"patient\", \"full\", \"student\", \"doctor\", \"employee\", \"player\"]):\n",
    "                    return lambda: faker.name()\n",
    "                elif \"first\" in name: \n",
    "                    return lambda: faker.first_name()\n",
    "                elif \"last\" in name:\n",
    "                    return lambda: faker.last_name()\n",
    "                elif \"middle\" in name:\n",
    "                    return lambda: faker.middle_name()\n",
    "                elif any(word in name for word in [\"organization\", \"company\", \"business\", \"firm\", \"org\", \"corp\", \"inc\", \"ltd\", \"enterprise\", \"association\", \"institution\"]):\n",
    "                    return lambda: faker.company()\n",
    "                else:\n",
    "                    return lambda: faker.name()\n",
    "            elif \"diagnosis\" in name:\n",
    "                return lambda: faker.random_choices([\"Diabetes\", \"Hypertension\", \"High Cholesterol\", \"Asthma\", \"Seasonal Allergies\", \"Arthritis\", \"Obesity\", \"Anemia\", \"Depression\", \"Back Pain\", \"Migraines\", \"Sinusitis\"])\n",
    "            elif \"address\" in name:\n",
    "                return lambda: faker.address().replace(\"\\n\", \", \")\n",
    "            elif \"department\" in name:\n",
    "                return lambda: faker.random_choices([\"Surgical\", \"Diagnostics\", \"Pediatrics\", \"Cardiology\", \"Neurology\", \"Oncology\", \"Orthopedics\", \"Psychiatry\", \"Radiology\", \"Emergency\"])\n",
    "            else:\n",
    "                return lambda: faker.word()\n",
    "   \n",
    "\n",
    "def get_numeric_generator(name,prop_schema):\n",
    "    \n",
    "    type = prop_schema[\"type\"]\n",
    "\n",
    "    if type in [\"integer\", \"int\"]:\n",
    "        if \"minimum\" in prop_schema and \"maximum\" in prop_schema:\n",
    "            return lambda: faker.random_int(min=prop_schema[\"minimum\"], max=prop_schema[\"maximum\"])\n",
    "        else:\n",
    "            return lambda: faker.random_int()\n",
    "        \n",
    "    elif type == \"number\":\n",
    "        if \"minimum\" in prop_schema and \"maximum\" in prop_schema:\n",
    "            return lambda: round(faker.random.uniform(prop_schema[\"minimum\"], prop_schema[\"maximum\"]), 2)\n",
    "        else:\n",
    "            return lambda: round(faker.random.uniform(0, 1), 2)\n",
    "        \n",
    "def get_array_generator(name,prop_schema):\n",
    "    \n",
    "    type = prop_schema[\"type\"]\n",
    "\n",
    "    if type == \"array\":\n",
    "        if \"items\" in prop_schema:\n",
    "            item_type = prop_schema[\"items\"][\"type\"]\n",
    "            if item_type == \"string\":\n",
    "                return lambda: [get_string_generator(name, prop_schema[\"items\"])() for _ in range(faker.random_int(min=1, max=5))]\n",
    "            elif item_type in [\"integer\", \"int\"]:\n",
    "                return lambda: [get_numeric_generator(name, prop_schema[\"items\"])() for _ in range(faker.random_int(min=1, max=5))]\n",
    "            else:\n",
    "                raise ValueError(f\"Unsupported item type: {item_type}\")\n",
    "        else:\n",
    "            raise ValueError(\"Array schema must have 'items' defined\")\n",
    "        \n",
    "def get_object_generator(name,prop_schema):\n",
    "    \n",
    "    type = prop_schema[\"type\"]\n",
    "\n",
    "    if type == \"object\":\n",
    "        if \"properties\" in prop_schema:\n",
    "            # return lambda: {prop_name: get_property_generator({prop_name:prop_details}) for prop_name, prop_details in prop_schema[\"properties\"].items()}\n",
    "            return lambda: get_property_generator(prop_schema[\"properties\"])\n",
    "        else:\n",
    "            raise ValueError(\"Object schema must have 'properties' defined\")"
   ]
  },
  {
   "cell_type": "markdown",
   "id": "887406ee",
   "metadata": {},
   "source": [
    "### Prompt functions"
   ]
  },
  {
   "cell_type": "code",
   "execution_count": 24,
   "id": "793dab89",
   "metadata": {},
   "outputs": [],
   "source": [
    "import json\n",
    "\n",
    "def get_prompt(prop_name, prop_value, prop_schema):\n",
    "    \n",
    "    prompt_templates = [\n",
    "        \"Generate a {name} property with the value: {value} for the given schema. \\n {schema}\",\n",
    "        \"Generate a sample data for the given property schema.  \\n {schema}\",\n",
    "        \"Create a {name} property with the value: {value} based on the schema provided.  \\n {schema}\",\n",
    "        \"Produce a {name} property with the value: {value} according to the schema provided.  \\n {schema}\",\n",
    "        \"Create a sample data for the property schema with the value: {value}.  \\n {schema}\",\n",
    "        \"Generate a {name} property based on the schema.  \\n {schema}\",\n",
    "        \"Give a sample data for the property schema with the value: {value}.  \\n {schema}\",\n",
    "        ]\n",
    "    \n",
    "    prompt = faker.random_element(prompt_templates)\n",
    "    schema = json.dumps(prop_schema, indent=2)\n",
    "    value = prop_value[prop_name]\n",
    "    if isinstance(value, dict):\n",
    "        value = ', '.join(f\"{k}={v}\" for k, v in value.items())\n",
    "\n",
    "    return prompt.format(name=prop_name, value=value, schema=schema)"
   ]
  },
  {
   "cell_type": "markdown",
   "id": "54701009",
   "metadata": {},
   "source": [
    "### Data Generation"
   ]
  },
  {
   "cell_type": "code",
   "execution_count": 25,
   "id": "ddfd8ec9",
   "metadata": {},
   "outputs": [
    {
     "name": "stdout",
     "output_type": "stream",
     "text": [
      "No valid dataset versions found. Starting with version 1.\n",
      "Data generation complete. 560 records written to ../data/property_style_training_data_v1.jsonl\n"
     ]
    }
   ],
   "source": [
    "def execute_lambdas(d):\n",
    "    result = {}\n",
    "    for k, v in d.items():\n",
    "        if isinstance(v, dict):\n",
    "            if \"generator\" in v:\n",
    "                generated = v[\"generator\"]()\n",
    "                if isinstance(generated, dict):\n",
    "                    result[k] = execute_lambdas(generated)\n",
    "                else:\n",
    "                    result[k] = generated\n",
    "\n",
    "    return result\n",
    "\n",
    "prop_generators = []\n",
    "for properties in properties_list:\n",
    "    prop_generators.append(get_property_generator(properties))\n",
    "\n",
    "\n",
    "data_samples = []\n",
    "for _ in range(n):  # Generate 10 records\n",
    "    \n",
    "    for prop_generator in prop_generators:\n",
    "\n",
    "        name = list(prop_generator.keys())[0]  # Get details from the first property\n",
    "        value = execute_lambdas(prop_generator)\n",
    "        schema = prop_generator[name][\"property_schema\"]\n",
    "        record = {\n",
    "            \"messages\": [\n",
    "                {\n",
    "                    \"role\": \"user\",\n",
    "                    \"content\": get_prompt(name, value, schema)\n",
    "                },\n",
    "                {\n",
    "                    \"role\": \"assistant\",\n",
    "                    \"content\": json.dumps(value, ensure_ascii=False)\n",
    "                }\n",
    "            ],\n",
    "        }\n",
    "\n",
    "        data_samples.append(record)\n",
    "\n",
    "\n",
    "random.shuffle(data_samples)\n",
    "\n",
    "file_name = f\"{file_path}{file_name_prefix}v{utils.get_dataset_version(file_name_prefix, file_path)}.jsonl\"\n",
    "\n",
    "with open(file_name, \"w\") as outfile:\n",
    "    for record in data_samples:\n",
    "        json.dump(record, outfile)\n",
    "        outfile.write('\\n')\n",
    "\n",
    "print(f\"Data generation complete. {len(data_samples)} records written to {file_name}\")\n",
    "        \n",
    "\n",
    "\n",
    "        "
   ]
  }
 ],
 "metadata": {
  "kernelspec": {
   "display_name": "base",
   "language": "python",
   "name": "python3"
  },
  "language_info": {
   "codemirror_mode": {
    "name": "ipython",
    "version": 3
   },
   "file_extension": ".py",
   "mimetype": "text/x-python",
   "name": "python",
   "nbconvert_exporter": "python",
   "pygments_lexer": "ipython3",
   "version": "3.13.2"
  }
 },
 "nbformat": 4,
 "nbformat_minor": 5
}
