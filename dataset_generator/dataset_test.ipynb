{
 "cells": [
  {
   "cell_type": "code",
   "execution_count": 1,
   "id": "4b5a6dbf",
   "metadata": {},
   "outputs": [
    {
     "name": "stdout",
     "output_type": "stream",
     "text": [
      "Requirement already satisfied: datasets in c:\\users\\admin\\miniconda3\\lib\\site-packages (3.6.0)\n",
      "Requirement already satisfied: filelock in c:\\users\\admin\\miniconda3\\lib\\site-packages (from datasets) (3.18.0)\n",
      "Requirement already satisfied: numpy>=1.17 in c:\\users\\admin\\miniconda3\\lib\\site-packages (from datasets) (2.2.6)\n",
      "Requirement already satisfied: pyarrow>=15.0.0 in c:\\users\\admin\\miniconda3\\lib\\site-packages (from datasets) (20.0.0)\n",
      "Requirement already satisfied: dill<0.3.9,>=0.3.0 in c:\\users\\admin\\miniconda3\\lib\\site-packages (from datasets) (0.3.8)\n",
      "Requirement already satisfied: pandas in c:\\users\\admin\\miniconda3\\lib\\site-packages (from datasets) (2.3.0)\n",
      "Requirement already satisfied: requests>=2.32.2 in c:\\users\\admin\\miniconda3\\lib\\site-packages (from datasets) (2.32.3)\n",
      "Requirement already satisfied: tqdm>=4.66.3 in c:\\users\\admin\\miniconda3\\lib\\site-packages (from datasets) (4.67.1)\n",
      "Requirement already satisfied: xxhash in c:\\users\\admin\\miniconda3\\lib\\site-packages (from datasets) (3.5.0)\n",
      "Requirement already satisfied: multiprocess<0.70.17 in c:\\users\\admin\\miniconda3\\lib\\site-packages (from datasets) (0.70.16)\n",
      "Requirement already satisfied: fsspec<=2025.3.0,>=2023.1.0 in c:\\users\\admin\\miniconda3\\lib\\site-packages (from fsspec[http]<=2025.3.0,>=2023.1.0->datasets) (2025.3.0)\n",
      "Requirement already satisfied: huggingface-hub>=0.24.0 in c:\\users\\admin\\miniconda3\\lib\\site-packages (from datasets) (0.33.0)\n",
      "Requirement already satisfied: packaging in c:\\users\\admin\\miniconda3\\lib\\site-packages (from datasets) (24.2)\n",
      "Requirement already satisfied: pyyaml>=5.1 in c:\\users\\admin\\miniconda3\\lib\\site-packages (from datasets) (6.0.2)\n",
      "Requirement already satisfied: aiohttp!=4.0.0a0,!=4.0.0a1 in c:\\users\\admin\\miniconda3\\lib\\site-packages (from fsspec[http]<=2025.3.0,>=2023.1.0->datasets) (3.12.13)\n",
      "Requirement already satisfied: typing-extensions>=3.7.4.3 in c:\\users\\admin\\miniconda3\\lib\\site-packages (from huggingface-hub>=0.24.0->datasets) (4.12.2)\n",
      "Requirement already satisfied: charset-normalizer<4,>=2 in c:\\users\\admin\\miniconda3\\lib\\site-packages (from requests>=2.32.2->datasets) (3.3.2)\n",
      "Requirement already satisfied: idna<4,>=2.5 in c:\\users\\admin\\miniconda3\\lib\\site-packages (from requests>=2.32.2->datasets) (3.7)\n",
      "Requirement already satisfied: urllib3<3,>=1.21.1 in c:\\users\\admin\\miniconda3\\lib\\site-packages (from requests>=2.32.2->datasets) (2.3.0)\n",
      "Requirement already satisfied: certifi>=2017.4.17 in c:\\users\\admin\\miniconda3\\lib\\site-packages (from requests>=2.32.2->datasets) (2025.4.26)\n",
      "Requirement already satisfied: colorama in c:\\users\\admin\\miniconda3\\lib\\site-packages (from tqdm>=4.66.3->datasets) (0.4.6)\n",
      "Requirement already satisfied: python-dateutil>=2.8.2 in c:\\users\\admin\\miniconda3\\lib\\site-packages (from pandas->datasets) (2.9.0.post0)\n",
      "Requirement already satisfied: pytz>=2020.1 in c:\\users\\admin\\miniconda3\\lib\\site-packages (from pandas->datasets) (2025.2)\n",
      "Requirement already satisfied: tzdata>=2022.7 in c:\\users\\admin\\miniconda3\\lib\\site-packages (from pandas->datasets) (2025.2)\n",
      "Requirement already satisfied: aiohappyeyeballs>=2.5.0 in c:\\users\\admin\\miniconda3\\lib\\site-packages (from aiohttp!=4.0.0a0,!=4.0.0a1->fsspec[http]<=2025.3.0,>=2023.1.0->datasets) (2.6.1)\n",
      "Requirement already satisfied: aiosignal>=1.1.2 in c:\\users\\admin\\miniconda3\\lib\\site-packages (from aiohttp!=4.0.0a0,!=4.0.0a1->fsspec[http]<=2025.3.0,>=2023.1.0->datasets) (1.3.2)\n",
      "Requirement already satisfied: attrs>=17.3.0 in c:\\users\\admin\\miniconda3\\lib\\site-packages (from aiohttp!=4.0.0a0,!=4.0.0a1->fsspec[http]<=2025.3.0,>=2023.1.0->datasets) (25.3.0)\n",
      "Requirement already satisfied: frozenlist>=1.1.1 in c:\\users\\admin\\miniconda3\\lib\\site-packages (from aiohttp!=4.0.0a0,!=4.0.0a1->fsspec[http]<=2025.3.0,>=2023.1.0->datasets) (1.7.0)\n",
      "Requirement already satisfied: multidict<7.0,>=4.5 in c:\\users\\admin\\miniconda3\\lib\\site-packages (from aiohttp!=4.0.0a0,!=4.0.0a1->fsspec[http]<=2025.3.0,>=2023.1.0->datasets) (6.4.4)\n",
      "Requirement already satisfied: propcache>=0.2.0 in c:\\users\\admin\\miniconda3\\lib\\site-packages (from aiohttp!=4.0.0a0,!=4.0.0a1->fsspec[http]<=2025.3.0,>=2023.1.0->datasets) (0.3.2)\n",
      "Requirement already satisfied: yarl<2.0,>=1.17.0 in c:\\users\\admin\\miniconda3\\lib\\site-packages (from aiohttp!=4.0.0a0,!=4.0.0a1->fsspec[http]<=2025.3.0,>=2023.1.0->datasets) (1.20.1)\n",
      "Requirement already satisfied: six>=1.5 in c:\\users\\admin\\miniconda3\\lib\\site-packages (from python-dateutil>=2.8.2->pandas->datasets) (1.17.0)\n"
     ]
    }
   ],
   "source": [
    "! pip install datasets"
   ]
  },
  {
   "cell_type": "code",
   "execution_count": 2,
   "id": "b87cd123",
   "metadata": {},
   "outputs": [],
   "source": [
    "from transformers import AutoTokenizer\n",
    "from datasets import load_dataset\n",
    "\n",
    "tokenizer = AutoTokenizer.from_pretrained(\"bert-base-uncased\")\n",
    "tokenizer2= AutoTokenizer.from_pretrained(\"mistralai/Mistral-7B-Instruct-v0.3\")\n",
    "dataset = load_dataset(\"cornell-movie-review-data/rotten_tomatoes\", split=\"train\")"
   ]
  },
  {
   "cell_type": "code",
   "execution_count": 3,
   "id": "22202b3a",
   "metadata": {},
   "outputs": [
    {
     "data": {
      "text/plain": [
       "{'text': 'the rock is destined to be the 21st century\\'s new \" conan \" and that he\\'s going to make a splash even greater than arnold schwarzenegger , jean-claud van damme or steven segal .',\n",
       " 'label': 1}"
      ]
     },
     "execution_count": 3,
     "metadata": {},
     "output_type": "execute_result"
    }
   ],
   "source": [
    "dataset[0]"
   ]
  },
  {
   "cell_type": "code",
   "execution_count": 4,
   "id": "1eecc364",
   "metadata": {},
   "outputs": [
    {
     "name": "stdout",
     "output_type": "stream",
     "text": [
      "Tokens: ['the', 'rock', 'is', 'destined', 'to', 'be', 'the', '21st', 'century', \"'\", 's', 'new', '\"', 'conan', '\"', 'and', 'that', 'he', \"'\", 's', 'going', 'to', 'make', 'a', 'splash', 'even', 'greater', 'than', 'arnold', 'schwarz', '##ene', '##gger', ',', 'jean', '-', 'cl', '##aud', 'van', 'dam', '##me', 'or', 'steven', 'sega', '##l', '.']\n",
      "Number of tokens: 45\n",
      "Token IDs: [101, 1996, 2600, 2003, 16036, 2000, 2022, 1996, 7398, 2301, 1005, 1055, 2047, 1000, 16608, 1000, 1998, 2008, 2002, 1005, 1055, 2183, 2000, 2191, 1037, 17624, 2130, 3618, 2084, 7779, 29058, 8625, 13327, 1010, 3744, 1011, 18856, 19513, 3158, 5477, 4168, 2030, 7112, 16562, 2140, 1012, 102]\n",
      "Number of token IDs: 47\n"
     ]
    }
   ],
   "source": [
    "# Tokenize\n",
    "tokens = tokenizer.tokenize(dataset[0][\"text\"])\n",
    "print(\"Tokens:\", tokens)\n",
    "print(\"Number of tokens:\", len(tokens))\n",
    "\n",
    "# Convert tokens to input IDs\n",
    "input_ids = tokenizer(dataset[0][\"text\"])[\"input_ids\"]\n",
    "print(\"Token IDs:\", input_ids)\n",
    "print(\"Number of token IDs:\", len(input_ids))"
   ]
  },
  {
   "cell_type": "code",
   "execution_count": 5,
   "id": "482c156b",
   "metadata": {},
   "outputs": [
    {
     "name": "stdout",
     "output_type": "stream",
     "text": [
      "Tokens: ['▁the', '▁rock', '▁is', '▁dest', 'ined', '▁to', '▁be', '▁the', '▁', '2', '1', 'st', '▁century', \"'\", 's', '▁new', '▁\"', '▁con', 'an', '▁\"', '▁and', '▁that', '▁he', \"'\", 's', '▁going', '▁to', '▁make', '▁a', '▁spl', 'ash', '▁even', '▁greater', '▁than', '▁ar', 'n', 'old', '▁sch', 'war', 'zen', 'eg', 'ger', '▁,', '▁je', 'an', '-', 'cl', 'aud', '▁van', '▁dam', 'me', '▁or', '▁st', 'even', '▁seg', 'al', '▁.']\n",
      "Number of tokens: 57\n",
      "Token IDs: [1, 1040, 5231, 1117, 3388, 2079, 1066, 1115, 1040, 29473, 29518, 29508, 1071, 6213, 29510, 29481, 1401, 1113, 1147, 1044, 1113, 1072, 1137, 1168, 29510, 29481, 2172, 1066, 1806, 1032, 8922, 1797, 1787, 7285, 1589, 1365, 29479, 1506, 2311, 7002, 3807, 1409, 1865, 1968, 2986, 1044, 29501, 1280, 6443, 2465, 3975, 1895, 1210, 1109, 9558, 4747, 1050, 1610]\n",
      "Number of token IDs: 58\n"
     ]
    }
   ],
   "source": [
    "# Tokenize\n",
    "tokens = tokenizer2.tokenize(dataset[0][\"text\"])\n",
    "print(\"Tokens:\", tokens)\n",
    "print(\"Number of tokens:\", len(tokens))\n",
    "\n",
    "# Convert tokens to input IDs\n",
    "input_ids = tokenizer2(dataset[0][\"text\"])[\"input_ids\"]\n",
    "print(\"Token IDs:\", input_ids)\n",
    "print(\"Number of token IDs:\", len(input_ids))"
   ]
  },
  {
   "cell_type": "code",
   "execution_count": 6,
   "id": "7ae8a18e",
   "metadata": {},
   "outputs": [],
   "source": [
    "def tokenization(example):\n",
    "    return tokenizer(example[\"text\"])\n",
    "\n",
    "dataset = dataset.map(tokenization, batched=True)"
   ]
  },
  {
   "cell_type": "code",
   "execution_count": 7,
   "id": "c5fafd32",
   "metadata": {},
   "outputs": [
    {
     "data": {
      "text/plain": [
       "'torch'"
      ]
     },
     "execution_count": 7,
     "metadata": {},
     "output_type": "execute_result"
    }
   ],
   "source": [
    "dataset.set_format(type=\"torch\", columns=[\"input_ids\", \"token_type_ids\", \"attention_mask\", \"label\"])\n",
    "dataset.format['type']"
   ]
  },
  {
   "cell_type": "code",
   "execution_count": 8,
   "id": "2b6abedd",
   "metadata": {},
   "outputs": [],
   "source": [
    "def format_mistral_prompt_with_context(example):\n",
    "    context = example.get(\"context\", \"\").strip()\n",
    "    messages = example[\"messages\"]\n",
    "    \n",
    "    prompt = \"\"\n",
    "    if context:\n",
    "        prompt += f\"<s>[INST] Context: {context}\\n\"\n",
    "\n",
    "    # Add user-assistant chat\n",
    "    for i, msg in enumerate(messages):\n",
    "        if msg[\"role\"] == \"user\":\n",
    "            if context and i == 0:\n",
    "                prompt += f\"User: {msg['content']} [/INST] \"\n",
    "            else:\n",
    "                prompt += f\"<s>[INST] {msg['content']} [/INST] \"\n",
    "        elif msg[\"role\"] == \"assistant\":\n",
    "            prompt += f\"{msg['content']} </s>\"\n",
    "\n",
    "    return {\"text\": prompt.strip()}\n"
   ]
  },
  {
   "cell_type": "code",
   "execution_count": 9,
   "id": "22085efb",
   "metadata": {},
   "outputs": [
    {
     "data": {
      "text/plain": [
       "{'text': \"<s>[INST] Context: This is the background for the conversation.\\nUser: Hello, who are you? [/INST] I'm an AI assistant. </s><s>[INST] What can you do? [/INST] I can help you with many tasks. </s>\"}"
      ]
     },
     "execution_count": 9,
     "metadata": {},
     "output_type": "execute_result"
    }
   ],
   "source": [
    "dataset = [\n",
    "  {\n",
    "    \"context\": \"This is the background for the conversation.\",\n",
    "    \"messages\": [\n",
    "      {\"role\": \"user\", \"content\": \"Hello, who are you?\"},\n",
    "      {\"role\": \"assistant\", \"content\": \"I'm an AI assistant.\"},\n",
    "      {\"role\": \"user\", \"content\": \"What can you do?\"},\n",
    "      {\"role\": \"assistant\", \"content\": \"I can help you with many tasks.\"}\n",
    "    ]\n",
    "  },\n",
    "  {\n",
    "    \"context\": \"\",\n",
    "    \"messages\": [\n",
    "      {\"role\": \"user\", \"content\": \"Tell me a joke.\"},\n",
    "      {\"role\": \"assistant\", \"content\": \"Why did the chicken cross the road? To get to the other side!\"}\n",
    "    ]\n",
    "  }\n",
    "]\n",
    "\n",
    "single_prompt = format_mistral_prompt_with_context(dataset[0])\n",
    "\n",
    "single_prompt"
   ]
  },
  {
   "cell_type": "code",
   "execution_count": 10,
   "id": "e3275a43",
   "metadata": {},
   "outputs": [
    {
     "data": {
      "text/plain": [
       "\"<s>[INST] Hello, who are you?[/INST] I'm an AI assistant.</s>[INST] What can you do?[/INST] I can help you with many tasks.</s>\""
      ]
     },
     "execution_count": 10,
     "metadata": {},
     "output_type": "execute_result"
    }
   ],
   "source": [
    "chat_data = tokenizer2.apply_chat_template(dataset[0]['messages'], tokenize=False)\n",
    "chat_data"
   ]
  }
 ],
 "metadata": {
  "kernelspec": {
   "display_name": "base",
   "language": "python",
   "name": "python3"
  },
  "language_info": {
   "codemirror_mode": {
    "name": "ipython",
    "version": 3
   },
   "file_extension": ".py",
   "mimetype": "text/x-python",
   "name": "python",
   "nbconvert_exporter": "python",
   "pygments_lexer": "ipython3",
   "version": "3.13.2"
  }
 },
 "nbformat": 4,
 "nbformat_minor": 5
}
