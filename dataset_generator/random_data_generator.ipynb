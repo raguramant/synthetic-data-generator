{
 "cells": [
  {
   "cell_type": "code",
   "execution_count": 1,
   "id": "be30ec57",
   "metadata": {},
   "outputs": [
    {
     "name": "stdout",
     "output_type": "stream",
     "text": [
      "Requirement already satisfied: faker in c:\\users\\admin\\miniconda3\\lib\\site-packages (37.4.0)\n",
      "Requirement already satisfied: tzdata in c:\\users\\admin\\miniconda3\\lib\\site-packages (from faker) (2025.2)\n",
      "Note: you may need to restart the kernel to use updated packages.\n",
      "Requirement already satisfied: jsonschema in c:\\users\\admin\\miniconda3\\lib\\site-packages (4.23.0)\n",
      "Requirement already satisfied: attrs>=22.2.0 in c:\\users\\admin\\miniconda3\\lib\\site-packages (from jsonschema) (25.3.0)\n",
      "Requirement already satisfied: jsonschema-specifications>=2023.03.6 in c:\\users\\admin\\miniconda3\\lib\\site-packages (from jsonschema) (2025.4.1)\n",
      "Requirement already satisfied: referencing>=0.28.4 in c:\\users\\admin\\miniconda3\\lib\\site-packages (from jsonschema) (0.36.2)\n",
      "Requirement already satisfied: rpds-py>=0.7.1 in c:\\users\\admin\\miniconda3\\lib\\site-packages (from jsonschema) (0.22.3)\n",
      "Note: you may need to restart the kernel to use updated packages.\n"
     ]
    }
   ],
   "source": [
    "%pip install faker\n",
    "%pip install jsonschema"
   ]
  },
  {
   "cell_type": "code",
   "execution_count": 2,
   "id": "3d64b5e9",
   "metadata": {},
   "outputs": [],
   "source": [
    "import json\n",
    "import jsonschema\n",
    "from faker import Faker\n",
    "import string\n",
    "import random"
   ]
  },
  {
   "cell_type": "code",
   "execution_count": null,
   "id": "dcea36ca",
   "metadata": {},
   "outputs": [
    {
     "ename": "FileNotFoundError",
     "evalue": "[Errno 2] No such file or directory: '../name_schema.json'",
     "output_type": "error",
     "traceback": [
      "\u001b[31m---------------------------------------------------------------------------\u001b[39m",
      "\u001b[31mFileNotFoundError\u001b[39m                         Traceback (most recent call last)",
      "\u001b[36mCell\u001b[39m\u001b[36m \u001b[39m\u001b[32mIn[3]\u001b[39m\u001b[32m, line 1\u001b[39m\n\u001b[32m----> \u001b[39m\u001b[32m1\u001b[39m \u001b[38;5;28;01mwith\u001b[39;00m \u001b[38;5;28;43mopen\u001b[39;49m\u001b[43m(\u001b[49m\u001b[33;43m\"\u001b[39;49m\u001b[33;43m../name_schema.json\u001b[39;49m\u001b[33;43m\"\u001b[39;49m\u001b[43m,\u001b[49m\u001b[43m \u001b[49m\u001b[33;43m\"\u001b[39;49m\u001b[33;43mr\u001b[39;49m\u001b[33;43m\"\u001b[39;49m\u001b[43m)\u001b[49m \u001b[38;5;28;01mas\u001b[39;00m f:\n\u001b[32m      2\u001b[39m     schema = json.load(f)\n",
      "\u001b[36mFile \u001b[39m\u001b[32mc:\\Users\\Admin\\miniconda3\\Lib\\site-packages\\IPython\\core\\interactiveshell.py:326\u001b[39m, in \u001b[36m_modified_open\u001b[39m\u001b[34m(file, *args, **kwargs)\u001b[39m\n\u001b[32m    319\u001b[39m \u001b[38;5;28;01mif\u001b[39;00m file \u001b[38;5;129;01min\u001b[39;00m {\u001b[32m0\u001b[39m, \u001b[32m1\u001b[39m, \u001b[32m2\u001b[39m}:\n\u001b[32m    320\u001b[39m     \u001b[38;5;28;01mraise\u001b[39;00m \u001b[38;5;167;01mValueError\u001b[39;00m(\n\u001b[32m    321\u001b[39m         \u001b[33mf\u001b[39m\u001b[33m\"\u001b[39m\u001b[33mIPython won\u001b[39m\u001b[33m'\u001b[39m\u001b[33mt let you open fd=\u001b[39m\u001b[38;5;132;01m{\u001b[39;00mfile\u001b[38;5;132;01m}\u001b[39;00m\u001b[33m by default \u001b[39m\u001b[33m\"\u001b[39m\n\u001b[32m    322\u001b[39m         \u001b[33m\"\u001b[39m\u001b[33mas it is likely to crash IPython. If you know what you are doing, \u001b[39m\u001b[33m\"\u001b[39m\n\u001b[32m    323\u001b[39m         \u001b[33m\"\u001b[39m\u001b[33myou can use builtins\u001b[39m\u001b[33m'\u001b[39m\u001b[33m open.\u001b[39m\u001b[33m\"\u001b[39m\n\u001b[32m    324\u001b[39m     )\n\u001b[32m--> \u001b[39m\u001b[32m326\u001b[39m \u001b[38;5;28;01mreturn\u001b[39;00m \u001b[43mio_open\u001b[49m\u001b[43m(\u001b[49m\u001b[43mfile\u001b[49m\u001b[43m,\u001b[49m\u001b[43m \u001b[49m\u001b[43m*\u001b[49m\u001b[43margs\u001b[49m\u001b[43m,\u001b[49m\u001b[43m \u001b[49m\u001b[43m*\u001b[49m\u001b[43m*\u001b[49m\u001b[43mkwargs\u001b[49m\u001b[43m)\u001b[49m\n",
      "\u001b[31mFileNotFoundError\u001b[39m: [Errno 2] No such file or directory: '../name_schema.json'"
     ]
    }
   ],
   "source": [
    "with open(\"name_schema.json\", \"r\") as f:\n",
    "    schema = json.load(f)"
   ]
  },
  {
   "cell_type": "code",
   "execution_count": null,
   "id": "fdb654e7",
   "metadata": {},
   "outputs": [],
   "source": [
    "class ValueGeneratorUtils:\n",
    "\n",
    "    def __init__(self, faker=None):\n",
    "        if faker:\n",
    "            self._faker = faker\n",
    "        else:\n",
    "            self._faker = Faker()\n",
    "        self.null_threshold = 0.2\n",
    "\n",
    "    def get_property_value_generators(self, schema: dict, include_nulls=True) -> dict:\n",
    "\n",
    "        properties = schema.get('properties', {})\n",
    "        required_properties = schema.get('required', [])\n",
    "        value_generators = {}\n",
    "\n",
    "        for prop_name, prop_schema in properties.items():\n",
    "\n",
    "            nulls = include_nulls and (prop_name not in required_properties)\n",
    "\n",
    "            if prop_schema.get('type') == 'string':\n",
    "                value_generators[prop_name] = self.get_string_generator(prop_name, prop_schema, nulls)\n",
    "            elif prop_schema.get('type') == 'integer':\n",
    "                value_generators[prop_name] = lambda: None if nulls and random.random() < self.null_threshold \\\n",
    "                    else self._faker.random_int(min=0, max=1000)\n",
    "            elif prop_schema.get('type') == 'boolean':\n",
    "                value_generators[prop_name] = lambda: None if nulls and random.random() < self.null_threshold \\\n",
    "                    else self._faker.boolean()\n",
    "            elif prop_schema.get('type') == 'null' and nulls:\n",
    "                value_generators[prop_name] = lambda: None\n",
    "            else:\n",
    "                value_generators[prop_name] = lambda: None\n",
    "\n",
    "        return value_generators\n",
    "\n",
    "    def get_string_generator(self, property_name=None, prop_schema=None, include_nulls=True):\n",
    "        if \"enum\" in prop_schema:\n",
    "            return lambda: None if include_nulls and random.random() < self.null_threshold \\\n",
    "                else self._faker.random_element(elements=prop_schema[\"enum\"])\n",
    "        elif prop_schema.get(\"format\") == \"email\":\n",
    "            return lambda: None if include_nulls and random.random() < self.null_threshold else self._faker.email()\n",
    "\n",
    "        elif prop_schema.get(\"format\") == \"date\":\n",
    "            return lambda: None if include_nulls and random.random() < self.null_threshold else self._faker.date()\n",
    "\n",
    "        elif \"minLength\" in prop_schema or \"maxLength\" in prop_schema:\n",
    "            description = prop_schema.get(\"description\", \"\")\n",
    "\n",
    "            if (\"name\" in description.lower() and \"first\" in description.lower()) or \\\n",
    "               (\"name\" in property_name.lower() and \"first\" in property_name.lower()):\n",
    "                return lambda: None if include_nulls and random.random() < self.null_threshold \\\n",
    "                    else self._faker.first_name()\n",
    "\n",
    "            elif (\"name\" in description.lower() and \"last\" in description.lower()) or \\\n",
    "                 (\"name\" in property_name.lower() and \"last\" in property_name.lower()):\n",
    "                return lambda: None if include_nulls and random.random() < self.null_threshold \\\n",
    "                    else self._faker.last_name()\n",
    "\n",
    "            elif (\"name\" in description.lower() and \"middle\" in description.lower()) or \\\n",
    "                 (\"name\" in property_name.lower() and \"middle\" in property_name.lower()):\n",
    "                return lambda: None if include_nulls and random.random() < self.null_threshold \\\n",
    "                    else self._faker.random_element(elements=list(string.ascii_uppercase))\n",
    "\n",
    "            elif (\"name\" in description.lower() and \"prefix\" in description.lower()) or \\\n",
    "                 (\"name\" in property_name.lower() and \"prefix\" in property_name.lower()):\n",
    "                return lambda: None if include_nulls and random.random() < self.null_threshold else self._faker.prefix()\n",
    "\n",
    "            elif (\"name\" in description.lower() and \"suffix\" in description.lower()) or \\\n",
    "                 (\"name\" in property_name.lower() and \"suffix\" in property_name.lower()):\n",
    "                return lambda: None if include_nulls and random.random() < self.null_threshold else self._faker.suffix()\n",
    "\n",
    "            elif \"name\" in description.lower() or \"name\" in property_name.lower():\n",
    "                return lambda: None if include_nulls and random.random() < self.null_threshold else self._faker.name()\n",
    "\n",
    "            else:\n",
    "                return lambda: None if include_nulls and random.random() < self.null_threshold \\\n",
    "                    else self._faker.pystr(min_chars=prop_schema.get(\"minLength\", 1), max_chars=prop_schema.get(\"maxLength\", 10))\n",
    "        else:\n",
    "            return lambda: self._faker.pystr(min_chars=1,max_chars=10)"
   ]
  },
  {
   "cell_type": "code",
   "execution_count": null,
   "id": "bebfefd6",
   "metadata": {},
   "outputs": [],
   "source": [
    "def validate_json(json_data, target_schema=None) -> bool:\n",
    "    try:\n",
    "        jsonschema.validate(instance=json_data, schema=target_schema)\n",
    "        return True\n",
    "    except jsonschema.ValidationError as e:\n",
    "        print(f\"Validation error for object: {e}\")\n",
    "        return False"
   ]
  },
  {
   "cell_type": "code",
   "execution_count": null,
   "id": "d2545167",
   "metadata": {},
   "outputs": [],
   "source": [
    "def remove_none(d):\n",
    "    if isinstance(d, dict):\n",
    "        return {k: remove_none(v) for k, v in d.items() if v is not None}\n",
    "    elif isinstance(d, list):\n",
    "        return [remove_none(v) for v in d if v is not None]\n",
    "    else:\n",
    "        return d"
   ]
  },
  {
   "cell_type": "code",
   "execution_count": null,
   "id": "d847c5c8",
   "metadata": {},
   "outputs": [],
   "source": [
    "def get_nm1_segment(rec):\n",
    "    entity_identifier_code = rec.get(\"entity_identifier_code\", \"\")\n",
    "    entity_type_qualifier = rec.get(\"entity_type_qualifier\", \"\")\n",
    "    name_last_or_organization_name = rec.get(\"name_last_or_organizationName\", \"\")\n",
    "    name_first = rec.get(\"name_first\", \"\")\n",
    "    name_middle = rec.get(\"name_middle\", \"\")\n",
    "    name_prefix = rec.get(\"name_prefix\", \"\")\n",
    "    name_suffix = rec.get(\"name_suffix\", \"\")\n",
    "    identification_code_qualifier = rec.get(\"identification_code_qualifier\", \"\")\n",
    "    identification_code = rec.get(\"identification_code\", \"\")\n",
    "    return f\"NM1*{entity_identifier_code}*{entity_type_qualifier}*{name_last_or_organization_name}*{name_first}*{name_middle}*{name_prefix}*{name_suffix}*{identification_code_qualifier}*{identification_code}~\"\n",
    "\n"
   ]
  },
  {
   "cell_type": "code",
   "execution_count": null,
   "id": "0c8e554f",
   "metadata": {},
   "outputs": [],
   "source": [
    "with open(\"name_schema.json\", \"r\") as f:\n",
    "    schema = json.load(f)\n",
    "\n",
    "value_generator_utils = ValueGeneratorUtils()\n",
    "generators = value_generator_utils.get_property_value_generators(schema, include_nulls=True)\n",
    "\n",
    "\n",
    "with open(\"../data/combinations.jsonl\", \"w\") as outfile:\n",
    "    no_of_training_records = 100\n",
    "    records_generated = 0\n",
    "    while records_generated < no_of_training_records:\n",
    "        record = {}\n",
    "        for key, generator in generators.items():\n",
    "            record[key] = generator()\n",
    "\n",
    "        record['nm1_segment'] = get_nm1_segment(record)\n",
    "        record = remove_none(record)\n",
    "\n",
    "        if validate_json(record, schema):\n",
    "            json.dump(record, outfile)\n",
    "            outfile.write(\"\\n\")\n",
    "            records_generated += 1\n",
    "            print(record)"
   ]
  }
 ],
 "metadata": {
  "kernelspec": {
   "display_name": "base",
   "language": "python",
   "name": "python3"
  },
  "language_info": {
   "codemirror_mode": {
    "name": "ipython",
    "version": 3
   },
   "file_extension": ".py",
   "mimetype": "text/x-python",
   "name": "python",
   "nbconvert_exporter": "python",
   "pygments_lexer": "ipython3",
   "version": "3.13.2"
  }
 },
 "nbformat": 4,
 "nbformat_minor": 5
}
