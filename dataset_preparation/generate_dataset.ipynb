{
 "cells": [
  {
   "cell_type": "code",
   "execution_count": 4,
   "id": "d9cb5ab4",
   "metadata": {},
   "outputs": [
    {
     "name": "stdout",
     "output_type": "stream",
     "text": [
      "Requirement already satisfied: faker in c:\\users\\admin\\miniconda3\\lib\\site-packages (37.4.0)\n",
      "Requirement already satisfied: tzdata in c:\\users\\admin\\miniconda3\\lib\\site-packages (from faker) (2025.2)\n",
      "Note: you may need to restart the kernel to use updated packages.\n",
      "Requirement already satisfied: jsonschema in c:\\users\\admin\\miniconda3\\lib\\site-packages (4.23.0)\n",
      "Requirement already satisfied: attrs>=22.2.0 in c:\\users\\admin\\miniconda3\\lib\\site-packages (from jsonschema) (25.3.0)\n",
      "Requirement already satisfied: jsonschema-specifications>=2023.03.6 in c:\\users\\admin\\miniconda3\\lib\\site-packages (from jsonschema) (2025.4.1)\n",
      "Requirement already satisfied: referencing>=0.28.4 in c:\\users\\admin\\miniconda3\\lib\\site-packages (from jsonschema) (0.36.2)\n",
      "Requirement already satisfied: rpds-py>=0.7.1 in c:\\users\\admin\\miniconda3\\lib\\site-packages (from jsonschema) (0.22.3)\n",
      "Note: you may need to restart the kernel to use updated packages.\n"
     ]
    }
   ],
   "source": [
    "%pip install faker\n",
    "%pip install jsonschema"
   ]
  },
  {
   "cell_type": "code",
   "execution_count": null,
   "id": "6b210ba2",
   "metadata": {},
   "outputs": [],
   "source": [
    "\n",
    "def generate_data(schema: str, content: list[dict])-> dict:\n",
    "\n",
    "    messages = []\n",
    "    for index, message in enumerate(content):\n",
    "\n",
    "        if not isinstance(message, dict):\n",
    "            raise ValueError(\"Each message must be a dictionary.\")\n",
    "        \n",
    "        if index > 0:\n",
    "            messages.append({\n",
    "                \"role\": \"user\",\n",
    "                \"content\": message.get(\"user\", \"\")\n",
    "            })\n",
    "        else:\n",
    "            messages.append({\n",
    "                \"role\": \"user\",\n",
    "                \"content\": f\"\"\" You are a helpful assistant that generates JSON data based on JSON schemas.\n",
    "                Given the following JSON Schema, generate valid JSON object that conforms to it.\n",
    "\n",
    "                JSON Schema: {schema}\n",
    "\n",
    "                {message.get(\"user\", \"\")}\n",
    "                \"\"\"\n",
    "            })\n",
    "\n",
    "        messages.append({\n",
    "            \"role\": \"assistant\",\n",
    "            \"content\": message.get(\"assistant\", \"\")\n",
    "        })\n",
    "\n",
    "    data = {\n",
    "        \"messages\": messages\n",
    "    }\n",
    "\n",
    "    return data\n",
    "\n",
    "\n",
    "#Testing\n",
    "content = [\n",
    "    {\"user\": \"Generate a sample json\", \"assistant\": '{\"name\": \"John\", \"age\": 30}'},\n",
    "    {\"user\": \"Add another field\", \"assistant\": '{\"name\": \"John\", \"age\": 30, \"city\": \"New York\"}'}\n",
    "]\n",
    "\n",
    "generated_data = generate_data(\"A sample JSON schema\", content)\n",
    "\n",
    "print(generated_data)"
   ]
  },
  {
   "cell_type": "code",
   "execution_count": null,
   "id": "9bec5522",
   "metadata": {},
   "outputs": [],
   "source": [
    "from faker import Faker\n",
    "\n",
    "fake = Faker()\n",
    "\n",
    "def get_nm1_segment(entity_identifier_code, \n",
    "                    entity_type_qualifier, \n",
    "                    name_last_or_organizationName, \n",
    "                    name_first, \n",
    "                    name_middle, \n",
    "                    name_prefix, \n",
    "                    name_suffix, \n",
    "                    identification_code_qualifier, \n",
    "                    identification_code):\n",
    "    \n",
    "    seg = f\"NM1*{entity_identifier_code}*{entity_type_qualifier}*{name_last_or_organizationName}*{name_first}*{name_middle}*{name_prefix}*{name_suffix}*{identification_code_qualifier}*{identification_code}~\""
   ]
  },
  {
   "cell_type": "code",
   "execution_count": 10,
   "id": "cd5d7654",
   "metadata": {},
   "outputs": [
    {
     "name": "stdout",
     "output_type": "stream",
     "text": [
      "dict_keys(['entity_identifier_code', 'entity_type_qualifier', 'name_last_or_organizationName', 'name_first', 'name_middle', 'name_prefix', 'name_suffix', 'identification_code_qualifier', 'identification_code', 'nm1_segment'])\n"
     ]
    }
   ],
   "source": [
    "import json\n",
    "\n",
    "# Load a JSON Schema from a file\n",
    "with open(\"name_schema.json\", \"r\") as f:\n",
    "    schema = json.load(f)\n",
    "\n",
    "\n",
    "\n",
    "print(schema['properties'].keys())"
   ]
  },
  {
   "cell_type": "code",
   "execution_count": null,
   "id": "752d9c1d",
   "metadata": {},
   "outputs": [],
   "source": []
  },
  {
   "cell_type": "code",
   "execution_count": null,
   "id": "799d9791",
   "metadata": {},
   "outputs": [],
   "source": []
  },
  {
   "cell_type": "code",
   "execution_count": null,
   "id": "a0627d12",
   "metadata": {},
   "outputs": [],
   "source": []
  }
 ],
 "metadata": {
  "kernelspec": {
   "display_name": "base",
   "language": "python",
   "name": "python3"
  },
  "language_info": {
   "codemirror_mode": {
    "name": "ipython",
    "version": 3
   },
   "file_extension": ".py",
   "mimetype": "text/x-python",
   "name": "python",
   "nbconvert_exporter": "python",
   "pygments_lexer": "ipython3",
   "version": "3.13.2"
  }
 },
 "nbformat": 4,
 "nbformat_minor": 5
}
