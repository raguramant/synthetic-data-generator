{
 "cells": [
  {
   "cell_type": "code",
   "execution_count": 17,
   "id": "d9cb5ab4",
   "metadata": {},
   "outputs": [
    {
     "name": "stdout",
     "output_type": "stream",
     "text": [
      "Collecting faker\n",
      "  Downloading faker-37.4.0-py3-none-any.whl.metadata (15 kB)\n",
      "Requirement already satisfied: tzdata in c:\\users\\admin\\miniconda3\\lib\\site-packages (from faker) (2025.2)\n",
      "Downloading faker-37.4.0-py3-none-any.whl (1.9 MB)\n",
      "   ---------------------------------------- 0.0/1.9 MB ? eta -:--:--\n",
      "   ----- ---------------------------------- 0.3/1.9 MB ? eta -:--:--\n",
      "   --------------------- ------------------ 1.0/1.9 MB 3.0 MB/s eta 0:00:01\n",
      "   ---------------------------------------- 1.9/1.9 MB 3.6 MB/s eta 0:00:00\n",
      "Installing collected packages: faker\n",
      "Successfully installed faker-37.4.0\n"
     ]
    }
   ],
   "source": [
    "!pip install faker"
   ]
  },
  {
   "cell_type": "code",
   "execution_count": null,
   "id": "6b210ba2",
   "metadata": {},
   "outputs": [],
   "source": [
    "\n",
    "def generate_data(schema: str, content: list[dict])-> dict:\n",
    "\n",
    "    messages = []\n",
    "    for index, message in enumerate(content):\n",
    "\n",
    "        if not isinstance(message, dict):\n",
    "            raise ValueError(\"Each message must be a dictionary.\")\n",
    "        \n",
    "        if index > 0:\n",
    "            messages.append({\n",
    "                \"role\": \"user\",\n",
    "                \"content\": message.get(\"user\", \"\")\n",
    "            })\n",
    "        else:\n",
    "            messages.append({\n",
    "                \"role\": \"user\",\n",
    "                \"content\": f\"\"\" You are a helpful assistant that generates JSON data based on JSON schemas.\n",
    "                Given the following JSON Schema, generate valid JSON object that conforms to it.\n",
    "\n",
    "                JSON Schema: {schema}\n",
    "\n",
    "                {message.get(\"user\", \"\")}\n",
    "                \"\"\"\n",
    "            })\n",
    "\n",
    "        messages.append({\n",
    "            \"role\": \"assistant\",\n",
    "            \"content\": message.get(\"assistant\", \"\")\n",
    "        })\n",
    "\n",
    "    data = {\n",
    "        \"messages\": messages\n",
    "    }\n",
    "\n",
    "    return data\n",
    "\n",
    "\n",
    "#Testing\n",
    "content = [\n",
    "    {\"user\": \"Generate a sample json\", \"assistant\": '{\"name\": \"John\", \"age\": 30}'},\n",
    "    {\"user\": \"Add another field\", \"assistant\": '{\"name\": \"John\", \"age\": 30, \"city\": \"New York\"}'}\n",
    "]\n",
    "\n",
    "generated_data = generate_data(\"A sample JSON schema\", content)\n",
    "\n",
    "print(generated_data)"
   ]
  },
  {
   "cell_type": "code",
   "execution_count": 23,
   "id": "a0627d12",
   "metadata": {},
   "outputs": [
    {
     "name": "stdout",
     "output_type": "stream",
     "text": [
      "Debra Shelton\n",
      "906 Thomas Brook Apt. 558\n",
      "West Julie, IL 69200\n",
      "jasonwoods@example.net\n"
     ]
    }
   ],
   "source": [
    "from faker import Faker\n",
    "\n",
    "fake = Faker()\n",
    "\n",
    "print(fake.name())        # Generates a random name\n",
    "print(fake.address())     # Generates a random address\n",
    "print(fake.email()) "
   ]
  }
 ],
 "metadata": {
  "kernelspec": {
   "display_name": "base",
   "language": "python",
   "name": "python3"
  },
  "language_info": {
   "codemirror_mode": {
    "name": "ipython",
    "version": 3
   },
   "file_extension": ".py",
   "mimetype": "text/x-python",
   "name": "python",
   "nbconvert_exporter": "python",
   "pygments_lexer": "ipython3",
   "version": "3.13.2"
  }
 },
 "nbformat": 4,
 "nbformat_minor": 5
}
