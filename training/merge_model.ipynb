{
 "cells": [
  {
   "cell_type": "code",
   "execution_count": 1,
   "id": "6122924f",
   "metadata": {},
   "outputs": [
    {
     "name": "stdout",
     "output_type": "stream",
     "text": [
      "Requirement already satisfied: transformers in c:\\users\\admin\\miniconda3\\envs\\gguf\\lib\\site-packages (4.55.0)\n",
      "Requirement already satisfied: peft in c:\\users\\admin\\miniconda3\\envs\\gguf\\lib\\site-packages (0.17.0)\n",
      "Requirement already satisfied: regex in c:\\users\\admin\\miniconda3\\envs\\gguf\\lib\\site-packages (2025.7.34)\n",
      "Collecting bitsandbytes\n",
      "  Downloading bitsandbytes-0.46.1-py3-none-win_amd64.whl.metadata (10 kB)\n",
      "Requirement already satisfied: filelock in c:\\users\\admin\\miniconda3\\envs\\gguf\\lib\\site-packages (from transformers) (3.17.0)\n",
      "Requirement already satisfied: huggingface-hub<1.0,>=0.34.0 in c:\\users\\admin\\miniconda3\\envs\\gguf\\lib\\site-packages (from transformers) (0.34.4)\n",
      "Requirement already satisfied: numpy>=1.17 in c:\\users\\admin\\miniconda3\\envs\\gguf\\lib\\site-packages (from transformers) (1.26.4)\n",
      "Requirement already satisfied: packaging>=20.0 in c:\\users\\admin\\miniconda3\\envs\\gguf\\lib\\site-packages (from transformers) (25.0)\n",
      "Requirement already satisfied: pyyaml>=5.1 in c:\\users\\admin\\miniconda3\\envs\\gguf\\lib\\site-packages (from transformers) (6.0.2)\n",
      "Requirement already satisfied: requests in c:\\users\\admin\\miniconda3\\envs\\gguf\\lib\\site-packages (from transformers) (2.32.4)\n",
      "Requirement already satisfied: tokenizers<0.22,>=0.21 in c:\\users\\admin\\miniconda3\\envs\\gguf\\lib\\site-packages (from transformers) (0.21.0)\n",
      "Requirement already satisfied: safetensors>=0.4.3 in c:\\users\\admin\\miniconda3\\envs\\gguf\\lib\\site-packages (from transformers) (0.5.3)\n",
      "Requirement already satisfied: tqdm>=4.27 in c:\\users\\admin\\miniconda3\\envs\\gguf\\lib\\site-packages (from transformers) (4.67.1)\n",
      "Requirement already satisfied: fsspec>=2023.5.0 in c:\\users\\admin\\miniconda3\\envs\\gguf\\lib\\site-packages (from huggingface-hub<1.0,>=0.34.0->transformers) (2024.12.0)\n",
      "Requirement already satisfied: typing-extensions>=3.7.4.3 in c:\\users\\admin\\miniconda3\\envs\\gguf\\lib\\site-packages (from huggingface-hub<1.0,>=0.34.0->transformers) (4.12.2)\n",
      "Requirement already satisfied: psutil in c:\\users\\admin\\miniconda3\\envs\\gguf\\lib\\site-packages (from peft) (5.9.0)\n",
      "Requirement already satisfied: torch>=1.13.0 in c:\\users\\admin\\miniconda3\\envs\\gguf\\lib\\site-packages (from peft) (2.4.1+cpu)\n",
      "Requirement already satisfied: accelerate>=0.21.0 in c:\\users\\admin\\miniconda3\\envs\\gguf\\lib\\site-packages (from peft) (1.10.0)\n",
      "Requirement already satisfied: sympy in c:\\users\\admin\\miniconda3\\envs\\gguf\\lib\\site-packages (from torch>=1.13.0->peft) (1.14.0)\n",
      "Requirement already satisfied: networkx in c:\\users\\admin\\miniconda3\\envs\\gguf\\lib\\site-packages (from torch>=1.13.0->peft) (3.5)\n",
      "Requirement already satisfied: jinja2 in c:\\users\\admin\\miniconda3\\envs\\gguf\\lib\\site-packages (from torch>=1.13.0->peft) (3.1.6)\n",
      "Requirement already satisfied: setuptools in c:\\users\\admin\\miniconda3\\envs\\gguf\\lib\\site-packages (from torch>=1.13.0->peft) (72.1.0)\n",
      "Requirement already satisfied: colorama in c:\\users\\admin\\miniconda3\\envs\\gguf\\lib\\site-packages (from tqdm>=4.27->transformers) (0.4.6)\n",
      "Requirement already satisfied: MarkupSafe>=2.0 in c:\\users\\admin\\miniconda3\\envs\\gguf\\lib\\site-packages (from jinja2->torch>=1.13.0->peft) (3.0.2)\n",
      "Requirement already satisfied: charset_normalizer<4,>=2 in c:\\users\\admin\\miniconda3\\envs\\gguf\\lib\\site-packages (from requests->transformers) (3.3.2)\n",
      "Requirement already satisfied: idna<4,>=2.5 in c:\\users\\admin\\miniconda3\\envs\\gguf\\lib\\site-packages (from requests->transformers) (3.7)\n",
      "Requirement already satisfied: urllib3<3,>=1.21.1 in c:\\users\\admin\\miniconda3\\envs\\gguf\\lib\\site-packages (from requests->transformers) (2.5.0)\n",
      "Requirement already satisfied: certifi>=2017.4.17 in c:\\users\\admin\\miniconda3\\envs\\gguf\\lib\\site-packages (from requests->transformers) (2025.8.3)\n",
      "Requirement already satisfied: mpmath<1.4,>=1.1.0 in c:\\users\\admin\\miniconda3\\envs\\gguf\\lib\\site-packages (from sympy->torch>=1.13.0->peft) (1.3.0)\n",
      "Downloading bitsandbytes-0.46.1-py3-none-win_amd64.whl (72.2 MB)\n",
      "   ---------------------------------------- 0.0/72.2 MB ? eta -:--:--\n",
      "   - -------------------------------------- 2.4/72.2 MB 15.0 MB/s eta 0:00:05\n",
      "   -- ------------------------------------- 4.2/72.2 MB 12.0 MB/s eta 0:00:06\n",
      "   --- ------------------------------------ 5.8/72.2 MB 10.1 MB/s eta 0:00:07\n",
      "   ---- ----------------------------------- 7.6/72.2 MB 9.6 MB/s eta 0:00:07\n",
      "   ----- ---------------------------------- 10.2/72.2 MB 10.3 MB/s eta 0:00:07\n",
      "   ------ --------------------------------- 12.6/72.2 MB 10.5 MB/s eta 0:00:06\n",
      "   -------- ------------------------------- 14.9/72.2 MB 10.6 MB/s eta 0:00:06\n",
      "   --------- ------------------------------ 17.3/72.2 MB 10.6 MB/s eta 0:00:06\n",
      "   ---------- ----------------------------- 19.7/72.2 MB 10.6 MB/s eta 0:00:05\n",
      "   ------------ --------------------------- 22.0/72.2 MB 10.8 MB/s eta 0:00:05\n",
      "   ------------- -------------------------- 24.6/72.2 MB 11.0 MB/s eta 0:00:05\n",
      "   --------------- ------------------------ 28.0/72.2 MB 11.4 MB/s eta 0:00:04\n",
      "   ----------------- ---------------------- 31.5/72.2 MB 11.7 MB/s eta 0:00:04\n",
      "   ------------------- -------------------- 35.1/72.2 MB 12.2 MB/s eta 0:00:04\n",
      "   --------------------- ------------------ 38.3/72.2 MB 12.4 MB/s eta 0:00:03\n",
      "   ---------------------- ----------------- 41.4/72.2 MB 12.7 MB/s eta 0:00:03\n",
      "   ------------------------ --------------- 44.8/72.2 MB 12.9 MB/s eta 0:00:03\n",
      "   -------------------------- ------------- 48.5/72.2 MB 13.1 MB/s eta 0:00:02\n",
      "   ----------------------------- ---------- 52.7/72.2 MB 13.5 MB/s eta 0:00:02\n",
      "   ------------------------------- -------- 56.4/72.2 MB 13.7 MB/s eta 0:00:02\n",
      "   --------------------------------- ------ 60.0/72.2 MB 13.9 MB/s eta 0:00:01\n",
      "   ----------------------------------- ---- 63.7/72.2 MB 14.1 MB/s eta 0:00:01\n",
      "   ------------------------------------- -- 67.9/72.2 MB 14.3 MB/s eta 0:00:01\n",
      "   ---------------------------------------  71.6/72.2 MB 14.5 MB/s eta 0:00:01\n",
      "   ---------------------------------------- 72.2/72.2 MB 14.3 MB/s eta 0:00:00\n",
      "Installing collected packages: bitsandbytes\n",
      "Successfully installed bitsandbytes-0.46.1\n",
      "Note: you may need to restart the kernel to use updated packages.\n"
     ]
    }
   ],
   "source": [
    "%pip install --upgrade transformers peft regex bitsandbytes\n"
   ]
  },
  {
   "cell_type": "code",
   "execution_count": 2,
   "id": "f2bb0fa3",
   "metadata": {},
   "outputs": [
    {
     "name": "stderr",
     "output_type": "stream",
     "text": [
      "c:\\Users\\Admin\\miniconda3\\envs\\gguf\\Lib\\site-packages\\tqdm\\auto.py:21: TqdmWarning: IProgress not found. Please update jupyter and ipywidgets. See https://ipywidgets.readthedocs.io/en/stable/user_install.html\n",
      "  from .autonotebook import tqdm as notebook_tqdm\n",
      "Loading checkpoint shards: 100%|██████████| 3/3 [00:11<00:00,  3.83s/it]\n",
      "The installed version of bitsandbytes was compiled without GPU support. 8-bit optimizers and GPU quantization are unavailable.\n"
     ]
    },
    {
     "name": "stdout",
     "output_type": "stream",
     "text": [
      "<class 'peft.peft_model.PeftModel'>\n",
      "<class 'transformers.models.mistral.modeling_mistral.MistralForCausalLM'>\n",
      "Merged model saved to ../mlruns/232166607607031798/7aceb521194d4286be3e485efc1272f8/artifacts/adapters/epoch-6/merged\n"
     ]
    }
   ],
   "source": [
    "from transformers import AutoModelForCausalLM, AutoTokenizer, BitsAndBytesConfig\n",
    "from peft import PeftModel\n",
    "import torch\n",
    "\n",
    "BASE_MODEL = \"mistralai/Mistral-7B-Instruct-v0.3\"  # or path to your base model\n",
    "LORA_PATH = \"../mlruns/232166607607031798/7aceb521194d4286be3e485efc1272f8/artifacts/adapters/epoch-6\"                   # path to your LoRA folder\n",
    "MERGED_PATH = f\"../mlruns/232166607607031798/7aceb521194d4286be3e485efc1272f8/artifacts/adapters/epoch-6/merged\"                 # where merged model will be saved\n",
    "\n",
    "\n",
    "quantization_config = BitsAndBytesConfig(\n",
    "    load_in_4bit=True,\n",
    "    bnb_4bit_use_double_quant=True,\n",
    "    bnb_4bit_compute_dtype=\"float16\",\n",
    "    bnb_4bit_quant_type=\"nf4\"\n",
    ")\n",
    "\n",
    "base_model = AutoModelForCausalLM.from_pretrained(BASE_MODEL, \n",
    "                                                    # quantization_config=quantization_config , \n",
    "                                                    torch_dtype=torch.float16,\n",
    "                                                    device_map=\"cpu\")\n",
    "    \n",
    "model = PeftModel.from_pretrained(base_model, LORA_PATH)\n",
    "tokenizer = AutoTokenizer.from_pretrained(LORA_PATH)\n",
    "\n",
    "print(type(model))\n",
    "\n",
    "model = model.merge_and_unload()  # merges LoRA weights into base weights\n",
    "\n",
    "print(type(model))\n",
    "\n",
    "model = model.half()\n",
    "\n",
    "# Save merged model in Hugging Face format\n",
    "model.save_pretrained(MERGED_PATH, safe_serialization=True)\n",
    "tokenizer.save_pretrained(MERGED_PATH)\n",
    "\n",
    "print(f\"Merged model saved to {MERGED_PATH}\")\n"
   ]
  },
  {
   "cell_type": "code",
   "execution_count": 3,
   "id": "b114ec63",
   "metadata": {},
   "outputs": [],
   "source": [
    "# python .\\convert_hf_to_gguf.py C:\\Users\\Admin\\Documents\\Projects\\Repositories\\synthetic-data-generator\\mlruns\\232166607607031798\\7aceb521194d4286be3e485efc1272f8\\artifacts\\adapters\\epoch-6\\merged --outfile C:\\Users\\Admin\\Documents\\Projects\\Repositories\\synthetic-data-generator\\mlruns\\232166607607031798\\7aceb521194d4286be3e485efc1272f8\\artifacts\\adapters\\epoch-6\\merged\\mistral7b-merged-f16.gguf --outtype f16"
   ]
  }
 ],
 "metadata": {
  "kernelspec": {
   "display_name": "gguf",
   "language": "python",
   "name": "python3"
  },
  "language_info": {
   "codemirror_mode": {
    "name": "ipython",
    "version": 3
   },
   "file_extension": ".py",
   "mimetype": "text/x-python",
   "name": "python",
   "nbconvert_exporter": "python",
   "pygments_lexer": "ipython3",
   "version": "3.12.11"
  }
 },
 "nbformat": 4,
 "nbformat_minor": 5
}
