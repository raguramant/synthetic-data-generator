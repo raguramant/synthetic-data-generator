{
 "cells": [
  {
   "cell_type": "code",
   "execution_count": 1,
   "id": "f08fc88f",
   "metadata": {},
   "outputs": [
    {
     "name": "stdout",
     "output_type": "stream",
     "text": [
      "Requirement already satisfied: bitsandbytes in c:\\users\\admin\\miniconda3\\lib\\site-packages (0.46.0)\n",
      "Requirement already satisfied: accelerate in c:\\users\\admin\\miniconda3\\lib\\site-packages (1.7.0)\n",
      "Requirement already satisfied: torch<3,>=2.2 in c:\\users\\admin\\miniconda3\\lib\\site-packages (from bitsandbytes) (2.7.0+cu128)\n",
      "Requirement already satisfied: numpy>=1.17 in c:\\users\\admin\\miniconda3\\lib\\site-packages (from bitsandbytes) (2.2.6)\n",
      "Requirement already satisfied: packaging>=20.0 in c:\\users\\admin\\miniconda3\\lib\\site-packages (from accelerate) (24.2)\n",
      "Requirement already satisfied: psutil in c:\\users\\admin\\miniconda3\\lib\\site-packages (from accelerate) (5.9.0)\n",
      "Requirement already satisfied: pyyaml in c:\\users\\admin\\miniconda3\\lib\\site-packages (from accelerate) (6.0.2)\n",
      "Requirement already satisfied: huggingface-hub>=0.21.0 in c:\\users\\admin\\miniconda3\\lib\\site-packages (from accelerate) (0.33.0)\n",
      "Requirement already satisfied: safetensors>=0.4.3 in c:\\users\\admin\\miniconda3\\lib\\site-packages (from accelerate) (0.5.3)\n",
      "Requirement already satisfied: filelock in c:\\users\\admin\\miniconda3\\lib\\site-packages (from huggingface-hub>=0.21.0->accelerate) (3.18.0)\n",
      "Requirement already satisfied: fsspec>=2023.5.0 in c:\\users\\admin\\miniconda3\\lib\\site-packages (from huggingface-hub>=0.21.0->accelerate) (2025.3.0)\n",
      "Requirement already satisfied: requests in c:\\users\\admin\\miniconda3\\lib\\site-packages (from huggingface-hub>=0.21.0->accelerate) (2.32.3)\n",
      "Requirement already satisfied: tqdm>=4.42.1 in c:\\users\\admin\\miniconda3\\lib\\site-packages (from huggingface-hub>=0.21.0->accelerate) (4.67.1)\n",
      "Requirement already satisfied: typing-extensions>=3.7.4.3 in c:\\users\\admin\\miniconda3\\lib\\site-packages (from huggingface-hub>=0.21.0->accelerate) (4.12.2)\n",
      "Requirement already satisfied: sympy>=1.13.3 in c:\\users\\admin\\miniconda3\\lib\\site-packages (from torch<3,>=2.2->bitsandbytes) (1.14.0)\n",
      "Requirement already satisfied: networkx in c:\\users\\admin\\miniconda3\\lib\\site-packages (from torch<3,>=2.2->bitsandbytes) (3.4.2)\n",
      "Requirement already satisfied: jinja2 in c:\\users\\admin\\miniconda3\\lib\\site-packages (from torch<3,>=2.2->bitsandbytes) (3.1.6)\n",
      "Requirement already satisfied: setuptools in c:\\users\\admin\\miniconda3\\lib\\site-packages (from torch<3,>=2.2->bitsandbytes) (78.1.1)\n",
      "Requirement already satisfied: mpmath<1.4,>=1.1.0 in c:\\users\\admin\\miniconda3\\lib\\site-packages (from sympy>=1.13.3->torch<3,>=2.2->bitsandbytes) (1.3.0)\n",
      "Requirement already satisfied: colorama in c:\\users\\admin\\miniconda3\\lib\\site-packages (from tqdm>=4.42.1->huggingface-hub>=0.21.0->accelerate) (0.4.6)\n",
      "Requirement already satisfied: MarkupSafe>=2.0 in c:\\users\\admin\\miniconda3\\lib\\site-packages (from jinja2->torch<3,>=2.2->bitsandbytes) (3.0.2)\n",
      "Requirement already satisfied: charset-normalizer<4,>=2 in c:\\users\\admin\\miniconda3\\lib\\site-packages (from requests->huggingface-hub>=0.21.0->accelerate) (3.3.2)\n",
      "Requirement already satisfied: idna<4,>=2.5 in c:\\users\\admin\\miniconda3\\lib\\site-packages (from requests->huggingface-hub>=0.21.0->accelerate) (3.7)\n",
      "Requirement already satisfied: urllib3<3,>=1.21.1 in c:\\users\\admin\\miniconda3\\lib\\site-packages (from requests->huggingface-hub>=0.21.0->accelerate) (2.3.0)\n",
      "Requirement already satisfied: certifi>=2017.4.17 in c:\\users\\admin\\miniconda3\\lib\\site-packages (from requests->huggingface-hub>=0.21.0->accelerate) (2025.4.26)\n",
      "Note: you may need to restart the kernel to use updated packages.\n"
     ]
    }
   ],
   "source": [
    "%pip install bitsandbytes accelerate"
   ]
  },
  {
   "cell_type": "markdown",
   "id": "4855e895",
   "metadata": {},
   "source": [
    "### Login to Huggingface"
   ]
  },
  {
   "cell_type": "code",
   "execution_count": 2,
   "id": "8fc7b09a",
   "metadata": {},
   "outputs": [
    {
     "data": {
      "application/vnd.jupyter.widget-view+json": {
       "model_id": "110559652e804f44bebeb242dd9441f5",
       "version_major": 2,
       "version_minor": 0
      },
      "text/plain": [
       "VBox(children=(HTML(value='<center> <img\\nsrc=https://huggingface.co/front/assets/huggingface_logo-noborder.sv…"
      ]
     },
     "metadata": {},
     "output_type": "display_data"
    }
   ],
   "source": [
    "from huggingface_hub import notebook_login\n",
    "notebook_login()"
   ]
  },
  {
   "cell_type": "markdown",
   "id": "f6ebd775",
   "metadata": {},
   "source": [
    "### Load the model"
   ]
  },
  {
   "cell_type": "code",
   "execution_count": 3,
   "id": "ddca8082",
   "metadata": {},
   "outputs": [
    {
     "data": {
      "application/vnd.jupyter.widget-view+json": {
       "model_id": "4ca006645d444ed087855c4f8596faee",
       "version_major": 2,
       "version_minor": 0
      },
      "text/plain": [
       "Loading checkpoint shards:   0%|          | 0/3 [00:00<?, ?it/s]"
      ]
     },
     "metadata": {},
     "output_type": "display_data"
    }
   ],
   "source": [
    "from transformers import AutoModelForCausalLM, AutoTokenizer, BitsAndBytesConfig\n",
    "from peft import prepare_model_for_kbit_training\n",
    "import torch\n",
    "\n",
    "#model = AutoModelForCausalLM.from_pretrained(\"mistralai/Mistral-7B-Instruct-v0.3\", trust_remote_code=True)\n",
    "\n",
    "model_name = \"mistralai/Mistral-7B-Instruct-v0.3\"\n",
    "\n",
    "# quantization_config  = BitsAndBytesConfig(\n",
    "#     load_in_8bit=True, \n",
    "#     llm_int8_enable_fp32_cpu_offload=True\n",
    "# )\n",
    "\n",
    "quantization_config = BitsAndBytesConfig(\n",
    "    load_in_4bit=True,\n",
    "    bnb_4bit_use_double_quant=True,\n",
    "    bnb_4bit_compute_dtype=\"float16\",\n",
    "    bnb_4bit_quant_type=\"nf4\"\n",
    ")\n",
    "\n",
    "model = AutoModelForCausalLM.from_pretrained(\n",
    "    model_name,\n",
    "    quantization_config=quantization_config ,\n",
    "    device_map=\"auto\",\n",
    "    trust_remote_code=True\n",
    ")\n",
    "\n",
    "\n",
    "model = prepare_model_for_kbit_training(model)"
   ]
  },
  {
   "cell_type": "code",
   "execution_count": 4,
   "id": "b7458813",
   "metadata": {},
   "outputs": [],
   "source": [
    "# next(model.parameters()).dtype\n",
    "\n",
    "# for name, module in model.named_modules():\n",
    "#     print(name)"
   ]
  },
  {
   "cell_type": "markdown",
   "id": "82bf4511",
   "metadata": {},
   "source": [
    "### Configure PEFT"
   ]
  },
  {
   "cell_type": "code",
   "execution_count": 5,
   "id": "e630054e",
   "metadata": {},
   "outputs": [
    {
     "name": "stdout",
     "output_type": "stream",
     "text": [
      "trainable params: 13,631,488 || all params: 7,261,655,040 || trainable%: 0.1877\n"
     ]
    }
   ],
   "source": [
    "from peft import LoraConfig, get_peft_model\n",
    "\n",
    "config = LoraConfig(\n",
    "    r=16,\n",
    "    lora_alpha=16,\n",
    "    target_modules=[\"q_proj\", \"k_proj\", \"v_proj\", \"o_proj\"],\n",
    "    lora_dropout=0.1,\n",
    "    bias=\"none\"\n",
    ")\n",
    "model = get_peft_model(model, config)\n",
    "model.print_trainable_parameters()\n"
   ]
  },
  {
   "cell_type": "code",
   "execution_count": 6,
   "id": "6daa7266",
   "metadata": {},
   "outputs": [
    {
     "data": {
      "text/plain": [
       "1"
      ]
     },
     "execution_count": 6,
     "metadata": {},
     "output_type": "execute_result"
    }
   ],
   "source": [
    "len(model.peft_config)"
   ]
  },
  {
   "cell_type": "markdown",
   "id": "ec7fa15c",
   "metadata": {},
   "source": [
    "### Load Dataset"
   ]
  },
  {
   "cell_type": "code",
   "execution_count": 7,
   "id": "1f4b21ff",
   "metadata": {},
   "outputs": [
    {
     "data": {
      "application/vnd.jupyter.widget-view+json": {
       "model_id": "ea7061eeac354f2586c0d0ea1f946195",
       "version_major": 2,
       "version_minor": 0
      },
      "text/plain": [
       "Generating train split: 0 examples [00:00, ? examples/s]"
      ]
     },
     "metadata": {},
     "output_type": "display_data"
    },
    {
     "data": {
      "application/vnd.jupyter.widget-view+json": {
       "model_id": "85767e18cdc047b2a507db1705b0db1f",
       "version_major": 2,
       "version_minor": 0
      },
      "text/plain": [
       "Map:   0%|          | 0/100 [00:00<?, ? examples/s]"
      ]
     },
     "metadata": {},
     "output_type": "display_data"
    },
    {
     "name": "stdout",
     "output_type": "stream",
     "text": [
      "Dataset({\n",
      "    features: ['input_ids', 'attention_mask', 'labels'],\n",
      "    num_rows: 100\n",
      "})\n"
     ]
    }
   ],
   "source": [
    "from datasets import load_dataset, Dataset\n",
    "from transformers import AutoTokenizer, AutoConfig\n",
    "\n",
    "\n",
    "raw_dataset = load_dataset(\"json\", data_files=\"../data/combinations.jsonl\")[\"train\"]\n",
    "\n",
    "tokenizer = AutoTokenizer.from_pretrained(model_name, use_fast=True)\n",
    "tokenizer.pad_token = tokenizer.eos_token\n",
    "config = AutoConfig.from_pretrained(model_name)\n",
    "MAX_LENGTH = 1500\n",
    "\n",
    "\n",
    "def tokenize_with_loss_mask(example):\n",
    "    chat_str = tokenizer.apply_chat_template(example[\"messages\"], tokenize=False)\n",
    "    tokenized = tokenizer(chat_str, truncation=True, padding=\"max_length\", max_length=MAX_LENGTH)\n",
    "\n",
    "    input_ids = tokenized[\"input_ids\"]\n",
    "    labels = []\n",
    "\n",
    "    seq_start_idx = 0 # start of sequence\n",
    "    total_length = len(chat_str)\n",
    "\n",
    "    while seq_start_idx < total_length:\n",
    "\n",
    "        # print(\"-----------------------\")\n",
    "        seq_end_idx = chat_str.find(\"</s>\", seq_start_idx)+ len(\"</s>\") # end of sequence\n",
    "        if seq_end_idx == -1:\n",
    "            break\n",
    "\n",
    "        sequence = chat_str[seq_start_idx:seq_end_idx]\n",
    "        end_user_idx = sequence.find(\"[/INST]\")+ len(\"[/INST]\") # end of user message\n",
    "        end_assistant_idx = sequence.find(\"</s>\")\n",
    "        user_content = sequence[:end_user_idx]\n",
    "        assistant_content = sequence[end_user_idx:end_assistant_idx]\n",
    "\n",
    "        seq_tokens = tokenizer(sequence, add_special_tokens=False)[\"input_ids\"]\n",
    "        user_tokens = tokenizer(user_content, add_special_tokens=False)[\"input_ids\"]\n",
    "        assistant_tokens = tokenizer(assistant_content, add_special_tokens=False)[\"input_ids\"]\n",
    "        \n",
    "        labels.extend([-100] * len(user_tokens))\n",
    "        labels.extend(assistant_tokens)\n",
    "        labels.extend([-100] * (len(seq_tokens) - len(user_tokens) - len(assistant_tokens)))\n",
    "        \n",
    "        seq_start_idx = seq_end_idx\n",
    "\n",
    "    labels = [-100] * (len(input_ids) - len(labels)) + labels  # Pad to max length\n",
    "\n",
    "    tokenized[\"labels\"] = labels\n",
    "    if len(tokenized[\"input_ids\"]) > MAX_LENGTH:\n",
    "        print(\"Warning: Input sequence exceeds max length for inputs, truncating.\")\n",
    "    if len(tokenized[\"labels\"]) > MAX_LENGTH:\n",
    "        print(\"Warning: Input sequence exceeds max length for labels, truncating.\")\n",
    "    if len(tokenized[\"input_ids\"]) != len(tokenized[\"labels\"]):\n",
    "        print(\"Error: Input and label lengths do not match after processing.\")\n",
    "\n",
    "    return tokenized\n",
    "\n",
    "\n",
    "tokenized_dataset = raw_dataset.map(tokenize_with_loss_mask, remove_columns=raw_dataset.column_names)\n",
    "print(tokenized_dataset)\n"
   ]
  },
  {
   "cell_type": "code",
   "execution_count": 8,
   "id": "0656176e",
   "metadata": {},
   "outputs": [],
   "source": [
    "# from datasets import load_dataset, Dataset\n",
    "# from transformers import AutoTokenizer\n",
    "\n",
    "\n",
    "# raw_dataset = load_dataset(\"json\", data_files=\"../data/combinations.jsonl\")[\"train\"]\n",
    "\n",
    "\n",
    "# tokenizer = AutoTokenizer.from_pretrained(model_name, use_fast=True)\n",
    "# tokenizer.pad_token = tokenizer.eos_token\n",
    "\n",
    "# def tokenize(example):\n",
    "#     model_inputs = tokenizer(\n",
    "#         tokenizer.apply_chat_template(example[\"messages\"], tokenize=False),\n",
    "#         truncation=True,\n",
    "#         padding=\"max_length\",\n",
    "#         max_length=1024\n",
    "#     )\n",
    "#     model_inputs[\"labels\"] = model_inputs[\"input_ids\"].copy()\n",
    "#     return model_inputs\n",
    "\n",
    "# tokenized_dataset = raw_dataset.map(tokenize)\n",
    "\n",
    "# tokenized_dataset"
   ]
  },
  {
   "cell_type": "markdown",
   "id": "8e8eecef",
   "metadata": {},
   "source": [
    "### Tune the model"
   ]
  },
  {
   "cell_type": "code",
   "execution_count": 9,
   "id": "266488a1",
   "metadata": {},
   "outputs": [
    {
     "name": "stderr",
     "output_type": "stream",
     "text": [
      "`use_cache=True` is incompatible with gradient checkpointing. Setting `use_cache=False`.\n"
     ]
    },
    {
     "data": {
      "text/html": [
       "\n",
       "    <div>\n",
       "      \n",
       "      <progress value='39' max='39' style='width:300px; height:20px; vertical-align: middle;'></progress>\n",
       "      [39/39 07:26, Epoch 3/3]\n",
       "    </div>\n",
       "    <table border=\"1\" class=\"dataframe\">\n",
       "  <thead>\n",
       " <tr style=\"text-align: left;\">\n",
       "      <th>Step</th>\n",
       "      <th>Training Loss</th>\n",
       "    </tr>\n",
       "  </thead>\n",
       "  <tbody>\n",
       "    <tr>\n",
       "      <td>10</td>\n",
       "      <td>0.758100</td>\n",
       "    </tr>\n",
       "    <tr>\n",
       "      <td>20</td>\n",
       "      <td>0.551200</td>\n",
       "    </tr>\n",
       "    <tr>\n",
       "      <td>30</td>\n",
       "      <td>0.658500</td>\n",
       "    </tr>\n",
       "  </tbody>\n",
       "</table><p>"
      ],
      "text/plain": [
       "<IPython.core.display.HTML object>"
      ]
     },
     "metadata": {},
     "output_type": "display_data"
    },
    {
     "data": {
      "text/plain": [
       "TrainOutput(global_step=39, training_loss=0.6347006284273587, metrics={'train_runtime': 459.6668, 'train_samples_per_second': 0.653, 'train_steps_per_second': 0.085, 'total_flos': 1.92440807424e+16, 'train_loss': 0.6347006284273587, 'epoch': 3.0})"
      ]
     },
     "execution_count": 9,
     "metadata": {},
     "output_type": "execute_result"
    }
   ],
   "source": [
    "from transformers import TrainingArguments, Trainer\n",
    "\n",
    "training_args = TrainingArguments(\n",
    "    per_device_train_batch_size=1,#2\n",
    "    gradient_accumulation_steps=8,#4\n",
    "    num_train_epochs=3,\n",
    "    learning_rate=2e-4,\n",
    "    fp16=True,\n",
    "    logging_steps=10,#10\n",
    "    save_steps=500,\n",
    "    output_dir=\"../output\",\n",
    "    label_names=[\"labels\"],\n",
    "    disable_tqdm=False,\n",
    "    gradient_checkpointing=True\n",
    ")\n",
    "\n",
    "trainer = Trainer(\n",
    "    model=model,\n",
    "    train_dataset=tokenized_dataset,\n",
    "    args=training_args\n",
    ")\n",
    "\n",
    "trainer.train()\n"
   ]
  },
  {
   "cell_type": "markdown",
   "id": "10336065",
   "metadata": {},
   "source": [
    "### Evaluate"
   ]
  },
  {
   "cell_type": "code",
   "execution_count": 10,
   "id": "150f5035",
   "metadata": {},
   "outputs": [],
   "source": [
    "import json\n",
    "from jsonschema import validate, ValidationError\n",
    "\n",
    "# Check if a string is valid JSON\n",
    "def is_valid_json(s):\n",
    "    try:\n",
    "        json.loads(s)\n",
    "        return True\n",
    "    except json.JSONDecodeError:\n",
    "        return False\n",
    "    \n",
    "\n",
    "# Validate a JSON string against a schema\n",
    "def is_valid_json_schema(json_str, schema):\n",
    "    try:\n",
    "        data = json.loads(json_str)\n",
    "        validate(instance=data, schema=schema)\n",
    "        return True\n",
    "    except (json.JSONDecodeError, ValidationError):\n",
    "        return False\n",
    "    \n",
    "# Compare two JSON strings at field level and match field values\n",
    "def compare_json_field_values(json_ref, json_gen):\n",
    "    try:\n",
    "        obj1 = json.loads(json_ref)\n",
    "        obj2 = json.loads(json_gen)\n",
    "    except json.JSONDecodeError:\n",
    "        return {\"error\": \"Invalid JSON input.\",\"percentage\": 0}\n",
    "    matching_fields = []\n",
    "    matching_values = 0\n",
    "    total_fields = max(len(obj1), len(obj2))\n",
    "    for key in obj1:\n",
    "        if key in obj2:\n",
    "            matching_fields.append(key)\n",
    "            if obj1[key] == obj2[key]:\n",
    "                matching_values += 1\n",
    "    score = matching_values\n",
    "    percentage = score / total_fields if total_fields > 0 else 0\n",
    "    return {\n",
    "        \"matching_fields\": matching_fields,\n",
    "        \"matching_values\": score,\n",
    "        \"total_fields\": total_fields,\n",
    "        \"percentage\": percentage\n",
    "    }\n",
    "\n"
   ]
  },
  {
   "cell_type": "markdown",
   "id": "aeefcfcf",
   "metadata": {},
   "source": [
    "### Save the model"
   ]
  },
  {
   "cell_type": "code",
   "execution_count": null,
   "id": "d24ffc08",
   "metadata": {},
   "outputs": [],
   "source": []
  }
 ],
 "metadata": {
  "kernelspec": {
   "display_name": "base",
   "language": "python",
   "name": "python3"
  },
  "language_info": {
   "codemirror_mode": {
    "name": "ipython",
    "version": 3
   },
   "file_extension": ".py",
   "mimetype": "text/x-python",
   "name": "python",
   "nbconvert_exporter": "python",
   "pygments_lexer": "ipython3",
   "version": "3.13.2"
  }
 },
 "nbformat": 4,
 "nbformat_minor": 5
}
